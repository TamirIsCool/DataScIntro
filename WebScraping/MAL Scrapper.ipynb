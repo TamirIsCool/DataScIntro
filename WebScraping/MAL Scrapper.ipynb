{
 "cells": [
  {
   "cell_type": "markdown",
   "id": "88789edb",
   "metadata": {},
   "source": [
    "## MyAnimeList Top Anime Scrapper ##\n",
    "\n",
    "This script scrapes data regarding the top animes as rated on MyAnimeList (MAL) https://myanimelist.net"
   ]
  },
  {
   "cell_type": "markdown",
   "id": "31b1d2f3",
   "metadata": {},
   "source": [
    "First we would import 'requests' and 'BeautifulSoup' for requesting the site's HTML content and parsing it."
   ]
  },
  {
   "cell_type": "code",
   "execution_count": 74,
   "id": "9d1349bf",
   "metadata": {},
   "outputs": [],
   "source": [
    "import requests\n",
    "from bs4 import BeautifulSoup\n"
   ]
  },
  {
   "cell_type": "markdown",
   "id": "33974b3b",
   "metadata": {},
   "source": [
    "Next we import 'pandas' to organize the scrapped data and conveniently save it in the CSV file format."
   ]
  },
  {
   "cell_type": "code",
   "execution_count": 75,
   "id": "d61e47d3",
   "metadata": {},
   "outputs": [],
   "source": [
    "import pandas as pd"
   ]
  },
  {
   "cell_type": "markdown",
   "id": "7345a83a",
   "metadata": {},
   "source": [
    "We will also need to import 'time' and 'random' to avoid the site blocking us for excessive requests."
   ]
  },
  {
   "cell_type": "code",
   "execution_count": 76,
   "id": "9f788d93",
   "metadata": {},
   "outputs": [],
   "source": [
    "import time\n",
    "import random"
   ]
  },
  {
   "cell_type": "markdown",
   "id": "8faf9cbd",
   "metadata": {},
   "source": [
    "Finally we will import 'warnings' to avoid known warning messages that would slow down the scraping process in the long term."
   ]
  },
  {
   "cell_type": "code",
   "execution_count": 77,
   "id": "90514f33",
   "metadata": {},
   "outputs": [],
   "source": [
    "import warnings"
   ]
  },
  {
   "cell_type": "markdown",
   "id": "db8b16c3",
   "metadata": {},
   "source": [
    "The following method will scan the list of the top 50 rated anime on MAL starting from the 'limit' rank as can be seen in the following web page: https://myanimelist.net/topanime.php?limit=0 <br>\n",
    "As of this stage we will only save the anime's id for future use. <br>\n",
    "We will use the 'limit' variable as our iterator later."
   ]
  },
  {
   "cell_type": "code",
   "execution_count": 78,
   "id": "de897d96",
   "metadata": {},
   "outputs": [],
   "source": [
    "def ScanPageForAnime(starting_index):\n",
    "    # base page showing the top 50 anime listings starting from the 'starting_index' spot:\n",
    "    result = requests.get(\"https://myanimelist.net/topanime.php?limit={}\".format(starting_index))\n",
    "\n",
    "    # page HTML content:\n",
    "    src = result.content\n",
    "\n",
    "    # parse src using BeautifulSoup:\n",
    "    soup = BeautifulSoup(src, 'lxml')\n",
    "\n",
    "    anime_block_list = soup.find_all(\"td\",attrs={\"class\",\"title al va-t word-break\"})\n",
    "\n",
    "    anime_list = []\n",
    "    for anime_block in anime_block_list:\n",
    "        anime_link = anime_block.find(\"a\").attrs[\"href\"]\n",
    "        anime_id = anime_link.replace(\"https://myanimelist.net/anime/\", \"\").split(\"/\")[0]\n",
    "        anime_list.append(anime_id)\n",
    "        \n",
    "    return anime_list"
   ]
  },
  {
   "cell_type": "markdown",
   "id": "9a3cb9f6",
   "metadata": {},
   "source": [
    "The following method will scan the page of a specific anime and extract useful information to be later saved in the dataframe. <br>\n",
    "To access the page of a specific show we will use its previously saved id, For example: using the id of 'Steins;Gate', 9253, we can access https://myanimelist.net/anime/9253 <br><br>\n",
    "The method will return the following parameters regarding a show:\n",
    " - Title.\n",
    " - MAL Id. This method's input, its returned for convenience.\n",
    " - Type. For example: 'Movie', 'TV', 'Music', ect.\n",
    " - Episode's duration. For example: '23 min', '2 hour', ect.\n",
    " - Publishing animation studio.\n",
    " - Source type. For example: 'Manga', 'Visual' (short for Visual Novel), ect.\n",
    " - Genres. For example: 'Fantasy', 'Romance', 'Action', etc.\n",
    " - Themes. For example: 'Military', 'Apocalypse', etc.\n",
    " - Rating.\n",
    " - Popularity.\n",
    " - Score."
   ]
  },
  {
   "cell_type": "code",
   "execution_count": 79,
   "id": "a8cea796",
   "metadata": {},
   "outputs": [],
   "source": [
    "def ScanAnimeDetails(mal_index):\n",
    "    # Will be used in case of unexpected failure:\n",
    "    failed = False\n",
    "\n",
    "    # Requesting the page corresponding to the given index and parsing it using BeautifulSoup:\n",
    "    anime_link = \"https://myanimelist.net/anime/{}\".format(mal_index)\n",
    "    result = requests.get(anime_link)\n",
    "    src = result.content\n",
    "    soup = BeautifulSoup(src, 'lxml')\n",
    "\n",
    "    # Getting show's title (located at the top of the page):\n",
    "    anime_title = \"N\\A\"\n",
    "    try:\n",
    "        anime_title = soup.find(\"h1\",attrs={\"class\",\"title-name h1_bold_none\"}).find(\"strong\").string\n",
    "    except:\n",
    "        # In case of failure we will add the anime to a separate list and handle it ourselves:\n",
    "        failed = True\n",
    "        print(\"Anime title error {}\".format(mal_index))\n",
    "\n",
    "    # Getting show's score (located in the statistics block):\n",
    "    anime_score = \"N\\A\"\n",
    "    divs = soup.find_all(\"div\",attrs={\"class\",\"fl-l score\"})\n",
    "\n",
    "    for div in divs:\n",
    "        if div.find(\"div\").text.replace('.', '', 1).isdigit():\n",
    "            anime_score = div.find(\"div\").text\n",
    "\n",
    "    # Getting the rest of the data (located in the leftside bar):\n",
    "    details = soup.find_all(\"div\",attrs={\"class\",\"spaceit_pad\"})\n",
    "\n",
    "    anime_type = \"N\\A\"\n",
    "    anime_duration = \"N\\A\"\n",
    "    anime_studios = \"N\\A\"\n",
    "    anime_source = \"N\\A\"\n",
    "    anime_genres = \"N\\A\"\n",
    "    anime_themes = \"N\\A\"\n",
    "    anime_rating = \"N\\A\"\n",
    "    anime_popularity = \"N\\A\"\n",
    "\n",
    "    for div in details:\n",
    "        # Skipping obviously irrelevant tags:\n",
    "        if div.find(\"span\") == None:\n",
    "            continue\n",
    "\n",
    "        try:\n",
    "            if (div.find(\"span\").string == \"Type:\"):\n",
    "                \n",
    "                    anime_type = div.find(\"a\").string\n",
    "            elif (div.find(\"span\").string == \"Studios:\"):\n",
    "                    studios = []\n",
    "                    for studio in div.find_all(\"a\"):\n",
    "                        studios.append(studio.string)\n",
    "                    anime_studios = studios\n",
    "            elif (div.find(\"span\").string == \"Source:\"):\n",
    "                anime_source = div.text.split(\" \")[2].split(\"\\n\")[0]\n",
    "            elif (div.find(\"span\").string == \"Genres:\"):\n",
    "                genres = []\n",
    "                for genre in div.find_all(\"a\"):\n",
    "                    genres.append(genre.string)\n",
    "                anime_genres = genres\n",
    "            elif (div.find(\"span\").string == \"Themes:\"):\n",
    "                themes = []\n",
    "                for theme in div.find_all(\"a\"):\n",
    "                    themes.append(theme.string)\n",
    "                anime_themes = themes\n",
    "            elif (div.find(\"span\").string == \"Duration:\"):\n",
    "                txt = div.text.split(\" \")[2:]\n",
    "                anime_duration = \" \".join(txt).split(\"\\n\")[0]\n",
    "            elif (div.find(\"span\").string == \"Rating:\"):\n",
    "                anime_rating = div.text.replace(\"\\n\", \"\").replace(\"Rating: \", \"\")\n",
    "                if anime_rating == None:\n",
    "                    anime_rating = \"N\\A\"\n",
    "            elif (div.find(\"span\").string == \"Popularity:\"):\n",
    "                anime_popularity = div.text.split(\" \")[2].split(\"\\n\")[0][1:]\n",
    "        except:\n",
    "            # In case of failure we will add the anime to a separate list and handle it ourselves:\n",
    "            failed = True\n",
    "            print(\"Anime {} error at {}\".format(div.find(\"span\").string[:-1], mal_index))\n",
    "        \n",
    "    return ([anime_title, mal_index, anime_type, anime_duration, anime_studios, anime_source, anime_genres, anime_themes, anime_rating, anime_popularity, anime_score], failed)"
   ]
  },
  {
   "cell_type": "markdown",
   "id": "c45ae8d8",
   "metadata": {},
   "source": [
    "The following method will save the given dataframe as a CSV file and set its separator to ';'."
   ]
  },
  {
   "cell_type": "code",
   "execution_count": 80,
   "id": "69f2f509",
   "metadata": {},
   "outputs": [],
   "source": [
    "def SaveDataFrameToCSV(df, filename):\n",
    "    # Saving the dataframe to a CSV file:\n",
    "    df.to_csv(filename, sep=';')\n",
    "\n",
    "    # adding 'sep=;' to the start of the file to indicate the seperator type:\n",
    "    src = open(filename, \"r\")\n",
    "    first_line = \"sep=;\\n\"\n",
    "    new_file_content = src.readlines()\n",
    "    new_file_content.insert(0, first_line)\n",
    "    src.close()\n",
    "\n",
    "    src = open(filename, \"w\")\n",
    "    src.writelines(new_file_content)\n",
    "    src.close()"
   ]
  },
  {
   "cell_type": "markdown",
   "id": "6c016ba1",
   "metadata": {},
   "source": [
    "Ignore known warning messages.\n",
    "Such as: \n",
    "\n",
    "<font color='red'>\n",
    "FutureWarning: The frame.append method is deprecated and will be removed from pandas in a future version. Use pandas.concat instead.\n",
    "</font>"
   ]
  },
  {
   "cell_type": "code",
   "execution_count": 81,
   "id": "1657c541",
   "metadata": {},
   "outputs": [],
   "source": [
    "warnings.filterwarnings('ignore')"
   ]
  },
  {
   "cell_type": "markdown",
   "id": "17af4f97",
   "metadata": {},
   "source": [
    "Create the dataframe and set the future name for the CSV file."
   ]
  },
  {
   "cell_type": "code",
   "execution_count": 82,
   "id": "d248c079",
   "metadata": {},
   "outputs": [],
   "source": [
    "df = pd.DataFrame(columns=(\"Title\", \"MAL Id\", \"Type\", \"Episode Duration\", \"Studios\", \"Source Type\", \"Genres\", \"Themes\", \"Rating\", \"Popularity\", \"Score\"))\n",
    "failed_df = pd.DataFrame(columns=(\"Title\", \"MAL Id\", \"Type\", \"Episode Duration\", \"Studios\", \"Source Type\", \"Genres\", \"Themes\", \"Rating\", \"Popularity\", \"Score\"))\n",
    "\n",
    "filename = \"anime_df.csv\""
   ]
  },
  {
   "cell_type": "markdown",
   "id": "c6e31906",
   "metadata": {},
   "source": [
    "Pulls 50 shows at a time and scraps their individual pages for data, saving it in the dataframe."
   ]
  },
  {
   "cell_type": "code",
   "execution_count": 83,
   "id": "c385cc31",
   "metadata": {},
   "outputs": [
    {
     "name": "stdout",
     "output_type": "stream",
     "text": [
      "Scraped 50 anime's pages.\n",
      "Scraped 100 anime's pages.\n"
     ]
    }
   ],
   "source": [
    "for i in range(0, 200):\n",
    "    # Getting the next 50 indexes of shows to be scrapped:\n",
    "    ani = ScanPageForAnime(i*50)\n",
    "\n",
    "    for anime_id in ani:\n",
    "        # Scrapping show details:\n",
    "        data, failed = ScanAnimeDetails(anime_id)\n",
    "\n",
    "        # Either saving it in the dataframe or in case of failure saving it in a separate dataframe for manual review:\n",
    "        a_series = pd.Series(data, index = df.columns)\n",
    "        if not failed:\n",
    "            df = df.append(a_series, ignore_index=True)\n",
    "        else:\n",
    "            failed_df.append(a_series, ignore_index=True)\n",
    "\n",
    "        # Avoiding the site blocking us due to excessive requests:\n",
    "        rand = random.uniform(1, 3)\n",
    "        time.sleep(rand)\n",
    "\n",
    "    if i % 10 == 0:\n",
    "        # Saving the accumulated data:\n",
    "        SaveDataFrameToCSV(df, \"anime_df.csv\")\n",
    "        SaveDataFrameToCSV(failed_df, \"anime_failed_df.csv\")\n",
    "\n",
    "        print(\"Scraped {} anime's pages.\".format((i+1)*50))\n",
    "\n",
    "SaveDataFrameToCSV(df, \"anime_df.csv\")"
   ]
  },
  {
   "cell_type": "markdown",
   "id": "21ae6705",
   "metadata": {},
   "source": [
    "Example of the dataframe:"
   ]
  },
  {
   "cell_type": "code",
   "execution_count": 84,
   "id": "a1bed6cf",
   "metadata": {},
   "outputs": [
    {
     "data": {
      "text/html": [
       "<div>\n",
       "<style scoped>\n",
       "    .dataframe tbody tr th:only-of-type {\n",
       "        vertical-align: middle;\n",
       "    }\n",
       "\n",
       "    .dataframe tbody tr th {\n",
       "        vertical-align: top;\n",
       "    }\n",
       "\n",
       "    .dataframe thead th {\n",
       "        text-align: right;\n",
       "    }\n",
       "</style>\n",
       "<table border=\"1\" class=\"dataframe\">\n",
       "  <thead>\n",
       "    <tr style=\"text-align: right;\">\n",
       "      <th></th>\n",
       "      <th>Title</th>\n",
       "      <th>MAL Id</th>\n",
       "      <th>Type</th>\n",
       "      <th>Episode Duration</th>\n",
       "      <th>Studios</th>\n",
       "      <th>Source Type</th>\n",
       "      <th>Genres</th>\n",
       "      <th>Themes</th>\n",
       "      <th>Rating</th>\n",
       "      <th>Popularity</th>\n",
       "      <th>Score</th>\n",
       "    </tr>\n",
       "  </thead>\n",
       "  <tbody>\n",
       "    <tr>\n",
       "      <th>0</th>\n",
       "      <td>Fullmetal Alchemist: Brotherhood</td>\n",
       "      <td>5114</td>\n",
       "      <td>TV</td>\n",
       "      <td>24 min. per ep.</td>\n",
       "      <td>[Bones]</td>\n",
       "      <td>Manga</td>\n",
       "      <td>[Action, Adventure, Comedy, Drama, Fantasy]</td>\n",
       "      <td>N\\A</td>\n",
       "      <td>R - 17+ (violence &amp; profanity)</td>\n",
       "      <td>3</td>\n",
       "      <td>9.15</td>\n",
       "    </tr>\n",
       "    <tr>\n",
       "      <th>1</th>\n",
       "      <td>Shingeki no Kyojin: The Final Season Part 2</td>\n",
       "      <td>48583</td>\n",
       "      <td>TV</td>\n",
       "      <td>23 min. per ep.</td>\n",
       "      <td>[MAPPA]</td>\n",
       "      <td>Manga</td>\n",
       "      <td>[Action, Drama, Fantasy, Mystery]</td>\n",
       "      <td>[Military, Super Power]</td>\n",
       "      <td>R - 17+ (violence &amp; profanity)</td>\n",
       "      <td>221</td>\n",
       "      <td>9.15</td>\n",
       "    </tr>\n",
       "    <tr>\n",
       "      <th>2</th>\n",
       "      <td>Steins;Gate</td>\n",
       "      <td>9253</td>\n",
       "      <td>TV</td>\n",
       "      <td>24 min. per ep.</td>\n",
       "      <td>[White Fox]</td>\n",
       "      <td>Visual</td>\n",
       "      <td>[Drama, Sci-Fi, Suspense]</td>\n",
       "      <td>N\\A</td>\n",
       "      <td>PG-13 - Teens 13 or older</td>\n",
       "      <td>13</td>\n",
       "      <td>9.09</td>\n",
       "    </tr>\n",
       "  </tbody>\n",
       "</table>\n",
       "</div>"
      ],
      "text/plain": [
       "                                         Title MAL Id Type Episode Duration  \\\n",
       "0             Fullmetal Alchemist: Brotherhood   5114   TV  24 min. per ep.   \n",
       "1  Shingeki no Kyojin: The Final Season Part 2  48583   TV  23 min. per ep.   \n",
       "2                                  Steins;Gate   9253   TV  24 min. per ep.   \n",
       "\n",
       "       Studios Source Type                                       Genres  \\\n",
       "0      [Bones]       Manga  [Action, Adventure, Comedy, Drama, Fantasy]   \n",
       "1      [MAPPA]       Manga            [Action, Drama, Fantasy, Mystery]   \n",
       "2  [White Fox]      Visual                    [Drama, Sci-Fi, Suspense]   \n",
       "\n",
       "                    Themes                             Rating Popularity Score  \n",
       "0                      N\\A   R - 17+ (violence & profanity)            3  9.15  \n",
       "1  [Military, Super Power]   R - 17+ (violence & profanity)          221  9.15  \n",
       "2                      N\\A        PG-13 - Teens 13 or older           13  9.09  "
      ]
     },
     "execution_count": 84,
     "metadata": {},
     "output_type": "execute_result"
    }
   ],
   "source": [
    "df.head(3)"
   ]
  }
 ],
 "metadata": {
  "kernelspec": {
   "display_name": "Python 3 (ipykernel)",
   "language": "python",
   "name": "python3"
  },
  "language_info": {
   "codemirror_mode": {
    "name": "ipython",
    "version": 3
   },
   "file_extension": ".py",
   "mimetype": "text/x-python",
   "name": "python",
   "nbconvert_exporter": "python",
   "pygments_lexer": "ipython3",
   "version": "3.10.1"
  }
 },
 "nbformat": 4,
 "nbformat_minor": 5
}

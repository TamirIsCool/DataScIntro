{
 "cells": [
  {
   "cell_type": "markdown",
   "id": "af0911ba",
   "metadata": {},
   "source": [
    "## Q1\n",
    "<br> non-identical twins = 1/125\n",
    "<br> identical twins  = 1/300\n",
    "<br>P(A ^ B) = P(A) * P(B) = 1/2*1/300\n",
    "<br>P(C ^ B) = P(C) * P(B) = 1/4*1/125\n",
    "\n",
    "Equation =  P(A|B) = P(A ∩ B) / P(B)\n",
    "We will use the equation to asnwer the question."
   ]
  },
  {
   "cell_type": "code",
   "execution_count": 2,
   "id": "9d1349bf",
   "metadata": {},
   "outputs": [
    {
     "name": "stdout",
     "output_type": "stream",
     "text": [
      "0.45454545454545453\n"
     ]
    }
   ],
   "source": [
    "\n",
    "#P(A|B)=\n",
    "answer = (1/300*1/2)/(1/600+1/500)\n",
    "print(answer)\n",
    "\n",
    "    \n",
    "    \n",
    "\n",
    "\n",
    "# i will keep it here for now incase we will need it.\n",
    "def bayes_theorem(p_a, p_b_given_a, p_b_given_not_a):\n",
    "\t# calculate P(not A)\n",
    "\tnot_a = 1 - p_a\n",
    "\t# calculate P(B)\n",
    "\tp_b = p_b_given_a * p_a + p_b_given_not_a * not_a\n",
    "\t# calculate P(A|B)\n",
    "\tp_a_given_b = (p_b_given_a * p_a) / p_b\n",
    "\treturn p_a_given_b\n",
    " \n",
    "# P(A)\n",
    "#p_a = 1/125\n",
    "# P(B|A)\n",
    "#p_b_given_a = 1/2*1/300\n",
    "# P(B|not A)\n",
    "#p_b_given_not_a = 0.05\n",
    "# calculate P(A|B)\n",
    "#result = bayes_theorem(p_a, p_b_given_a, p_b_given_not_a)\n",
    "# summarize\n",
    "#print('P(A|B) = %.3f%%' % (result * 100))"
   ]
  },
  {
   "cell_type": "markdown",
   "id": "ad0418ee",
   "metadata": {},
   "source": [
    "Question 1_B<br>\n",
    "num1 cookie jar has 10 almond cookies and 30 chocolate cookies<br>\n",
    "num2 cookie jar has 20 almond and 20 chocolate cookies<br>\n",
    "<br>What's the chance Arik picked jar num1"
   ]
  },
  {
   "cell_type": "code",
   "execution_count": 3,
   "id": "de897d96",
   "metadata": {},
   "outputs": [
    {
     "name": "stdout",
     "output_type": "stream",
     "text": [
      "60%\n"
     ]
    }
   ],
   "source": [
    "#P(F1) = P(First_Jar)) = 0.5\n",
    "#P(F2) = P(Second_Jar) = 0.5\n",
    "#P(B-choco|F2) = 0.5\n",
    "#P(B-choco|F1) = 0.75\n",
    "#the probability of selecting a choco cookie from First_Jar is 0.75\n",
    "#the probability of selecting from First_Jar is 0.5\n",
    "#the probability of selecting a choco cookie from Second Jar is 0.5\n",
    "#the probability of selecting from Second Jar is 0.5\n",
    "#marginal likelihood of selecting a choco cookie from any of the jars to be P(B) = ((0.75 * 0.5) + (0.5 * 0.5)) = 0.625\n",
    "#P(F1|B-vanilla) = (0.75 * 0.5)/0.625 = 0.6 = 60%\n",
    "Answer = \"60%\"\n",
    "print(Answer)"
   ]
  },
  {
   "cell_type": "markdown",
   "id": "642021f0",
   "metadata": {},
   "source": [
    "<br>Question 3<br> : \n",
    "1995 P() : 30% Brown, 20% Yellow, 20% Red, 10% Green, 10% Orange, 10% Tan<br>\n",
    "After 1995 P() = 24% Blue , 20% Green, 16% Orange, 14% Yellow, 13% Red, 13% Brown<br>\n",
    "You got a yellow and green candy, promised to be 1 from each bag.<br>\n",
    "What is the probability that the yellow candy came from the 1994 bag.<br>\n",
    "We can calcualte it using the Conditional Probability formula.\n"
   ]
  },
  {
   "cell_type": "code",
   "execution_count": 9,
   "id": "2ca7988a",
   "metadata": {},
   "outputs": [
    {
     "name": "stdout",
     "output_type": "stream",
     "text": [
      "58.82352941176471\n",
      "%\n"
     ]
    }
   ],
   "source": [
    "#P(A|B) = \n",
    "print(0.2/(0.2+0.14)*100)\n",
    "print(\"%\")"
   ]
  },
  {
   "cell_type": "markdown",
   "id": "16cb2d76",
   "metadata": {},
   "source": [
    "Lets classify A as sick_person<br>\n",
    "lets classify b as tested_positive_person<br>\n",
    "We will calculate P(B|A)\n",
    "We are given P(A) = 1/10000\n",
    "We can calculate with ease P(B|A)\n",
    "P(B|A) is equal to 1\n",
    "P(B|¬A) = 0.1\n",
    "Hence let us calculate P(A|B)\n",
    "\n",
    "### TODO FIX"
   ]
  },
  {
   "cell_type": "code",
   "execution_count": 15,
   "id": "1ca6de76",
   "metadata": {},
   "outputs": [
    {
     "ename": "SyntaxError",
     "evalue": "unexpected EOF while parsing (176575661.py, line 1)",
     "output_type": "error",
     "traceback": [
      "\u001b[1;36m  Input \u001b[1;32mIn [15]\u001b[1;36m\u001b[0m\n\u001b[1;33m    print((1/10000)/((1/10000)+(1-((1/10000))*0.1))\u001b[0m\n\u001b[1;37m                                                   ^\u001b[0m\n\u001b[1;31mSyntaxError\u001b[0m\u001b[1;31m:\u001b[0m unexpected EOF while parsing\n"
     ]
    }
   ],
   "source": [
    "print((1/10000)/((1/10000)+(1-((1/10000))*0.1))"
   ]
  },
  {
   "cell_type": "markdown",
   "id": "cdac1027",
   "metadata": {},
   "source": [
    "3.b\n",
    "let P(H) be 1/200\n",
    "from that we can conclude:\n",
    "\n",
    "### TODO FIX"
   ]
  },
  {
   "cell_type": "code",
   "execution_count": 17,
   "id": "6e5e7cd3",
   "metadata": {},
   "outputs": [
    {
     "name": "stdout",
     "output_type": "stream",
     "text": [
      "0.04784688995215311\n"
     ]
    }
   ],
   "source": [
    "#P(H|E)\n",
    "print((1/200)/((1/200)+(1-(1/200))*0.1))"
   ]
  },
  {
   "cell_type": "markdown",
   "id": "bcff8fc5",
   "metadata": {},
   "source": [
    "Question 4 : same as question 1."
   ]
  },
  {
   "cell_type": "code",
   "execution_count": 11,
   "id": "c973396e",
   "metadata": {},
   "outputs": [
    {
     "name": "stdout",
     "output_type": "stream",
     "text": [
      "0.45454545454545453\n"
     ]
    }
   ],
   "source": [
    "\n",
    "#P(A|B)=\n",
    "answer = (1/300*1/2)/(1/600+1/500)\n",
    "print(answer)"
   ]
  },
  {
   "cell_type": "markdown",
   "id": "f2ff002f",
   "metadata": {},
   "source": [
    "2. List all of the \"Treasure Island\" movies from earliest to most recent."
   ]
  },
  {
   "cell_type": "code",
   "execution_count": 6,
   "id": "c3adafdc",
   "metadata": {},
   "outputs": [
    {
     "data": {
      "text/html": [
       "<div>\n",
       "<style scoped>\n",
       "    .dataframe tbody tr th:only-of-type {\n",
       "        vertical-align: middle;\n",
       "    }\n",
       "\n",
       "    .dataframe tbody tr th {\n",
       "        vertical-align: top;\n",
       "    }\n",
       "\n",
       "    .dataframe thead th {\n",
       "        text-align: right;\n",
       "    }\n",
       "</style>\n",
       "<table border=\"1\" class=\"dataframe\">\n",
       "  <thead>\n",
       "    <tr style=\"text-align: right;\">\n",
       "      <th></th>\n",
       "      <th>title</th>\n",
       "      <th>year</th>\n",
       "    </tr>\n",
       "  </thead>\n",
       "  <tbody>\n",
       "    <tr>\n",
       "      <th>191379</th>\n",
       "      <td>Treasure Island</td>\n",
       "      <td>1918</td>\n",
       "    </tr>\n",
       "    <tr>\n",
       "      <th>47769</th>\n",
       "      <td>Treasure Island</td>\n",
       "      <td>1920</td>\n",
       "    </tr>\n",
       "    <tr>\n",
       "      <th>192917</th>\n",
       "      <td>Treasure Island</td>\n",
       "      <td>1934</td>\n",
       "    </tr>\n",
       "    <tr>\n",
       "      <th>134298</th>\n",
       "      <td>The Secret of Treasure Island</td>\n",
       "      <td>1938</td>\n",
       "    </tr>\n",
       "    <tr>\n",
       "      <th>55661</th>\n",
       "      <td>Charlie Chan at Treasure Island</td>\n",
       "      <td>1939</td>\n",
       "    </tr>\n",
       "    <tr>\n",
       "      <th>90175</th>\n",
       "      <td>Treasure Island</td>\n",
       "      <td>1950</td>\n",
       "    </tr>\n",
       "    <tr>\n",
       "      <th>174084</th>\n",
       "      <td>Return to Treasure Island</td>\n",
       "      <td>1954</td>\n",
       "    </tr>\n",
       "    <tr>\n",
       "      <th>153356</th>\n",
       "      <td>Five on a Treasure Island</td>\n",
       "      <td>1957</td>\n",
       "    </tr>\n",
       "    <tr>\n",
       "      <th>104714</th>\n",
       "      <td>Treasure Island</td>\n",
       "      <td>1972</td>\n",
       "    </tr>\n",
       "    <tr>\n",
       "      <th>103646</th>\n",
       "      <td>Treasure Island</td>\n",
       "      <td>1973</td>\n",
       "    </tr>\n",
       "    <tr>\n",
       "      <th>190792</th>\n",
       "      <td>Treasure Island</td>\n",
       "      <td>1985</td>\n",
       "    </tr>\n",
       "    <tr>\n",
       "      <th>121716</th>\n",
       "      <td>Muppet Treasure Island</td>\n",
       "      <td>1996</td>\n",
       "    </tr>\n",
       "    <tr>\n",
       "      <th>95292</th>\n",
       "      <td>Treasure Island (II)</td>\n",
       "      <td>1999</td>\n",
       "    </tr>\n",
       "    <tr>\n",
       "      <th>166675</th>\n",
       "      <td>Treasure Island</td>\n",
       "      <td>1999</td>\n",
       "    </tr>\n",
       "    <tr>\n",
       "      <th>26182</th>\n",
       "      <td>Pirates of Treasure Island</td>\n",
       "      <td>2006</td>\n",
       "    </tr>\n",
       "    <tr>\n",
       "      <th>167715</th>\n",
       "      <td>Treasure Island Kids: The Mystery of Treasure ...</td>\n",
       "      <td>2006</td>\n",
       "    </tr>\n",
       "    <tr>\n",
       "      <th>185460</th>\n",
       "      <td>Treasure Island Kids: The Battle of Treasure I...</td>\n",
       "      <td>2006</td>\n",
       "    </tr>\n",
       "    <tr>\n",
       "      <th>207832</th>\n",
       "      <td>Treasure Island Kids: The Monster of Treasure ...</td>\n",
       "      <td>2006</td>\n",
       "    </tr>\n",
       "    <tr>\n",
       "      <th>178074</th>\n",
       "      <td>National Theatre Live: Treasure Island</td>\n",
       "      <td>2015</td>\n",
       "    </tr>\n",
       "  </tbody>\n",
       "</table>\n",
       "</div>"
      ],
      "text/plain": [
       "                                                    title  year\n",
       "191379                                    Treasure Island  1918\n",
       "47769                                     Treasure Island  1920\n",
       "192917                                    Treasure Island  1934\n",
       "134298                      The Secret of Treasure Island  1938\n",
       "55661                     Charlie Chan at Treasure Island  1939\n",
       "90175                                     Treasure Island  1950\n",
       "174084                          Return to Treasure Island  1954\n",
       "153356                          Five on a Treasure Island  1957\n",
       "104714                                    Treasure Island  1972\n",
       "103646                                    Treasure Island  1973\n",
       "190792                                    Treasure Island  1985\n",
       "121716                             Muppet Treasure Island  1996\n",
       "95292                                Treasure Island (II)  1999\n",
       "166675                                    Treasure Island  1999\n",
       "26182                          Pirates of Treasure Island  2006\n",
       "167715  Treasure Island Kids: The Mystery of Treasure ...  2006\n",
       "185460  Treasure Island Kids: The Battle of Treasure I...  2006\n",
       "207832  Treasure Island Kids: The Monster of Treasure ...  2006\n",
       "178074             National Theatre Live: Treasure Island  2015"
      ]
     },
     "execution_count": 6,
     "metadata": {},
     "output_type": "execute_result"
    }
   ],
   "source": [
    "treasure_island = movie_list[movie_list['title'].str.lower().str.contains(\"treasure island\")]\n",
    "treasure_island.sort_values('year')"
   ]
  },
  {
   "cell_type": "markdown",
   "id": "a0e6c530",
   "metadata": {},
   "source": [
    "3. How many roles were credited in the silent 1921 version of Hamlet?"
   ]
  },
  {
   "cell_type": "code",
   "execution_count": 7,
   "id": "c6b38c89",
   "metadata": {},
   "outputs": [
    {
     "data": {
      "text/plain": [
       "9"
      ]
     },
     "execution_count": 7,
     "metadata": {},
     "output_type": "execute_result"
    }
   ],
   "source": [
    "hamlet_cast = cast[cast['title'].str.lower().str.contains(\"hamlet\")]\n",
    "hamlet_1921 = hamlet_cast[hamlet_cast['year'] == 1921]\n",
    "len(hamlet_1921.index)"
   ]
  },
  {
   "cell_type": "markdown",
   "id": "d4721b39",
   "metadata": {},
   "source": [
    "4. Use groupby() to plot the number of \"Hamlet\" films made each decade"
   ]
  },
  {
   "cell_type": "code",
   "execution_count": 13,
   "id": "cb379e18",
   "metadata": {},
   "outputs": [
    {
     "data": {
      "text/plain": [
       "<AxesSubplot:xlabel='year'>"
      ]
     },
     "execution_count": 13,
     "metadata": {},
     "output_type": "execute_result"
    },
    {
     "data": {
      "image/png": "[encoded data removed]",
      "text/plain": [
       "<Figure size 432x288 with 1 Axes>"
      ]
     },
     "metadata": {
      "needs_background": "light"
     },
     "output_type": "display_data"
    }
   ],
   "source": [
    "films_per_decade = hamlet.groupby(hamlet.year // 10 * 10).size()\n",
    "films_per_decade.plot(kind='bar')"
   ]
  },
  {
   "cell_type": "markdown",
   "id": "78f8fb34",
   "metadata": {},
   "source": [
    "5. How many leading (n=1) roles were available to actors, and how many to actresses, in each year of the 1950s?"
   ]
  },
  {
   "cell_type": "code",
   "execution_count": 9,
   "id": "fc1b08d5",
   "metadata": {},
   "outputs": [
    {
     "name": "stdout",
     "output_type": "stream",
     "text": [
      "In the year 1950 there were 604 leading actors and 271 leading actresses.\n",
      "In the year 1951 there were 633 leading actors and 272 leading actresses.\n",
      "In the year 1952 there were 591 leading actors and 284 leading actresses.\n",
      "In the year 1953 there were 634 leading actors and 290 leading actresses.\n",
      "In the year 1954 there were 626 leading actors and 298 leading actresses.\n",
      "In the year 1955 there were 606 leading actors and 264 leading actresses.\n",
      "In the year 1956 there were 614 leading actors and 288 leading actresses.\n",
      "In the year 1957 there were 708 leading actors and 284 leading actresses.\n",
      "In the year 1958 there were 694 leading actors and 275 leading actresses.\n",
      "In the year 1959 there were 678 leading actors and 287 leading actresses.\n"
     ]
    }
   ],
   "source": [
    "leads = cast[cast['n'] == 1]\n",
    "for year in range(1950, 1960):\n",
    "    this_years_leads = leads[leads['year'] == year]\n",
    "    n_actors = len( this_years_leads[this_years_leads['type'] == 'actor'].index )\n",
    "    n_actresses = len( this_years_leads[this_years_leads['type'] == 'actress'].index )\n",
    "    print(\"In the year {} there were {} leading actors and {} leading actresses.\".format(year, n_actors, n_actresses))"
   ]
  },
  {
   "cell_type": "markdown",
   "id": "78c9eab4",
   "metadata": {},
   "source": [
    "6. List the 10 actors/actresses that have the most leading roles (n=1) since the 1990's."
   ]
  },
  {
   "cell_type": "code",
   "execution_count": 10,
   "id": "d02766f2",
   "metadata": {},
   "outputs": [
    {
     "data": {
      "text/plain": [
       "['Mohanlal',\n",
       " 'Mammootty',\n",
       " 'Akshay Kumar',\n",
       " 'Jayaram',\n",
       " 'Andy Lau',\n",
       " 'Ajay Devgn',\n",
       " 'Eric Roberts',\n",
       " 'Amitabh Bachchan',\n",
       " 'Nagarjuna Akkineni',\n",
       " 'Dilip']"
      ]
     },
     "execution_count": 10,
     "metadata": {},
     "output_type": "execute_result"
    }
   ],
   "source": [
    "leads_since_1990s = cast[ (cast['year'] >= 1990) & (cast['n'] == 1) ]\n",
    "leads_since_1990s['name'].value_counts()[:10].index.tolist()"
   ]
  },
  {
   "cell_type": "markdown",
   "id": "ef73f45f",
   "metadata": {},
   "source": [
    "7. List, in order by year, each of the films in which Frank Oz has played more than 1 role."
   ]
  },
  {
   "cell_type": "code",
   "execution_count": 11,
   "id": "36ffd500",
   "metadata": {},
   "outputs": [
    {
     "data": {
      "text/plain": [
       "year  title                                   \n",
       "1979  The Muppet Movie                            8\n",
       "1981  An American Werewolf in London              2\n",
       "      The Great Muppet Caper                      6\n",
       "1982  The Dark Crystal                            2\n",
       "1984  The Muppets Take Manhattan                  7\n",
       "1985  Sesame Street Presents: Follow that Bird    3\n",
       "1992  The Muppet Christmas Carol                  7\n",
       "1996  Muppet Treasure Island                      4\n",
       "1999  Muppets from Space                          4\n",
       "      The Adventures of Elmo in Grouchland        3\n",
       "dtype: int64"
      ]
     },
     "execution_count": 11,
     "metadata": {},
     "output_type": "execute_result"
    }
   ],
   "source": [
    "frank = cast[cast['name'] == 'Frank Oz']\n",
    "frank.sort_values('year')\n",
    "frank = frank.groupby(['year','title']).size()\n",
    "frank[frank > 1]"
   ]
  }
 ],
 "metadata": {
  "kernelspec": {
   "display_name": "Python 3 (ipykernel)",
   "language": "python",
   "name": "python3"
  },
  "language_info": {
   "codemirror_mode": {
    "name": "ipython",
    "version": 3
   },
   "file_extension": ".py",
   "mimetype": "text/x-python",
   "name": "python",
   "nbconvert_exporter": "python",
   "pygments_lexer": "ipython3",
   "version": "3.9.7"
  }
 },
 "nbformat": 4,
 "nbformat_minor": 5
}

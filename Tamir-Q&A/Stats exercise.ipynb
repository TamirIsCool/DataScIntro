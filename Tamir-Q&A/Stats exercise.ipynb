{
 "cells": [
  {
   "cell_type": "markdown",
   "id": "af0911ba",
   "metadata": {},
   "source": [
    "## Q1\n",
    "<br> non-identical twins = 1/125\n",
    "<br> identical twins  = 1/300\n",
    "<br>P(A ^ B) = P(A) * P(B) = 1/2*1/300\n",
    "<br>P(C ^ B) = P(C) * P(B) = 1/4*1/125\n",
    "<br> Girl = 1/2 | Boy = 1/2\n",
    "\n",
    "Equation =  P(A|B) = P(A ∩ B) / P(B)\n",
    "We will use the equation to asnwer the question."
   ]
  },
  {
   "cell_type": "code",
   "execution_count": 3,
   "id": "9d1349bf",
   "metadata": {},
   "outputs": [
    {
     "name": "stdout",
     "output_type": "stream",
     "text": [
      "0.45454545454545453\n"
     ]
    }
   ],
   "source": [
    "\n",
    "#P(A|B)=\n",
    "answer = (1/300*1/2)/(1/600+1/500)\n",
    "print(answer)\n",
    "\n",
    "    \n",
    "    \n",
    "\n",
    "\n",
    "# i will keep it here for now incase we will need it.\n",
    "def bayes_theorem(p_a, p_b_given_a, p_b_given_not_a):\n",
    "\t# calculate P(not A)\n",
    "\tnot_a = 1 - p_a\n",
    "\t# calculate P(B)\n",
    "\tp_b = p_b_given_a * p_a + p_b_given_not_a * not_a\n",
    "\t# calculate P(A|B)\n",
    "\tp_a_given_b = (p_b_given_a * p_a) / p_b\n",
    "\treturn p_a_given_b\n",
    " \n",
    "# P(A)\n",
    "#p_a = 1/125\n",
    "# P(B|A)\n",
    "#p_b_given_a = 1/2*1/300\n",
    "# P(B|not A)\n",
    "#p_b_given_not_a = 0.05\n",
    "# calculate P(A|B)\n",
    "#result = bayes_theorem(p_a, p_b_given_a, p_b_given_not_a)\n",
    "# summarize\n",
    "#print('P(A|B) = %.3f%%' % (result * 100))"
   ]
  },
  {
   "cell_type": "markdown",
   "id": "ad0418ee",
   "metadata": {},
   "source": [
    "Question 1_B<br>\n",
    "num1 cookie jar has 10 almond cookies and 30 chocolate cookies<br>\n",
    "num2 cookie jar has 20 almond and 20 chocolate cookies<br>\n",
    "<br>What's the chance Arik picked jar num1"
   ]
  },
  {
   "cell_type": "code",
   "execution_count": 4,
   "id": "de897d96",
   "metadata": {},
   "outputs": [
    {
     "name": "stdout",
     "output_type": "stream",
     "text": [
      "60%\n"
     ]
    }
   ],
   "source": [
    "#P(F1) = P(First_Jar)) = 0.5\n",
    "#P(F2) = P(Second_Jar) = 0.5\n",
    "#P(B-choco|F2) = 0.5\n",
    "#P(B-choco|F1) = 0.75\n",
    "#the probability of selecting a choco cookie from First_Jar is 0.75\n",
    "#the probability of selecting from First_Jar is 0.5\n",
    "#the probability of selecting a choco cookie from Second Jar is 0.5\n",
    "#the probability of selecting from Second Jar is 0.5\n",
    "#marginal likelihood of selecting a choco cookie from any of the jars to be P(B) = ((0.75 * 0.5) + (0.5 * 0.5)) = 0.625\n",
    "#P(F1|B-vanilla) = (0.75 * 0.5)/0.625 = 0.6 = 60%\n",
    "Answer = \"60%\"\n",
    "print(Answer)"
   ]
  },
  {
   "cell_type": "markdown",
   "id": "642021f0",
   "metadata": {},
   "source": [
    "<br>Question 3 :<br>\n",
    "Before 1995 P() : 30% Brown, 20% Yellow, 20% Red, 10% Green, 10% Orange, 10% Tan<br>\n",
    "After 1995 P() = 24% Blue , 20% Green, 16% Orange, 14% Yellow, 13% Red, 13% Brown<br>\n",
    "You got a yellow and green candy, promised to be 1 from each bag.<br>\n",
    "What is the probability that the yellow candy came from the 1994 bag.<br>\n",
    "We can calcualte it using the Conditional Probability formula.\n"
   ]
  },
  {
   "cell_type": "code",
   "execution_count": 5,
   "id": "2ca7988a",
   "metadata": {},
   "outputs": [
    {
     "name": "stdout",
     "output_type": "stream",
     "text": [
      "58.82352941176471\n",
      "%\n"
     ]
    }
   ],
   "source": [
    "#P(A|B) = \n",
    "print(0.2/(0.2+0.14)*100)\n",
    "print(\"%\")"
   ]
  },
  {
   "cell_type": "markdown",
   "id": "16cb2d76",
   "metadata": {},
   "source": [
    "tested_positive_person<br>\n",
    "I am given P(A) = 1/10000\n",
    "I can infer that 101/10000 test positive\n",
    "and that 9999/10000 aren't sick. \n",
    "Hence let us calculate P(A|B)\n",
    "\n",
    "### TODO FIX"
   ]
  },
  {
   "cell_type": "code",
   "execution_count": 6,
   "id": "1ca6de76",
   "metadata": {},
   "outputs": [
    {
     "name": "stdout",
     "output_type": "stream",
     "text": [
      "0.009900990099009901\n"
     ]
    }
   ],
   "source": [
    "Answer = (1/10000)/(101/10000)\n",
    "print(Answer)"
   ]
  },
  {
   "cell_type": "markdown",
   "id": "cdac1027",
   "metadata": {},
   "source": [
    "Question 3_B<br>\n",
    "We are given 1/200<br>\n",
    "from that we can conclude:<br>\n",
    "\n"
   ]
  },
  {
   "cell_type": "code",
   "execution_count": 7,
   "id": "6e5e7cd3",
   "metadata": {},
   "outputs": [
    {
     "name": "stdout",
     "output_type": "stream",
     "text": [
      "0.33333333333333337\n"
     ]
    }
   ],
   "source": [
    "#P(H|E)\n",
    "Answer = ((1/200))/(3/200)\n",
    "print(Answer)"
   ]
  },
  {
   "cell_type": "markdown",
   "id": "bcff8fc5",
   "metadata": {},
   "source": [
    "Question 4 : same as question 1."
   ]
  },
  {
   "cell_type": "code",
   "execution_count": 8,
   "id": "c973396e",
   "metadata": {},
   "outputs": [
    {
     "name": "stdout",
     "output_type": "stream",
     "text": [
      "0.45454545454545453\n"
     ]
    }
   ],
   "source": [
    "\n",
    "#P(A|B)=\n",
    "answer = (1/300*1/2)/(1/600+1/500)\n",
    "print(answer)"
   ]
  },
  {
   "cell_type": "markdown",
   "id": "f2ff002f",
   "metadata": {},
   "source": [
    "Question 5 : <br>\n",
    "Roee has 12 options where the<br>\n",
    "numbers are divisible by 6<br>\n",
    "\n",
    "Hence his chances are :<br>\n",
    "winning : 1/3<br>\n",
    "Losing : 2/3<br>\n",
    "\n",
    "Let us calculate the answer :\n"
   ]
  },
  {
   "cell_type": "code",
   "execution_count": 9,
   "id": "c3adafdc",
   "metadata": {},
   "outputs": [
    {
     "data": {
      "text/plain": [
       "0.0"
      ]
     },
     "execution_count": 9,
     "metadata": {},
     "output_type": "execute_result"
    }
   ],
   "source": [
    "(1/3)*6-(2/3*3)"
   ]
  },
  {
   "cell_type": "markdown",
   "id": "9b4749b3",
   "metadata": {},
   "source": [
    "Exactly 12 = 4/25<br>\n",
    "Less than 12 = 15/25<br>\n",
    "More than 12 = 6/25<br>\n",
    "Let us calculate the amount of dollars he will most likely end up with : "
   ]
  },
  {
   "cell_type": "code",
   "execution_count": 10,
   "id": "19b88f42",
   "metadata": {},
   "outputs": [
    {
     "name": "stdout",
     "output_type": "stream",
     "text": [
      "-2.4$\n"
     ]
    }
   ],
   "source": [
    "(5*6/25-6*3/5)\n",
    "print(\"-2.4$\")"
   ]
  },
  {
   "cell_type": "markdown",
   "id": "1fcef119",
   "metadata": {},
   "source": [
    "Question 3 : <br>\n",
    "200 Employees <br>\n",
    "40% are male = 80 male <br>\n",
    "8 Employees chosen for lunch with CEO<br>\n",
    "3.2 men are selected each momth<br>\n",
    "Hence the standard deviation.<br>"
   ]
  },
  {
   "cell_type": "code",
   "execution_count": 11,
   "id": "adb063b9",
   "metadata": {},
   "outputs": [
    {
     "data": {
      "text/plain": [
       "0.17320508075688773"
      ]
     },
     "execution_count": 11,
     "metadata": {},
     "output_type": "execute_result"
    }
   ],
   "source": [
    "import math\n",
    "(math.sqrt(0.4*0.6/8))"
   ]
  },
  {
   "cell_type": "markdown",
   "id": "966bbc8f",
   "metadata": {},
   "source": [
    "Q4 :<br>\n",
    "Mean : 26,000$ (let is be 26)<br>\n",
    "SD : 2000$ (let it be 2)<br>\n",
    "X = the sale price of car<br>\n",
    "Let us use the z-score formuala in order to answer the question.<br>\n",
    "Formula = (x-mean)/sd<br>\n",
    "P(26 < x < 30) = P((26-26)/2) < X < ((30-26)/2) = P(0 < X < 2) = P(X<2)-P(X<0>)\n",
    "\n",
    "="
   ]
  },
  {
   "cell_type": "code",
   "execution_count": 12,
   "id": "d0de7e2b",
   "metadata": {},
   "outputs": [
    {
     "data": {
      "text/plain": [
       "0.47724999999999995"
      ]
     },
     "execution_count": 12,
     "metadata": {},
     "output_type": "execute_result"
    }
   ],
   "source": [
    "0.97725-0.5"
   ]
  },
  {
   "cell_type": "markdown",
   "id": "37cd6cca",
   "metadata": {},
   "source": [
    "Question 5:<br>\n",
    "Assuming the y-axis is the prob density.<br>\n",
    "Let us calculate P(X>3) in the graph<br>\n",
    "We do it by calculating the area inside the triangle.<br>"
   ]
  },
  {
   "cell_type": "code",
   "execution_count": 13,
   "id": "c5de3f58",
   "metadata": {},
   "outputs": [
    {
     "data": {
      "text/plain": [
       "0.4"
      ]
     },
     "execution_count": 13,
     "metadata": {},
     "output_type": "execute_result"
    }
   ],
   "source": [
    "(0.4*2)/2"
   ]
  },
  {
   "cell_type": "markdown",
   "id": "b9a7ff0c",
   "metadata": {},
   "source": [
    "Question 6 :<br>\n",
    "500 Employees<br>\n",
    "3/5 Have children<br>\n",
    "2/5 Dont have children<br>\n",
    "What is the probability we selected exactly 3 out of 4 employees with<br> children<br>\n",
    "\n",
    "Let us simply calculate it : <br>"
   ]
  },
  {
   "cell_type": "code",
   "execution_count": 14,
   "id": "1d460e1b",
   "metadata": {},
   "outputs": [
    {
     "data": {
      "text/plain": [
       "0.34559999999999996"
      ]
     },
     "execution_count": 14,
     "metadata": {},
     "output_type": "execute_result"
    }
   ],
   "source": [
    "4*(2/5)*(3/5)*(3/5)*(3/5)"
   ]
  },
  {
   "cell_type": "markdown",
   "id": "a0e6c530",
   "metadata": {},
   "source": [
    "Question 7 : <br>\n",
    "Every positive & negetive value<br> returns a value that undos it with<br> the same probability.<br>\n",
    "<br>\n",
    "Hence,<br>\n",
    "The total of values * their  posibilies = ~0\n"
   ]
  },
  {
   "cell_type": "code",
   "execution_count": 15,
   "id": "c6b38c89",
   "metadata": {},
   "outputs": [
    {
     "data": {
      "text/plain": [
       "0.009999999999999787"
      ]
     },
     "execution_count": 15,
     "metadata": {},
     "output_type": "execute_result"
    }
   ],
   "source": [
    "-10*0.1-5*0.35+0.01+5*0.35+10*0.1"
   ]
  }
 ],
 "metadata": {
  "kernelspec": {
   "display_name": "Python 3 (ipykernel)",
   "language": "python",
   "name": "python3"
  },
  "language_info": {
   "codemirror_mode": {
    "name": "ipython",
    "version": 3
   },
   "file_extension": ".py",
   "mimetype": "text/x-python",
   "name": "python",
   "nbconvert_exporter": "python",
   "pygments_lexer": "ipython3",
   "version": "3.9.7"
  }
 },
 "nbformat": 4,
 "nbformat_minor": 5
}

{
 "cells": [
  {
   "cell_type": "markdown",
   "id": "af0911ba",
   "metadata": {},
   "source": [
    "## General ##\n",
    "1. Write a program that gets a decimal number as its input and prints the same number in the binary, octal and hexadecimal bases."
   ]
  },
  {
   "cell_type": "code",
   "execution_count": 1,
   "id": "9d1349bf",
   "metadata": {},
   "outputs": [],
   "source": [
    "# Converts a decimal number to a new numerical base.\n",
    "# The numerical base is detected by the number of digits given.\n",
    "def ConvertBaseFromDecimal(decimal, digits):\n",
    "    # the numerical base dictates the number of digits:\n",
    "    desired_base = len(digits)\n",
    "    new_number = \"\"\n",
    "    current_number = decimal\n",
    "    i = 0\n",
    "    while (current_number != 0):\n",
    "        reminder = int(current_number % desired_base)\n",
    "        current_number = (current_number - reminder) / desired_base\n",
    "        new_number += digits[reminder]\n",
    "    # Reverse the string to match reading order:\n",
    "    return new_number[::-1]"
   ]
  },
  {
   "cell_type": "code",
   "execution_count": 2,
   "id": "de897d96",
   "metadata": {},
   "outputs": [
    {
     "name": "stdout",
     "output_type": "stream",
     "text": [
      "Binary: 1010\n",
      "Octal: 12\n",
      "Hexadecimal: 0xA\n"
     ]
    }
   ],
   "source": [
    "decimal = int(input(\"Enter a decimal number: \"))\n",
    "\n",
    "binary_digits = ['0', '1']\n",
    "binary = ConvertBaseFromDecimal(decimal, binary_digits)\n",
    "\n",
    "octal_digits = ['0', '1', '2', '3', '4', '5', '6', '7']\n",
    "octal = ConvertBaseFromDecimal(decimal, octal_digits)\n",
    "\n",
    "hexadecimal_digits = ['0', '1', '2', '3', '4', '5', '6', '7', '8', '9', 'A', 'B', 'C', 'D', 'E', 'F']\n",
    "hexadecimal = ConvertBaseFromDecimal(decimal, hexadecimal_digits)\n",
    "\n",
    "print(\"Binary: \" + binary + \"\\n\" + \"Octal: \" + octal + \"\\n\" + \"Hexadecimal: 0x\" + hexadecimal)"
   ]
  },
  {
   "cell_type": "markdown",
   "id": "642021f0",
   "metadata": {},
   "source": [
    "## Pandas ##\n",
    "Loading Data Sets: "
   ]
  },
  {
   "cell_type": "code",
   "execution_count": 3,
   "id": "2ca7988a",
   "metadata": {},
   "outputs": [
    {
     "data": {
      "text/html": [
       "<div>\n",
       "<style scoped>\n",
       "    .dataframe tbody tr th:only-of-type {\n",
       "        vertical-align: middle;\n",
       "    }\n",
       "\n",
       "    .dataframe tbody tr th {\n",
       "        vertical-align: top;\n",
       "    }\n",
       "\n",
       "    .dataframe thead th {\n",
       "        text-align: right;\n",
       "    }\n",
       "</style>\n",
       "<table border=\"1\" class=\"dataframe\">\n",
       "  <thead>\n",
       "    <tr style=\"text-align: right;\">\n",
       "      <th></th>\n",
       "      <th>title</th>\n",
       "      <th>year</th>\n",
       "    </tr>\n",
       "  </thead>\n",
       "  <tbody>\n",
       "    <tr>\n",
       "      <th>0</th>\n",
       "      <td>The Rising Son</td>\n",
       "      <td>1990</td>\n",
       "    </tr>\n",
       "    <tr>\n",
       "      <th>1</th>\n",
       "      <td>Ashes of Kukulcan</td>\n",
       "      <td>2016</td>\n",
       "    </tr>\n",
       "    <tr>\n",
       "      <th>2</th>\n",
       "      <td>The Thousand Plane Raid</td>\n",
       "      <td>1969</td>\n",
       "    </tr>\n",
       "    <tr>\n",
       "      <th>3</th>\n",
       "      <td>Crucea de piatra</td>\n",
       "      <td>1993</td>\n",
       "    </tr>\n",
       "    <tr>\n",
       "      <th>4</th>\n",
       "      <td>The 86</td>\n",
       "      <td>2015</td>\n",
       "    </tr>\n",
       "  </tbody>\n",
       "</table>\n",
       "</div>"
      ],
      "text/plain": [
       "                     title  year\n",
       "0           The Rising Son  1990\n",
       "1        Ashes of Kukulcan  2016\n",
       "2  The Thousand Plane Raid  1969\n",
       "3         Crucea de piatra  1993\n",
       "4                   The 86  2015"
      ]
     },
     "execution_count": 3,
     "metadata": {},
     "output_type": "execute_result"
    }
   ],
   "source": [
    "import pandas as pd\n",
    "\n",
    "movie_list = pd.read_csv(\"movie_list.csv\")\n",
    "movie_list.head()"
   ]
  },
  {
   "cell_type": "code",
   "execution_count": 4,
   "id": "1ca6de76",
   "metadata": {},
   "outputs": [
    {
     "data": {
      "text/html": [
       "<div>\n",
       "<style scoped>\n",
       "    .dataframe tbody tr th:only-of-type {\n",
       "        vertical-align: middle;\n",
       "    }\n",
       "\n",
       "    .dataframe tbody tr th {\n",
       "        vertical-align: top;\n",
       "    }\n",
       "\n",
       "    .dataframe thead th {\n",
       "        text-align: right;\n",
       "    }\n",
       "</style>\n",
       "<table border=\"1\" class=\"dataframe\">\n",
       "  <thead>\n",
       "    <tr style=\"text-align: right;\">\n",
       "      <th></th>\n",
       "      <th>title</th>\n",
       "      <th>year</th>\n",
       "      <th>name</th>\n",
       "      <th>type</th>\n",
       "      <th>character</th>\n",
       "      <th>n</th>\n",
       "    </tr>\n",
       "  </thead>\n",
       "  <tbody>\n",
       "    <tr>\n",
       "      <th>0</th>\n",
       "      <td>Suuri illusioni</td>\n",
       "      <td>1985</td>\n",
       "      <td>Homo $</td>\n",
       "      <td>actor</td>\n",
       "      <td>Guests</td>\n",
       "      <td>22.0</td>\n",
       "    </tr>\n",
       "    <tr>\n",
       "      <th>1</th>\n",
       "      <td>Gangsta Rap: The Glockumentary</td>\n",
       "      <td>2007</td>\n",
       "      <td>Too $hort</td>\n",
       "      <td>actor</td>\n",
       "      <td>Himself</td>\n",
       "      <td>NaN</td>\n",
       "    </tr>\n",
       "    <tr>\n",
       "      <th>2</th>\n",
       "      <td>Menace II Society</td>\n",
       "      <td>1993</td>\n",
       "      <td>Too $hort</td>\n",
       "      <td>actor</td>\n",
       "      <td>Lew-Loc</td>\n",
       "      <td>27.0</td>\n",
       "    </tr>\n",
       "    <tr>\n",
       "      <th>3</th>\n",
       "      <td>Porndogs: The Adventures of Sadie</td>\n",
       "      <td>2009</td>\n",
       "      <td>Too $hort</td>\n",
       "      <td>actor</td>\n",
       "      <td>Bosco</td>\n",
       "      <td>3.0</td>\n",
       "    </tr>\n",
       "    <tr>\n",
       "      <th>4</th>\n",
       "      <td>Stop Pepper Palmer</td>\n",
       "      <td>2014</td>\n",
       "      <td>Too $hort</td>\n",
       "      <td>actor</td>\n",
       "      <td>Himself</td>\n",
       "      <td>NaN</td>\n",
       "    </tr>\n",
       "  </tbody>\n",
       "</table>\n",
       "</div>"
      ],
      "text/plain": [
       "                               title  year       name   type character     n\n",
       "0                    Suuri illusioni  1985     Homo $  actor    Guests  22.0\n",
       "1     Gangsta Rap: The Glockumentary  2007  Too $hort  actor   Himself   NaN\n",
       "2                  Menace II Society  1993  Too $hort  actor   Lew-Loc  27.0\n",
       "3  Porndogs: The Adventures of Sadie  2009  Too $hort  actor     Bosco   3.0\n",
       "4                 Stop Pepper Palmer  2014  Too $hort  actor   Himself   NaN"
      ]
     },
     "execution_count": 4,
     "metadata": {},
     "output_type": "execute_result"
    }
   ],
   "source": [
    "cast = pd.read_csv(\"cast.csv\")\n",
    "cast.head()"
   ]
  },
  {
   "cell_type": "markdown",
   "id": "bcff8fc5",
   "metadata": {},
   "source": [
    "1. How many movies have the title \"Hamlet\"?"
   ]
  },
  {
   "cell_type": "code",
   "execution_count": 5,
   "id": "c973396e",
   "metadata": {},
   "outputs": [
    {
     "data": {
      "text/plain": [
       "19"
      ]
     },
     "execution_count": 5,
     "metadata": {},
     "output_type": "execute_result"
    }
   ],
   "source": [
    "hamlet = movie_list[movie_list['title'] == \"Hamlet\"]\n",
    "len(hamlet.index)"
   ]
  },
  {
   "cell_type": "markdown",
   "id": "f2ff002f",
   "metadata": {},
   "source": [
    "2. List all of the \"Treasure Island\" movies from earliest to most recent."
   ]
  },
  {
   "cell_type": "code",
   "execution_count": 6,
   "id": "c3adafdc",
   "metadata": {},
   "outputs": [
    {
     "data": {
      "text/html": [
       "<div>\n",
       "<style scoped>\n",
       "    .dataframe tbody tr th:only-of-type {\n",
       "        vertical-align: middle;\n",
       "    }\n",
       "\n",
       "    .dataframe tbody tr th {\n",
       "        vertical-align: top;\n",
       "    }\n",
       "\n",
       "    .dataframe thead th {\n",
       "        text-align: right;\n",
       "    }\n",
       "</style>\n",
       "<table border=\"1\" class=\"dataframe\">\n",
       "  <thead>\n",
       "    <tr style=\"text-align: right;\">\n",
       "      <th></th>\n",
       "      <th>title</th>\n",
       "      <th>year</th>\n",
       "    </tr>\n",
       "  </thead>\n",
       "  <tbody>\n",
       "    <tr>\n",
       "      <th>191379</th>\n",
       "      <td>Treasure Island</td>\n",
       "      <td>1918</td>\n",
       "    </tr>\n",
       "    <tr>\n",
       "      <th>47769</th>\n",
       "      <td>Treasure Island</td>\n",
       "      <td>1920</td>\n",
       "    </tr>\n",
       "    <tr>\n",
       "      <th>192917</th>\n",
       "      <td>Treasure Island</td>\n",
       "      <td>1934</td>\n",
       "    </tr>\n",
       "    <tr>\n",
       "      <th>134298</th>\n",
       "      <td>The Secret of Treasure Island</td>\n",
       "      <td>1938</td>\n",
       "    </tr>\n",
       "    <tr>\n",
       "      <th>55661</th>\n",
       "      <td>Charlie Chan at Treasure Island</td>\n",
       "      <td>1939</td>\n",
       "    </tr>\n",
       "    <tr>\n",
       "      <th>90175</th>\n",
       "      <td>Treasure Island</td>\n",
       "      <td>1950</td>\n",
       "    </tr>\n",
       "    <tr>\n",
       "      <th>174084</th>\n",
       "      <td>Return to Treasure Island</td>\n",
       "      <td>1954</td>\n",
       "    </tr>\n",
       "    <tr>\n",
       "      <th>153356</th>\n",
       "      <td>Five on a Treasure Island</td>\n",
       "      <td>1957</td>\n",
       "    </tr>\n",
       "    <tr>\n",
       "      <th>104714</th>\n",
       "      <td>Treasure Island</td>\n",
       "      <td>1972</td>\n",
       "    </tr>\n",
       "    <tr>\n",
       "      <th>103646</th>\n",
       "      <td>Treasure Island</td>\n",
       "      <td>1973</td>\n",
       "    </tr>\n",
       "    <tr>\n",
       "      <th>190792</th>\n",
       "      <td>Treasure Island</td>\n",
       "      <td>1985</td>\n",
       "    </tr>\n",
       "    <tr>\n",
       "      <th>121716</th>\n",
       "      <td>Muppet Treasure Island</td>\n",
       "      <td>1996</td>\n",
       "    </tr>\n",
       "    <tr>\n",
       "      <th>95292</th>\n",
       "      <td>Treasure Island (II)</td>\n",
       "      <td>1999</td>\n",
       "    </tr>\n",
       "    <tr>\n",
       "      <th>166675</th>\n",
       "      <td>Treasure Island</td>\n",
       "      <td>1999</td>\n",
       "    </tr>\n",
       "    <tr>\n",
       "      <th>26182</th>\n",
       "      <td>Pirates of Treasure Island</td>\n",
       "      <td>2006</td>\n",
       "    </tr>\n",
       "    <tr>\n",
       "      <th>167715</th>\n",
       "      <td>Treasure Island Kids: The Mystery of Treasure ...</td>\n",
       "      <td>2006</td>\n",
       "    </tr>\n",
       "    <tr>\n",
       "      <th>185460</th>\n",
       "      <td>Treasure Island Kids: The Battle of Treasure I...</td>\n",
       "      <td>2006</td>\n",
       "    </tr>\n",
       "    <tr>\n",
       "      <th>207832</th>\n",
       "      <td>Treasure Island Kids: The Monster of Treasure ...</td>\n",
       "      <td>2006</td>\n",
       "    </tr>\n",
       "    <tr>\n",
       "      <th>178074</th>\n",
       "      <td>National Theatre Live: Treasure Island</td>\n",
       "      <td>2015</td>\n",
       "    </tr>\n",
       "  </tbody>\n",
       "</table>\n",
       "</div>"
      ],
      "text/plain": [
       "                                                    title  year\n",
       "191379                                    Treasure Island  1918\n",
       "47769                                     Treasure Island  1920\n",
       "192917                                    Treasure Island  1934\n",
       "134298                      The Secret of Treasure Island  1938\n",
       "55661                     Charlie Chan at Treasure Island  1939\n",
       "90175                                     Treasure Island  1950\n",
       "174084                          Return to Treasure Island  1954\n",
       "153356                          Five on a Treasure Island  1957\n",
       "104714                                    Treasure Island  1972\n",
       "103646                                    Treasure Island  1973\n",
       "190792                                    Treasure Island  1985\n",
       "121716                             Muppet Treasure Island  1996\n",
       "95292                                Treasure Island (II)  1999\n",
       "166675                                    Treasure Island  1999\n",
       "26182                          Pirates of Treasure Island  2006\n",
       "167715  Treasure Island Kids: The Mystery of Treasure ...  2006\n",
       "185460  Treasure Island Kids: The Battle of Treasure I...  2006\n",
       "207832  Treasure Island Kids: The Monster of Treasure ...  2006\n",
       "178074             National Theatre Live: Treasure Island  2015"
      ]
     },
     "execution_count": 6,
     "metadata": {},
     "output_type": "execute_result"
    }
   ],
   "source": [
    "treasure_island = movie_list[movie_list['title'].str.lower().str.contains(\"treasure island\")]\n",
    "treasure_island.sort_values('year')"
   ]
  },
  {
   "cell_type": "markdown",
   "id": "a0e6c530",
   "metadata": {},
   "source": [
    "3. How many roles were credited in the silent 1921 version of Hamlet?"
   ]
  },
  {
   "cell_type": "code",
   "execution_count": 7,
   "id": "c6b38c89",
   "metadata": {},
   "outputs": [
    {
     "data": {
      "text/plain": [
       "9"
      ]
     },
     "execution_count": 7,
     "metadata": {},
     "output_type": "execute_result"
    }
   ],
   "source": [
    "hamlet_cast = cast[cast['title'].str.lower().str.contains(\"hamlet\")]\n",
    "hamlet_1921 = hamlet_cast[hamlet_cast['year'] == 1921]\n",
    "len(hamlet_1921.index)"
   ]
  },
  {
   "cell_type": "markdown",
   "id": "d4721b39",
   "metadata": {},
   "source": [
    "4. Use groupby() to plot the number of \"Hamlet\" films made each decade"
   ]
  },
  {
   "cell_type": "code",
   "execution_count": 13,
   "id": "cb379e18",
   "metadata": {},
   "outputs": [
    {
     "data": {
      "text/plain": [
       "<AxesSubplot:xlabel='year'>"
      ]
     },
     "execution_count": 13,
     "metadata": {},
     "output_type": "execute_result"
    },
    {
     "data": {
      "image/png": "[encoded data removed]",
      "text/plain": [
       "<Figure size 432x288 with 1 Axes>"
      ]
     },
     "metadata": {
      "needs_background": "light"
     },
     "output_type": "display_data"
    }
   ],
   "source": [
    "films_per_decade = hamlet.groupby(hamlet.year // 10 * 10).size()\n",
    "films_per_decade.plot(kind='bar')"
   ]
  },
  {
   "cell_type": "markdown",
   "id": "78f8fb34",
   "metadata": {},
   "source": [
    "5. How many leading (n=1) roles were available to actors, and how many to actresses, in each year of the 1950s?"
   ]
  },
  {
   "cell_type": "code",
   "execution_count": 9,
   "id": "fc1b08d5",
   "metadata": {},
   "outputs": [
    {
     "name": "stdout",
     "output_type": "stream",
     "text": [
      "In the year 1950 there were 604 leading actors and 271 leading actresses.\n",
      "In the year 1951 there were 633 leading actors and 272 leading actresses.\n",
      "In the year 1952 there were 591 leading actors and 284 leading actresses.\n",
      "In the year 1953 there were 634 leading actors and 290 leading actresses.\n",
      "In the year 1954 there were 626 leading actors and 298 leading actresses.\n",
      "In the year 1955 there were 606 leading actors and 264 leading actresses.\n",
      "In the year 1956 there were 614 leading actors and 288 leading actresses.\n",
      "In the year 1957 there were 708 leading actors and 284 leading actresses.\n",
      "In the year 1958 there were 694 leading actors and 275 leading actresses.\n",
      "In the year 1959 there were 678 leading actors and 287 leading actresses.\n"
     ]
    }
   ],
   "source": [
    "leads = cast[cast['n'] == 1]\n",
    "for year in range(1950, 1960):\n",
    "    this_years_leads = leads[leads['year'] == year]\n",
    "    n_actors = len( this_years_leads[this_years_leads['type'] == 'actor'].index )\n",
    "    n_actresses = len( this_years_leads[this_years_leads['type'] == 'actress'].index )\n",
    "    print(\"In the year {} there were {} leading actors and {} leading actresses.\".format(year, n_actors, n_actresses))"
   ]
  },
  {
   "cell_type": "markdown",
   "id": "78c9eab4",
   "metadata": {},
   "source": [
    "6. List the 10 actors/actresses that have the most leading roles (n=1) since the 1990's."
   ]
  },
  {
   "cell_type": "code",
   "execution_count": 10,
   "id": "d02766f2",
   "metadata": {},
   "outputs": [
    {
     "data": {
      "text/plain": [
       "['Mohanlal',\n",
       " 'Mammootty',\n",
       " 'Akshay Kumar',\n",
       " 'Jayaram',\n",
       " 'Andy Lau',\n",
       " 'Ajay Devgn',\n",
       " 'Eric Roberts',\n",
       " 'Amitabh Bachchan',\n",
       " 'Nagarjuna Akkineni',\n",
       " 'Dilip']"
      ]
     },
     "execution_count": 10,
     "metadata": {},
     "output_type": "execute_result"
    }
   ],
   "source": [
    "leads_since_1990s = cast[ (cast['year'] >= 1990) & (cast['n'] == 1) ]\n",
    "leads_since_1990s['name'].value_counts()[:10].index.tolist()"
   ]
  },
  {
   "cell_type": "markdown",
   "id": "ef73f45f",
   "metadata": {},
   "source": [
    "7. List, in order by year, each of the films in which Frank Oz has played more than 1 role."
   ]
  },
  {
   "cell_type": "code",
   "execution_count": 11,
   "id": "36ffd500",
   "metadata": {},
   "outputs": [
    {
     "data": {
      "text/plain": [
       "year  title                                   \n",
       "1979  The Muppet Movie                            8\n",
       "1981  An American Werewolf in London              2\n",
       "      The Great Muppet Caper                      6\n",
       "1982  The Dark Crystal                            2\n",
       "1984  The Muppets Take Manhattan                  7\n",
       "1985  Sesame Street Presents: Follow that Bird    3\n",
       "1992  The Muppet Christmas Carol                  7\n",
       "1996  Muppet Treasure Island                      4\n",
       "1999  Muppets from Space                          4\n",
       "      The Adventures of Elmo in Grouchland        3\n",
       "dtype: int64"
      ]
     },
     "execution_count": 11,
     "metadata": {},
     "output_type": "execute_result"
    }
   ],
   "source": [
    "frank = cast[cast['name'] == 'Frank Oz']\n",
    "frank.sort_values('year')\n",
    "frank = frank.groupby(['year','title']).size()\n",
    "frank[frank > 1]"
   ]
  }
 ],
 "metadata": {
  "kernelspec": {
   "display_name": "Python 3 (ipykernel)",
   "language": "python",
   "name": "python3"
  },
  "language_info": {
   "codemirror_mode": {
    "name": "ipython",
    "version": 3
   },
   "file_extension": ".py",
   "mimetype": "text/x-python",
   "name": "python",
   "nbconvert_exporter": "python",
   "pygments_lexer": "ipython3",
   "version": "3.10.1"
  }
 },
 "nbformat": 4,
 "nbformat_minor": 5
}

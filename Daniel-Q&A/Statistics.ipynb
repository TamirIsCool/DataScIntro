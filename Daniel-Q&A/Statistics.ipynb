{
 "cells": [
  {
   "cell_type": "markdown",
   "metadata": {},
   "source": [
    "הסתברות, חוק בייס:\n",
    ".1\n",
    "א. בערך 125/1 מהלידות זה תאומים לא זהים ו-300/1 מהלידות זה תאומים זהים. לאלביס היה \n",
    "אח תאום שמת בלידה. מה ההסתברות שאלביס היה תאום זהה? )ניתן להניח שההסתברות \n",
    "להולדת בן ובת שווה ל -2/1 \n",
    "\n",
    "* Using the formula:\n",
    "* P(Identical twin / twin) = (5/17)/[(5/17 + 1/2 *(12/17))] = 5/11"
   ]
  },
  {
   "cell_type": "markdown",
   "metadata": {},
   "source": [
    "ב. יש שתי קערות של עוגיות. בקערה 1 יש 10 עוגיות שקדים ו-30 עוגיות שוקולד. בקערה 2 יש \n",
    "20 עוגיות שקדים ו-20 עוגיות שוקולד. אריק בחר קערה באקראי ובחר ממנה עוגיה באקראי. \n",
    "העוגיה שנבחרה היא שוקולד. מה ההסתברות שאריק בחר את קערה 1\n",
    "\n",
    "* Using the formula:\n",
    "* p(bowl 1 / chocolate ) = (3/8)/(5/8) = 0.6"
   ]
  },
  {
   "cell_type": "markdown",
   "metadata": {},
   "source": [
    "בשנת 1995 חברת M&M הוסיפה את הצבע כחול. לפני השנה הזו, התפלגות הצבעים בשקית \n",
    " M&M היתה נראית כך: \n",
    "30% Brown, 20% Yellow, 20% Red, 10% Green, 10% Orange, 10% Tan\n",
    "החל משנת 1995 ,ההתפלגות נראית כך:\n",
    "24% Blue , 20% Green, 16% Orange, 14% Yellow, 13% Red, 13% Brown.\n",
    "לחבר שלכם יש 2 שקיות M&M ,אחת משנת 1994 ואחת משנת 1996 והוא לא מוכן לגלות לכם איזו \n",
    "שקית שייכת לאיזו שנה. אבל הוא נותן לכם סוכריה אחת מכל שקית. סוכריה אחת היא צהובה ואחת היא \n",
    "ירוקה. מה הסיכוי שהסוכריה הצהובה הגיעה מהשקית של 1994\n",
    "\n",
    "* p((yellow and 1994)/ 1 yellow and 1 green) = [1/2 * (2/10) + 1/2 * (2/10)] / [1/2 * (1/10) + 1/2 * (2/10) + 1/2 * (2/10 + 1/2 * (14/100)] = 0.625"
   ]
  },
  {
   "cell_type": "markdown",
   "metadata": {},
   "source": [
    "3( .20 נקודות( הלכת לדוקטור בעקבות ציפורן חודרנית. הדוקטור בחר בך באקראי לבצע בדיקת \n",
    "דם הבודקת שפעת חזירים. ידוע סטטיסטית ששפעת זו פוגעת ב -1 מתוך 000,10 אנשים \n",
    "באוכלוסיי ה. הבדיקה מדויקת ב-99 אחוז במובן שההסתברות ל positive false היא %1 .הווה \n",
    "אומר שהבדיקה סיווגה בטעות אדם בריא כאדם חולה היא 1 אחוז. ההסתברות ל- false\n",
    " negative היא 0 – אין סיכוי שהבדיקה תגיד על אדם החולה בשפעת חזירים שהוא בריא. \n",
    "בבדיקה יצאת חיובי )יש לך שפעת(. \n",
    "א. מה ההסתברות שיש לך שפעת חזירים?\n",
    "\n",
    "*  P(swine flu / positive) = [1/10 * 0.99] / [1/10 * 0.99 + 0.01 * (999/10,000)] = 1/102\n"
   ]
  },
  {
   "cell_type": "markdown",
   "metadata": {},
   "source": [
    "ב. נניח שחזרת מתאילנד לאחרונה ואתה יודע ש-1 מתוך 200 אנשים שחזרו לאחרונה מתאילנד, \n",
    "חזרו עם שפעת חזירים. בהינתן אותה סיטואציה כמו בשאלה א, מה ההסתברות )המתוקנת( \n",
    "שיש לך שפעת חזירים? \n",
    "\n",
    "* P(swine flu / positive after thailand) = [1/200 * (0.99)] / [1/200 * (0.99) + 0.01 * (199/200)] = 99/298"
   ]
  },
  {
   "cell_type": "markdown",
   "metadata": {},
   "source": [
    "4 .בערך 300/1 מהלידות היא של תאומים זהים ו 125/1 מהלידות היא של תאומים לא זהים. לנסיך \n",
    "צ׳ארלס היה אח תאום שמת בלידה. מה ההסתברות שהיה לו אחת תאום זהה? )תאומים זהים \n",
    "חייבים להיות בני אותו המין\n",
    "\n",
    "* Same question as the first one, hence same answer."
   ]
  },
  {
   "cell_type": "markdown",
   "metadata": {},
   "source": [
    "Random Variables:\n",
    "1. Roi is playing a dice game with Yael.\n",
    "Roi will roll 2 six-sided dice, and if the sum of the dice is divisible by 3, he will win 6$. If the sum \n",
    "is not divisible by 3, he will lose 3$.\n",
    "What is Roi’s expected value of playing this game?\n",
    "\n",
    "First Ill calculate all the result that will be divisible by 3, and then divide by 36 (6*6):\n",
    "* (1,2) *2 \n",
    "* (1,5) *2 \n",
    "* (2,4) *2 \n",
    "* (3,3) *2\n",
    "* (6,6) *2\n",
    "\n",
    "12 / 36 = 1/3 chance of winning\n",
    "\n",
    "When he wins, he gets 6$ , and by losing he lose 3$ , hence, if he will play an infinite amount of times, he will neither lose or win cash."
   ]
  },
  {
   "cell_type": "markdown",
   "metadata": {},
   "source": [
    "2. Sharon has challenged Alex to a round of Marker Mixup. Marker Mixup is a game where \n",
    "there is a bag of 5 red markers numbered 1 through 5, and another bag with 5 green \n",
    "markers numbered 6 through 10.\n",
    "Alex will grab 1 marker from each bag, and if the 2 markers add up to more than 12, he will \n",
    "win 5$, 5. If the sum is exactly 12, he will break even, and If the sum is less than 12, he will \n",
    "lose 6$.\n",
    "What is Alex's expected value of playing Marker Mixup?\n",
    "\n",
    "First Ill calculate the chance for winning:\n",
    "* (3-5,10) , (4-5,9) , (5,8) : All in all, 6 results of winning\n",
    "\n",
    "Now Ill calculate the chances for a draw:\n",
    "* (2,10), (3,9) ,(4,8) , (5,7) : All in all, 4 results for draw.\n",
    "\n",
    "Now Ill calculate the chances for losing:\n",
    "* (1,10) , (1-2,9) , (1-3,8) ... (1-5,6) : All in all, 15 reuslts for losing\n",
    "\n",
    "* 6/25 = chance of winning\n",
    "* 15/25 = chance of losing\n",
    "\n",
    "5$ * 6/25 + (-6$)*15/25 = -2.4$. \n",
    "\n",
    "\n"
   ]
  },
  {
   "cell_type": "markdown",
   "metadata": {},
   "source": [
    "3. A division of a company has 200 employees, 40%, percent of which are male. Each month, \n",
    "the company randomly selects 8 of these employees to have lunch with the CEO.\n",
    "What are the mean and standard deviation of the number of males selected each\n",
    "month?\n",
    "\n",
    "* The mean of the number of males selected each month is 8*0.4 = 3.2\n",
    "\n",
    "Using the formula to calculate the standard deviation:\n",
    "* square of np(1-p) = square of (8 * 0.4 * 0.6) = 1.38\n"
   ]
  },
  {
   "cell_type": "markdown",
   "metadata": {},
   "source": [
    "4. Different dealers may sell the same car for different prices. The sale prices for a particular \n",
    "car are normally distributed with a mean and standard deviation of 26,000$ and 2,000$, \n",
    "respectively. Suppose we select one of these cars at random. Let X = the sale price (in \n",
    "thousands of dollars) for the selected car.\n",
    "Find P(26 < X < 30)\n",
    "\n",
    "* Mean = 26\n",
    "* Std = 2\n",
    "* P(26 < x < 30) = P(X < 30) - P(X < 26) = 0.97725 - 0.5 = 4.777"
   ]
  },
  {
   "cell_type": "markdown",
   "metadata": {},
   "source": [
    "5. Given the following distribution, what is P(x>3)?\n",
    "\n",
    "* P(X > 3) = (2 * 0.4)/2 = 0.4 "
   ]
  },
  {
   "cell_type": "markdown",
   "metadata": {},
   "source": [
    "6. A company has 500 employees, and 60% of them have children. Suppose that we randomly \n",
    "select 4 of these employees.\n",
    "What is the probability that exactly 3 of the 4 employees selected have children\n",
    "\n",
    "* p(3 of the employees have childern out of 4 employees) = (4 above 3) * (0.6)^3 * (0.4) = 0.345"
   ]
  },
  {
   "cell_type": "markdown",
   "metadata": {},
   "source": [
    "7. Look at the next Graph. What is the expected value of X\n",
    "\n",
    "* -10 * 0.1 + -5 * 0.35 + 0 * 0.1 + 5 * 0.35 + 10 * 0.1 = 0\n",
    "* The expected value of X is 0"
   ]
  }
 ],
 "metadata": {
  "language_info": {
   "name": "python"
  },
  "orig_nbformat": 4
 },
 "nbformat": 4,
 "nbformat_minor": 2
}

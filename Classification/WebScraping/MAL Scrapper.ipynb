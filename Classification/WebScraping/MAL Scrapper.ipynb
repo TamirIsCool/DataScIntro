{
 "cells": [
  {
   "cell_type": "markdown",
   "id": "88789edb",
   "metadata": {},
   "source": [
    "## MyAnimeList Top Anime Scrapper ##\n",
    "\n",
    "This script scraps data regarding the top anime as rated on MyAnimeList (MAL) https://myanimelist.net"
   ]
  },
  {
   "cell_type": "markdown",
   "id": "31b1d2f3",
   "metadata": {},
   "source": [
    "First we would import 'requests' and 'BeautifulSoup' for requesting the site's HTML content and parsing it."
   ]
  },
  {
   "cell_type": "code",
   "execution_count": 82,
   "id": "9d1349bf",
   "metadata": {},
   "outputs": [],
   "source": [
    "import requests\n",
    "from bs4 import BeautifulSoup"
   ]
  },
  {
   "cell_type": "markdown",
   "id": "33974b3b",
   "metadata": {},
   "source": [
    "Next we import 'pandas' to organize the scrapped data and conveniently save it in the CSV file format."
   ]
  },
  {
   "cell_type": "code",
   "execution_count": 83,
   "id": "d61e47d3",
   "metadata": {},
   "outputs": [],
   "source": [
    "import pandas as pd"
   ]
  },
  {
   "cell_type": "markdown",
   "id": "7345a83a",
   "metadata": {},
   "source": [
    "We will alos need to import 'time' and 'random' to avoid the site blocking us for excessive requests."
   ]
  },
  {
   "cell_type": "code",
   "execution_count": 84,
   "id": "9f788d93",
   "metadata": {},
   "outputs": [],
   "source": [
    "import time\n",
    "import random"
   ]
  },
  {
   "cell_type": "markdown",
   "id": "8faf9cbd",
   "metadata": {},
   "source": [
    "Finally we will import 'warnings' to avoid known warning messages that would slow down the scraping process in the long term."
   ]
  },
  {
   "cell_type": "code",
   "execution_count": 85,
   "id": "90514f33",
   "metadata": {},
   "outputs": [],
   "source": [
    "import warnings"
   ]
  },
  {
   "cell_type": "markdown",
   "id": "db8b16c3",
   "metadata": {},
   "source": [
    "The following method will scan the list of the top 50 rated anime on MAL starting from the 'limit' rank as can be seen in the following web page: https://myanimelist.net/topanime.php?limit=0 <br>\n",
    "As of this stage we will only save the anime's id for future use. <br>\n",
    "We will use the 'limit' variable as our iterator later."
   ]
  },
  {
   "cell_type": "code",
   "execution_count": 86,
   "id": "de897d96",
   "metadata": {},
   "outputs": [],
   "source": [
    "def ScanPageForAnime(starting_index):\n",
    "    # base page showing the top 50 anime listings starting from the 'starting_index' spot:\n",
    "    result = requests.get(\"https://myanimelist.net/topanime.php?limit={}\".format(starting_index))\n",
    "\n",
    "    # page HTML content:\n",
    "    src = result.content\n",
    "\n",
    "    # parse src using BeautifulSoup:\n",
    "    soup = BeautifulSoup(src, 'lxml')\n",
    "\n",
    "    anime_block_list = soup.find_all(\"td\",attrs={\"class\",\"title al va-t word-break\"})\n",
    "\n",
    "    anime_list = []\n",
    "    for anime_block in anime_block_list:\n",
    "        anime_link = anime_block.find(\"a\").attrs[\"href\"]\n",
    "        anime_id = anime_link.replace(\"https://myanimelist.net/anime/\", \"\").split(\"/\")[0]\n",
    "        anime_list.append(anime_id)\n",
    "        \n",
    "    return anime_list"
   ]
  },
  {
   "cell_type": "markdown",
   "id": "9a3cb9f6",
   "metadata": {},
   "source": [
    "The following method will scan the page of a specific anime and extract useful information to be later saved in the dataframe. <br>\n",
    "To access the page of a specific show we will use its previously saved id, For example: using the id of 'Steins;Gate', 9253, we can access https://myanimelist.net/anime/9253 <br><br>\n",
    "The method will return the following parameters regarding a show:\n",
    " - Title.\n",
    " - MAL Id. This method's input, its returned for convenience.\n",
    " - Type. For example: 'Movie', 'TV', 'Music', ect.\n",
    " - Episode's duration. For example: '23 min', '2 hour', ect.\n",
    " - Publishing animation studio.\n",
    " - Source type. For example: 'Manga', 'Visual' (short for Visual Novel), ect.\n",
    " - Genres. For example: 'Fantasy', 'Romance', 'Action', etc.\n",
    " - Themes. For example: 'Military', 'Apocalypse', etc.\n",
    " - Rating. For example: 'PG-13'.\n",
    " - Popularity. Popularity ranking, lower is better.\n",
    " - Score. x out of 10, given by MAL user.\n",
    " - Year. Release year. For example: '2022'.\n",
    " - Number of Episodes. For example: '24'.\n",
    " - Demographic. Intended demographic. For example: 'shonen' (meaning young boys)."
   ]
  },
  {
   "cell_type": "code",
   "execution_count": 87,
   "id": "a8cea796",
   "metadata": {},
   "outputs": [],
   "source": [
    "def ScanAnimeDetails(mal_index):\n",
    "    # Will be used in case of unexpected failure:\n",
    "    failed = False\n",
    "\n",
    "    # Requesting the page corresponding to the given index and parsing it using BeautifulSoup:\n",
    "    anime_link = \"https://myanimelist.net/anime/{}\".format(mal_index)\n",
    "    result = requests.get(anime_link)\n",
    "    src = result.content\n",
    "    soup = BeautifulSoup(src, 'lxml')\n",
    "\n",
    "    # Getting show's title (located at the top of the page):\n",
    "    anime_title = \"N\\A\"\n",
    "    try:\n",
    "        anime_title = soup.find(\"h1\",attrs={\"class\",\"title-name h1_bold_none\"}).find(\"strong\").string\n",
    "    except:\n",
    "        # In case of failure we will add the anime to a separate list and handle it ourselves:\n",
    "        failed = True\n",
    "        print(\"Anime title error {}\".format(mal_index))\n",
    "\n",
    "    # Getting show's score (located in the statistics block):\n",
    "    anime_score = \"N\\A\"\n",
    "    divs = soup.find_all(\"div\",attrs={\"class\",\"fl-l score\"})\n",
    "\n",
    "    for div in divs:\n",
    "        if div.find(\"div\").text.replace('.', '', 1).isdigit():\n",
    "            anime_score = div.find(\"div\").text\n",
    "\n",
    "    # Getting the rest of the data (located in the leftside bar):\n",
    "    details = soup.find_all(\"div\",attrs={\"class\",\"spaceit_pad\"})\n",
    "\n",
    "    anime_type = \"N\\A\"\n",
    "    anime_duration = \"N\\A\"\n",
    "    anime_studios = \"N\\A\"\n",
    "    anime_source = \"N\\A\"\n",
    "    anime_genres = \"N\\A\"\n",
    "    anime_themes = \"N\\A\"\n",
    "    anime_rating = \"N\\A\"\n",
    "    anime_popularity = \"N\\A\"\n",
    "    anime_year = \"N\\A\"\n",
    "    anime_demographic = \"N\\A\"\n",
    "    anime_episode_count = \"N\\A\"\n",
    "\n",
    "    for div in details:\n",
    "        # Skipping obviously irrelevant tags:\n",
    "        if div.find(\"span\") == None:\n",
    "            continue\n",
    "\n",
    "        try:\n",
    "            if (div.find(\"span\").string == \"Type:\"):\n",
    "                    anime_type = div.find(\"a\").string\n",
    "\n",
    "            elif (div.find(\"span\").string == \"Studios:\"):\n",
    "                    studios = ''\n",
    "                    for studio in div.find_all(\"a\"):\n",
    "                        studios += studio.string + ','\n",
    "                    if len(studios) == 0:\n",
    "                        anime_studios = 'N\\A'\n",
    "                    else:\n",
    "                        anime_studios = studios[:-1]\n",
    "\n",
    "            elif (div.find(\"span\").string == \"Genres:\"):\n",
    "                genres = ''\n",
    "                for genre in div.find_all(\"a\"):\n",
    "                    genres += genre.string + ','\n",
    "                if len(genres) == 0:\n",
    "                    anime_genres = 'N\\A'\n",
    "                else:\n",
    "                    anime_genres = genres[:-1]\n",
    "\n",
    "            elif (div.find(\"span\").string == \"Themes:\"):\n",
    "                themes = ''\n",
    "                for theme in div.find_all(\"a\"):\n",
    "                    themes += theme.string + ','\n",
    "                if len(themes) == 0:\n",
    "                    anime_themes = 'N\\A'\n",
    "                else:\n",
    "                    anime_themes = themes[:-1]\n",
    "\n",
    "            elif (div.find(\"span\").string == \"Source:\"):\n",
    "                anime_source = div.text.split(\" \")[2].split(\"\\n\")[0]\n",
    "\n",
    "            elif (div.find(\"span\").string == \"Duration:\"):\n",
    "                txt = div.text.split(\" \")[2:]\n",
    "                anime_duration = \" \".join(txt).split(\"\\n\")[0]\n",
    "\n",
    "            elif (div.find(\"span\").string == \"Rating:\"):\n",
    "                anime_rating = div.text.replace(\"\\n\", \"\").replace(\"Rating: \", \"\")\n",
    "                if anime_rating == None:\n",
    "                    anime_rating = \"N\\A\"\n",
    "\n",
    "            elif (div.find(\"span\").string == \"Popularity:\"):\n",
    "                anime_popularity = div.text.split(\" \")[2].split(\"\\n\")[0][1:]\n",
    "\n",
    "            elif (div.find(\"span\").string == \"Demographic:\"):\n",
    "                anime_demographic = div.find('a').string\n",
    "\n",
    "            elif (div.find(\"span\").string == \"Aired:\"):\n",
    "                anime_year = div.text.split(' ')[4].replace('\\n', '')\n",
    "\n",
    "            elif (div.find(\"span\").string == \"Episodes:\"):\n",
    "                anime_episode_count = div.text.split(' ')[2].split('\\n')[0]\n",
    "            \n",
    "        except:\n",
    "            # In case of failure we will add the anime to a separate list and handle it ourselves:\n",
    "            failed = True\n",
    "            print(\"Anime {} error at {}\".format(div.find(\"span\").string[:-1], mal_index))\n",
    "        \n",
    "    return ([anime_title, mal_index, anime_type, anime_episode_count, anime_duration, anime_studios, anime_source, anime_genres, anime_themes, anime_rating, anime_popularity, anime_score, anime_demographic, anime_year], failed)"
   ]
  },
  {
   "cell_type": "markdown",
   "id": "6c016ba1",
   "metadata": {},
   "source": [
    "Ignore known warning messages.\n",
    "Such as: \n",
    "\n",
    "<font color='red'>\n",
    "FutureWarning: The frame.append method is deprecated and will be removed from pandas in a future version. Use pandas.concat instead.\n",
    "</font>"
   ]
  },
  {
   "cell_type": "code",
   "execution_count": 88,
   "id": "1657c541",
   "metadata": {},
   "outputs": [],
   "source": [
    "warnings.filterwarnings('ignore')"
   ]
  },
  {
   "cell_type": "markdown",
   "id": "17af4f97",
   "metadata": {},
   "source": [
    "Create the dataframe and set the future name for the CSV file."
   ]
  },
  {
   "cell_type": "code",
   "execution_count": 89,
   "id": "d248c079",
   "metadata": {},
   "outputs": [],
   "source": [
    "df = pd.DataFrame(columns=(\"Title\", \"MAL Id\", \"Type\", \"Number of Episodes\", \"Episode Duration\", \"Studios\", \"Source Type\", \"Genres\", \"Themes\", \"Rating\", \"Popularity\", \"Score\", \"Demographic\", \"Year\"))\n",
    "\n",
    "filename = \"anime_df.csv\""
   ]
  },
  {
   "cell_type": "markdown",
   "id": "c6e31906",
   "metadata": {},
   "source": [
    "Pulls 50 shows at a time and scraps their individual pages for data, saving it in the dataframe."
   ]
  },
  {
   "cell_type": "code",
   "execution_count": 90,
   "id": "c385cc31",
   "metadata": {},
   "outputs": [
    {
     "name": "stdout",
     "output_type": "stream",
     "text": [
      "Scraped 100 anime's pages.\n"
     ]
    }
   ],
   "source": [
    "for i in range(1, 2):\n",
    "    # Getting the next 50 indexes of shows to be scrapped:\n",
    "    ani = ScanPageForAnime(i*50)\n",
    "\n",
    "    for anime_id in ani:\n",
    "        # Scrapping show details:\n",
    "        data, failed = ScanAnimeDetails(anime_id)\n",
    "\n",
    "        # Either saving it in the dataframe or in case of failure saving it in a separate dataframe for manual review:\n",
    "        a_series = pd.Series(data, index = df.columns)\n",
    "        if not failed:\n",
    "            df = df.append(a_series, ignore_index=True)\n",
    "\n",
    "        # Avoiding the site blocking us due to excessive requests:\n",
    "        rand = random.uniform(1, 3)\n",
    "        time.sleep(rand)\n",
    "\n",
    "    # Saving the accumulated data:\n",
    "    df.to_csv(\"anime_df_raw-{}.csv\".format((i+1)*50), sep=';', index=False)\n",
    "    print(\"Scraped {} anime's pages.\".format((i+1)*50))\n",
    "\n",
    "df.to_csv(\"anime_df_raw.csv\", sep=';', index=False)"
   ]
  },
  {
   "cell_type": "markdown",
   "id": "21ae6705",
   "metadata": {},
   "source": [
    "Example of the dataframe:"
   ]
  },
  {
   "cell_type": "code",
   "execution_count": 91,
   "id": "a1bed6cf",
   "metadata": {},
   "outputs": [
    {
     "data": {
      "text/html": [
       "<div>\n",
       "<style scoped>\n",
       "    .dataframe tbody tr th:only-of-type {\n",
       "        vertical-align: middle;\n",
       "    }\n",
       "\n",
       "    .dataframe tbody tr th {\n",
       "        vertical-align: top;\n",
       "    }\n",
       "\n",
       "    .dataframe thead th {\n",
       "        text-align: right;\n",
       "    }\n",
       "</style>\n",
       "<table border=\"1\" class=\"dataframe\">\n",
       "  <thead>\n",
       "    <tr style=\"text-align: right;\">\n",
       "      <th></th>\n",
       "      <th>Title</th>\n",
       "      <th>MAL Id</th>\n",
       "      <th>Type</th>\n",
       "      <th>Number of Episodes</th>\n",
       "      <th>Episode Duration</th>\n",
       "      <th>Studios</th>\n",
       "      <th>Source Type</th>\n",
       "      <th>Genres</th>\n",
       "      <th>Themes</th>\n",
       "      <th>Rating</th>\n",
       "      <th>Popularity</th>\n",
       "      <th>Score</th>\n",
       "      <th>Demographic</th>\n",
       "      <th>Year</th>\n",
       "    </tr>\n",
       "  </thead>\n",
       "  <tbody>\n",
       "    <tr>\n",
       "      <th>0</th>\n",
       "      <td>Made in Abyss</td>\n",
       "      <td>34599</td>\n",
       "      <td>TV</td>\n",
       "      <td>13</td>\n",
       "      <td>25 min. per ep.</td>\n",
       "      <td>Kinema Citrus</td>\n",
       "      <td>Web</td>\n",
       "      <td>Adventure,Drama,Fantasy,Mystery,Sci-Fi</td>\n",
       "      <td>N\\A</td>\n",
       "      <td>R - 17+ (violence &amp; profanity)</td>\n",
       "      <td>95</td>\n",
       "      <td>8.69</td>\n",
       "      <td>N\\A</td>\n",
       "      <td>2017</td>\n",
       "    </tr>\n",
       "    <tr>\n",
       "      <th>1</th>\n",
       "      <td>Made in Abyss Movie 3: Fukaki Tamashii no Reimei</td>\n",
       "      <td>36862</td>\n",
       "      <td>Movie</td>\n",
       "      <td>1</td>\n",
       "      <td>1 hr. 45 min.</td>\n",
       "      <td>Kinema Citrus</td>\n",
       "      <td>Web</td>\n",
       "      <td>Adventure,Drama,Fantasy,Mystery,Sci-Fi</td>\n",
       "      <td>N\\A</td>\n",
       "      <td>R - 17+ (violence &amp; profanity)</td>\n",
       "      <td>591</td>\n",
       "      <td>8.69</td>\n",
       "      <td>N\\A</td>\n",
       "      <td>2020</td>\n",
       "    </tr>\n",
       "    <tr>\n",
       "      <th>2</th>\n",
       "      <td>Mononoke Hime</td>\n",
       "      <td>164</td>\n",
       "      <td>Movie</td>\n",
       "      <td>1</td>\n",
       "      <td>2 hr. 13 min.</td>\n",
       "      <td>Studio Ghibli</td>\n",
       "      <td>Original</td>\n",
       "      <td>Action,Adventure,Fantasy</td>\n",
       "      <td>N\\A</td>\n",
       "      <td>PG-13 - Teens 13 or older</td>\n",
       "      <td>100</td>\n",
       "      <td>8.68</td>\n",
       "      <td>N\\A</td>\n",
       "      <td>1997</td>\n",
       "    </tr>\n",
       "  </tbody>\n",
       "</table>\n",
       "</div>"
      ],
      "text/plain": [
       "                                              Title MAL Id   Type  \\\n",
       "0                                     Made in Abyss  34599     TV   \n",
       "1  Made in Abyss Movie 3: Fukaki Tamashii no Reimei  36862  Movie   \n",
       "2                                     Mononoke Hime    164  Movie   \n",
       "\n",
       "  Number of Episodes Episode Duration        Studios Source Type  \\\n",
       "0                 13  25 min. per ep.  Kinema Citrus         Web   \n",
       "1                  1    1 hr. 45 min.  Kinema Citrus         Web   \n",
       "2                  1    2 hr. 13 min.  Studio Ghibli    Original   \n",
       "\n",
       "                                   Genres Themes  \\\n",
       "0  Adventure,Drama,Fantasy,Mystery,Sci-Fi    N\\A   \n",
       "1  Adventure,Drama,Fantasy,Mystery,Sci-Fi    N\\A   \n",
       "2                Action,Adventure,Fantasy    N\\A   \n",
       "\n",
       "                              Rating Popularity Score Demographic  Year  \n",
       "0   R - 17+ (violence & profanity)           95  8.69         N\\A  2017  \n",
       "1   R - 17+ (violence & profanity)          591  8.69         N\\A  2020  \n",
       "2        PG-13 - Teens 13 or older          100  8.68         N\\A  1997  "
      ]
     },
     "execution_count": 91,
     "metadata": {},
     "output_type": "execute_result"
    }
   ],
   "source": [
    "df.head(3)"
   ]
  }
 ],
 "metadata": {
  "kernelspec": {
   "display_name": "Python 3 (ipykernel)",
   "language": "python",
   "name": "python3"
  },
  "language_info": {
   "codemirror_mode": {
    "name": "ipython",
    "version": 3
   },
   "file_extension": ".py",
   "mimetype": "text/x-python",
   "name": "python",
   "nbconvert_exporter": "python",
   "pygments_lexer": "ipython3",
   "version": "3.10.1"
  }
 },
 "nbformat": 4,
 "nbformat_minor": 5
}

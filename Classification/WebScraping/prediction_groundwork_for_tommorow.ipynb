{
 "cells": [
  {
   "cell_type": "markdown",
   "metadata": {},
   "source": [
    "### Prediction of scraped MyAnimeList Data ###"
   ]
  },
  {
   "cell_type": "code",
   "execution_count": 667,
   "metadata": {},
   "outputs": [],
   "source": [
    "from sklearn import datasets\n",
    "import numpy as np\n",
    "import pandas as pd"
   ]
  },
  {
   "cell_type": "code",
   "execution_count": 668,
   "metadata": {},
   "outputs": [],
   "source": [
    "import warnings\n",
    "warnings.filterwarnings('ignore')"
   ]
  },
  {
   "cell_type": "code",
   "execution_count": 669,
   "metadata": {},
   "outputs": [
    {
     "data": {
      "text/html": [
       "<div>\n",
       "<style scoped>\n",
       "    .dataframe tbody tr th:only-of-type {\n",
       "        vertical-align: middle;\n",
       "    }\n",
       "\n",
       "    .dataframe tbody tr th {\n",
       "        vertical-align: top;\n",
       "    }\n",
       "\n",
       "    .dataframe thead th {\n",
       "        text-align: right;\n",
       "    }\n",
       "</style>\n",
       "<table border=\"1\" class=\"dataframe\">\n",
       "  <thead>\n",
       "    <tr style=\"text-align: right;\">\n",
       "      <th></th>\n",
       "      <th>Unnamed: 0</th>\n",
       "      <th>Title</th>\n",
       "      <th>MAL Id</th>\n",
       "      <th>Type</th>\n",
       "      <th>Episode Duration</th>\n",
       "      <th>Episode Count</th>\n",
       "      <th>Status</th>\n",
       "      <th>Studios</th>\n",
       "      <th>Source Type</th>\n",
       "      <th>Genres</th>\n",
       "      <th>Themes</th>\n",
       "      <th>Rating</th>\n",
       "      <th>Popularity</th>\n",
       "      <th>Score</th>\n",
       "      <th>Year</th>\n",
       "      <th>Demographic</th>\n",
       "    </tr>\n",
       "  </thead>\n",
       "  <tbody>\n",
       "    <tr>\n",
       "      <th>0</th>\n",
       "      <td>0</td>\n",
       "      <td>Fullmetal Alchemist: Brotherhood</td>\n",
       "      <td>5114</td>\n",
       "      <td>TV</td>\n",
       "      <td>24 min. per ep.</td>\n",
       "      <td>64</td>\n",
       "      <td>Finished Airing</td>\n",
       "      <td>Bones</td>\n",
       "      <td>Manga</td>\n",
       "      <td>Action,Adventure,Comedy,Drama,Fantasy</td>\n",
       "      <td>N\\A</td>\n",
       "      <td>R - 17+ (violence &amp; profanity)</td>\n",
       "      <td>3</td>\n",
       "      <td>9.15</td>\n",
       "      <td>9</td>\n",
       "      <td>Shounen</td>\n",
       "    </tr>\n",
       "    <tr>\n",
       "      <th>1</th>\n",
       "      <td>1</td>\n",
       "      <td>Shingeki no Kyojin: The Final Season Part 2</td>\n",
       "      <td>48583</td>\n",
       "      <td>TV</td>\n",
       "      <td>23 min. per ep.</td>\n",
       "      <td>12</td>\n",
       "      <td>Currently Airing</td>\n",
       "      <td>MAPPA</td>\n",
       "      <td>Manga</td>\n",
       "      <td>Action,Drama,Fantasy,Mystery</td>\n",
       "      <td>Military,Super Power</td>\n",
       "      <td>R - 17+ (violence &amp; profanity)</td>\n",
       "      <td>220</td>\n",
       "      <td>9.15</td>\n",
       "      <td>22</td>\n",
       "      <td>Shounen</td>\n",
       "    </tr>\n",
       "    <tr>\n",
       "      <th>2</th>\n",
       "      <td>2</td>\n",
       "      <td>Steins;Gate</td>\n",
       "      <td>9253</td>\n",
       "      <td>TV</td>\n",
       "      <td>24 min. per ep.</td>\n",
       "      <td>24</td>\n",
       "      <td>Finished Airing</td>\n",
       "      <td>White Fox</td>\n",
       "      <td>Visual</td>\n",
       "      <td>Drama,Sci-Fi,Suspense</td>\n",
       "      <td>N\\A</td>\n",
       "      <td>PG-13 - Teens 13 or older</td>\n",
       "      <td>13</td>\n",
       "      <td>9.09</td>\n",
       "      <td>11</td>\n",
       "      <td>N\\A</td>\n",
       "    </tr>\n",
       "    <tr>\n",
       "      <th>3</th>\n",
       "      <td>3</td>\n",
       "      <td>Gintama°</td>\n",
       "      <td>28977</td>\n",
       "      <td>TV</td>\n",
       "      <td>24 min. per ep.</td>\n",
       "      <td>51</td>\n",
       "      <td>Finished Airing</td>\n",
       "      <td>Bandai Namco Pictures</td>\n",
       "      <td>Manga</td>\n",
       "      <td>Action,Comedy,Sci-Fi</td>\n",
       "      <td>Historical,Parody,Samurai</td>\n",
       "      <td>PG-13 - Teens 13 or older</td>\n",
       "      <td>335</td>\n",
       "      <td>9.09</td>\n",
       "      <td>15</td>\n",
       "      <td>Shounen</td>\n",
       "    </tr>\n",
       "    <tr>\n",
       "      <th>4</th>\n",
       "      <td>4</td>\n",
       "      <td>Shingeki no Kyojin Season 3 Part 2</td>\n",
       "      <td>38524</td>\n",
       "      <td>TV</td>\n",
       "      <td>23 min. per ep.</td>\n",
       "      <td>10</td>\n",
       "      <td>Finished Airing</td>\n",
       "      <td>Wit Studio</td>\n",
       "      <td>Manga</td>\n",
       "      <td>Action,Drama,Fantasy,Mystery</td>\n",
       "      <td>Military,Super Power</td>\n",
       "      <td>R - 17+ (violence &amp; profanity)</td>\n",
       "      <td>31</td>\n",
       "      <td>9.08</td>\n",
       "      <td>19</td>\n",
       "      <td>Shounen</td>\n",
       "    </tr>\n",
       "    <tr>\n",
       "      <th>5</th>\n",
       "      <td>5</td>\n",
       "      <td>Fruits Basket: The Final</td>\n",
       "      <td>42938</td>\n",
       "      <td>TV</td>\n",
       "      <td>23 min. per ep.</td>\n",
       "      <td>13</td>\n",
       "      <td>Finished Airing</td>\n",
       "      <td>TMS Entertainment</td>\n",
       "      <td>Manga</td>\n",
       "      <td>Drama,Romance,Slice of Life,Supernatural</td>\n",
       "      <td>N\\A</td>\n",
       "      <td>PG-13 - Teens 13 or older</td>\n",
       "      <td>626</td>\n",
       "      <td>9.06</td>\n",
       "      <td>21</td>\n",
       "      <td>Shoujo</td>\n",
       "    </tr>\n",
       "    <tr>\n",
       "      <th>6</th>\n",
       "      <td>6</td>\n",
       "      <td>Gintama'</td>\n",
       "      <td>9969</td>\n",
       "      <td>TV</td>\n",
       "      <td>24 min. per ep.</td>\n",
       "      <td>51</td>\n",
       "      <td>Finished Airing</td>\n",
       "      <td>Sunrise</td>\n",
       "      <td>Manga</td>\n",
       "      <td>Action,Comedy,Sci-Fi</td>\n",
       "      <td>Historical,Parody,Samurai</td>\n",
       "      <td>PG-13 - Teens 13 or older</td>\n",
       "      <td>380</td>\n",
       "      <td>9.06</td>\n",
       "      <td>11</td>\n",
       "      <td>Shounen</td>\n",
       "    </tr>\n",
       "    <tr>\n",
       "      <th>7</th>\n",
       "      <td>7</td>\n",
       "      <td>Gintama: The Final</td>\n",
       "      <td>39486</td>\n",
       "      <td>Movie</td>\n",
       "      <td>1 hr. 44 min.</td>\n",
       "      <td>1</td>\n",
       "      <td>Finished Airing</td>\n",
       "      <td>Bandai Namco Pictures</td>\n",
       "      <td>Manga</td>\n",
       "      <td>Action,Comedy,Drama,Sci-Fi</td>\n",
       "      <td>Historical,Parody,Samurai</td>\n",
       "      <td>PG-13 - Teens 13 or older</td>\n",
       "      <td>1798</td>\n",
       "      <td>9.05</td>\n",
       "      <td>21</td>\n",
       "      <td>Shounen</td>\n",
       "    </tr>\n",
       "    <tr>\n",
       "      <th>8</th>\n",
       "      <td>8</td>\n",
       "      <td>Hunter x Hunter (2011)</td>\n",
       "      <td>11061</td>\n",
       "      <td>TV</td>\n",
       "      <td>23 min. per ep.</td>\n",
       "      <td>148</td>\n",
       "      <td>Finished Airing</td>\n",
       "      <td>Madhouse</td>\n",
       "      <td>Manga</td>\n",
       "      <td>Action,Adventure,Fantasy</td>\n",
       "      <td>N\\A</td>\n",
       "      <td>PG-13 - Teens 13 or older</td>\n",
       "      <td>10</td>\n",
       "      <td>9.05</td>\n",
       "      <td>11</td>\n",
       "      <td>Shounen</td>\n",
       "    </tr>\n",
       "    <tr>\n",
       "      <th>9</th>\n",
       "      <td>9</td>\n",
       "      <td>Gintama': Enchousen</td>\n",
       "      <td>15417</td>\n",
       "      <td>TV</td>\n",
       "      <td>24 min. per ep.</td>\n",
       "      <td>13</td>\n",
       "      <td>Finished Airing</td>\n",
       "      <td>Sunrise</td>\n",
       "      <td>Manga</td>\n",
       "      <td>Action,Comedy,Sci-Fi</td>\n",
       "      <td>Historical,Parody,Samurai</td>\n",
       "      <td>PG-13 - Teens 13 or older</td>\n",
       "      <td>683</td>\n",
       "      <td>9.04</td>\n",
       "      <td>12</td>\n",
       "      <td>Shounen</td>\n",
       "    </tr>\n",
       "  </tbody>\n",
       "</table>\n",
       "</div>"
      ],
      "text/plain": [
       "   Unnamed: 0                                        Title  MAL Id   Type  \\\n",
       "0           0             Fullmetal Alchemist: Brotherhood    5114     TV   \n",
       "1           1  Shingeki no Kyojin: The Final Season Part 2   48583     TV   \n",
       "2           2                                  Steins;Gate    9253     TV   \n",
       "3           3                                     Gintama°   28977     TV   \n",
       "4           4           Shingeki no Kyojin Season 3 Part 2   38524     TV   \n",
       "5           5                     Fruits Basket: The Final   42938     TV   \n",
       "6           6                                     Gintama'    9969     TV   \n",
       "7           7                           Gintama: The Final   39486  Movie   \n",
       "8           8                       Hunter x Hunter (2011)   11061     TV   \n",
       "9           9                          Gintama': Enchousen   15417     TV   \n",
       "\n",
       "  Episode Duration  Episode Count            Status                Studios  \\\n",
       "0  24 min. per ep.             64   Finished Airing                  Bones   \n",
       "1  23 min. per ep.             12  Currently Airing                  MAPPA   \n",
       "2  24 min. per ep.             24   Finished Airing              White Fox   \n",
       "3  24 min. per ep.             51   Finished Airing  Bandai Namco Pictures   \n",
       "4  23 min. per ep.             10   Finished Airing             Wit Studio   \n",
       "5  23 min. per ep.             13   Finished Airing      TMS Entertainment   \n",
       "6  24 min. per ep.             51   Finished Airing                Sunrise   \n",
       "7    1 hr. 44 min.              1   Finished Airing  Bandai Namco Pictures   \n",
       "8  23 min. per ep.            148   Finished Airing               Madhouse   \n",
       "9  24 min. per ep.             13   Finished Airing                Sunrise   \n",
       "\n",
       "  Source Type                                    Genres  \\\n",
       "0       Manga     Action,Adventure,Comedy,Drama,Fantasy   \n",
       "1       Manga              Action,Drama,Fantasy,Mystery   \n",
       "2      Visual                     Drama,Sci-Fi,Suspense   \n",
       "3       Manga                      Action,Comedy,Sci-Fi   \n",
       "4       Manga              Action,Drama,Fantasy,Mystery   \n",
       "5       Manga  Drama,Romance,Slice of Life,Supernatural   \n",
       "6       Manga                      Action,Comedy,Sci-Fi   \n",
       "7       Manga                Action,Comedy,Drama,Sci-Fi   \n",
       "8       Manga                  Action,Adventure,Fantasy   \n",
       "9       Manga                      Action,Comedy,Sci-Fi   \n",
       "\n",
       "                      Themes                             Rating  Popularity  \\\n",
       "0                        N\\A   R - 17+ (violence & profanity)             3   \n",
       "1       Military,Super Power   R - 17+ (violence & profanity)           220   \n",
       "2                        N\\A        PG-13 - Teens 13 or older            13   \n",
       "3  Historical,Parody,Samurai        PG-13 - Teens 13 or older           335   \n",
       "4       Military,Super Power   R - 17+ (violence & profanity)            31   \n",
       "5                        N\\A        PG-13 - Teens 13 or older           626   \n",
       "6  Historical,Parody,Samurai        PG-13 - Teens 13 or older           380   \n",
       "7  Historical,Parody,Samurai        PG-13 - Teens 13 or older          1798   \n",
       "8                        N\\A        PG-13 - Teens 13 or older            10   \n",
       "9  Historical,Parody,Samurai        PG-13 - Teens 13 or older           683   \n",
       "\n",
       "   Score  Year Demographic  \n",
       "0   9.15     9     Shounen  \n",
       "1   9.15    22     Shounen  \n",
       "2   9.09    11         N\\A  \n",
       "3   9.09    15     Shounen  \n",
       "4   9.08    19     Shounen  \n",
       "5   9.06    21      Shoujo  \n",
       "6   9.06    11     Shounen  \n",
       "7   9.05    21     Shounen  \n",
       "8   9.05    11     Shounen  \n",
       "9   9.04    12     Shounen  "
      ]
     },
     "execution_count": 669,
     "metadata": {},
     "output_type": "execute_result"
    }
   ],
   "source": [
    "df = pd.read_csv(\"anime_df_brr.csv\", sep=';')\n",
    "df.head(10)"
   ]
  },
  {
   "cell_type": "markdown",
   "metadata": {},
   "source": [
    "delete null information. (if exists)"
   ]
  },
  {
   "cell_type": "code",
   "execution_count": 670,
   "metadata": {},
   "outputs": [
    {
     "data": {
      "text/html": [
       "<div>\n",
       "<style scoped>\n",
       "    .dataframe tbody tr th:only-of-type {\n",
       "        vertical-align: middle;\n",
       "    }\n",
       "\n",
       "    .dataframe tbody tr th {\n",
       "        vertical-align: top;\n",
       "    }\n",
       "\n",
       "    .dataframe thead th {\n",
       "        text-align: right;\n",
       "    }\n",
       "</style>\n",
       "<table border=\"1\" class=\"dataframe\">\n",
       "  <thead>\n",
       "    <tr style=\"text-align: right;\">\n",
       "      <th></th>\n",
       "      <th>Unnamed: 0</th>\n",
       "      <th>Title</th>\n",
       "      <th>MAL Id</th>\n",
       "      <th>Type</th>\n",
       "      <th>Episode Duration</th>\n",
       "      <th>Episode Count</th>\n",
       "      <th>Status</th>\n",
       "      <th>Studios</th>\n",
       "      <th>Source Type</th>\n",
       "      <th>Genres</th>\n",
       "      <th>Themes</th>\n",
       "      <th>Rating</th>\n",
       "      <th>Popularity</th>\n",
       "      <th>Score</th>\n",
       "      <th>Year</th>\n",
       "      <th>Demographic</th>\n",
       "    </tr>\n",
       "  </thead>\n",
       "  <tbody>\n",
       "    <tr>\n",
       "      <th>total null</th>\n",
       "      <td>0</td>\n",
       "      <td>0</td>\n",
       "      <td>0</td>\n",
       "      <td>0</td>\n",
       "      <td>0</td>\n",
       "      <td>0</td>\n",
       "      <td>0</td>\n",
       "      <td>0</td>\n",
       "      <td>0</td>\n",
       "      <td>0</td>\n",
       "      <td>0</td>\n",
       "      <td>0</td>\n",
       "      <td>0</td>\n",
       "      <td>0</td>\n",
       "      <td>0</td>\n",
       "      <td>0</td>\n",
       "    </tr>\n",
       "  </tbody>\n",
       "</table>\n",
       "</div>"
      ],
      "text/plain": [
       "            Unnamed: 0  Title  MAL Id  Type  Episode Duration  Episode Count  \\\n",
       "total null           0      0       0     0                 0              0   \n",
       "\n",
       "            Status  Studios  Source Type  Genres  Themes  Rating  Popularity  \\\n",
       "total null       0        0            0       0       0       0           0   \n",
       "\n",
       "            Score  Year  Demographic  \n",
       "total null      0     0            0  "
      ]
     },
     "execution_count": 670,
     "metadata": {},
     "output_type": "execute_result"
    }
   ],
   "source": [
    "data_null_total = pd.DataFrame(df.isna().sum()).T.rename({0:'total null'})\n",
    "data_null_total"
   ]
  },
  {
   "cell_type": "markdown",
   "metadata": {},
   "source": [
    "get info."
   ]
  },
  {
   "cell_type": "code",
   "execution_count": 671,
   "metadata": {},
   "outputs": [
    {
     "name": "stdout",
     "output_type": "stream",
     "text": [
      "<class 'pandas.core.frame.DataFrame'>\n",
      "RangeIndex: 50 entries, 0 to 49\n",
      "Data columns (total 16 columns):\n",
      " #   Column            Non-Null Count  Dtype  \n",
      "---  ------            --------------  -----  \n",
      " 0   Unnamed: 0        50 non-null     int64  \n",
      " 1   Title             50 non-null     object \n",
      " 2   MAL Id            50 non-null     int64  \n",
      " 3   Type              50 non-null     object \n",
      " 4   Episode Duration  50 non-null     object \n",
      " 5   Episode Count     50 non-null     int64  \n",
      " 6   Status            50 non-null     object \n",
      " 7   Studios           50 non-null     object \n",
      " 8   Source Type       50 non-null     object \n",
      " 9   Genres            50 non-null     object \n",
      " 10  Themes            50 non-null     object \n",
      " 11  Rating            50 non-null     object \n",
      " 12  Popularity        50 non-null     int64  \n",
      " 13  Score             50 non-null     float64\n",
      " 14  Year              50 non-null     int64  \n",
      " 15  Demographic       50 non-null     object \n",
      "dtypes: float64(1), int64(5), object(10)\n",
      "memory usage: 6.4+ KB\n"
     ]
    }
   ],
   "source": [
    "df.info()"
   ]
  },
  {
   "cell_type": "markdown",
   "metadata": {},
   "source": [
    "check for duplicated data. (if there is)"
   ]
  },
  {
   "cell_type": "code",
   "execution_count": 672,
   "metadata": {},
   "outputs": [],
   "source": [
    "df = df.drop_duplicates(keep='first')"
   ]
  },
  {
   "cell_type": "markdown",
   "metadata": {},
   "source": [
    "Lets remove entries with 'None' data."
   ]
  },
  {
   "cell_type": "markdown",
   "metadata": {},
   "source": [
    "'add some' is a placeholder of shows without a known studio. <br>\n",
    "'Unknown'"
   ]
  },
  {
   "cell_type": "code",
   "execution_count": 673,
   "metadata": {},
   "outputs": [],
   "source": [
    "no_studio = df[df['Studios'].str.contains('add some')]\n",
    "df = pd.concat([df, no_studio])\n",
    "df = df.drop_duplicates(keep=False)"
   ]
  },
  {
   "cell_type": "code",
   "execution_count": 674,
   "metadata": {},
   "outputs": [],
   "source": [
    "no_source = df[df['Source Type'].str.contains('Unknown')]\n",
    "df = pd.concat([df, no_source])\n",
    "df = df.drop_duplicates(keep=False)"
   ]
  },
  {
   "cell_type": "code",
   "execution_count": 675,
   "metadata": {},
   "outputs": [],
   "source": [
    "no_genre = df[df['Genres'] == 'N\\A']\n",
    "df = pd.concat([df, no_genre])\n",
    "df = df.drop_duplicates(keep=False)"
   ]
  },
  {
   "cell_type": "markdown",
   "metadata": {},
   "source": [
    "Parsing Episode Duration to 'int' minutes."
   ]
  },
  {
   "cell_type": "code",
   "execution_count": 676,
   "metadata": {},
   "outputs": [],
   "source": [
    "def DurationToMin(duration_str):\n",
    "    duration_list = duration_str.split(' ')\n",
    "    duration = 0\n",
    "\n",
    "    i = 0\n",
    "    for word in duration_list:\n",
    "        if word == 'min.':\n",
    "            duration += int(duration_list[i-1])\n",
    "        elif word == 'hr.':\n",
    "            duration += 60*int(duration_list[i-1])\n",
    "        i += 1\n",
    "\n",
    "    return duration"
   ]
  },
  {
   "cell_type": "code",
   "execution_count": 677,
   "metadata": {},
   "outputs": [],
   "source": [
    "df['Duration'] = df['Episode Duration'].apply(lambda x: DurationToMin(x))"
   ]
  },
  {
   "cell_type": "markdown",
   "metadata": {},
   "source": [
    "Lets remove shows with episode duration smaller than 1 minute."
   ]
  },
  {
   "cell_type": "code",
   "execution_count": 678,
   "metadata": {},
   "outputs": [],
   "source": [
    "no_duration = df[df['Duration'] == 0]\n",
    "df = pd.concat([df, no_duration])\n",
    "df = df.drop_duplicates(keep=False)"
   ]
  },
  {
   "cell_type": "markdown",
   "metadata": {},
   "source": [
    "Lets separate the genres into their own columns."
   ]
  },
  {
   "cell_type": "code",
   "execution_count": 679,
   "metadata": {},
   "outputs": [],
   "source": [
    "genre_list = []\n",
    "for cell in df['Genres']:\n",
    "    genres = cell.split(',')\n",
    "    for genre in genres:\n",
    "        if genre not in genre_list:\n",
    "            genre_list.append(genre)\n",
    "\n",
    "for genre in genre_list:\n",
    "    df[genre] = df.apply (lambda row: genre in row['Genres'], axis=1)\n",
    "\n",
    "df.to_csv(\"anime_df_clean.csv\", sep=';', index=False)"
   ]
  },
  {
   "cell_type": "markdown",
   "metadata": {},
   "source": [
    "### Graphs ###"
   ]
  },
  {
   "cell_type": "code",
   "execution_count": 97,
   "metadata": {},
   "outputs": [
    {
     "data": {
      "text/plain": [
       "<AxesSubplot:title={'center':'Studio and the Number of Published Anime'}>"
      ]
     },
     "execution_count": 97,
     "metadata": {},
     "output_type": "execute_result"
    },
    {
     "data": {
      "image/png": "[encoded data removed]",
      "text/plain": [
       "<Figure size 432x288 with 1 Axes>"
      ]
     },
     "metadata": {
      "needs_background": "light"
     },
     "output_type": "display_data"
    }
   ],
   "source": [
    "#MAKE MEDIAN STUDIO POPULARITY\n",
    "#MAKE CHART\n",
    "\n",
    "import matplotlib.pyplot as plt \n",
    "\n",
    "plt.title('Studio and the Number of Published Anime')\n",
    "studio_appearances = df.Studios.value_counts()\n",
    "studio_appearances[studio_appearances > 10].plot(kind = 'bar')"
   ]
  },
  {
   "cell_type": "markdown",
   "metadata": {},
   "source": [
    "charts"
   ]
  },
  {
   "cell_type": "code",
   "execution_count": 98,
   "metadata": {},
   "outputs": [
    {
     "data": {
      "text/plain": [
       "<AxesSubplot:title={'center':'Genres and the Number of Published Anime'}>"
      ]
     },
     "execution_count": 98,
     "metadata": {},
     "output_type": "execute_result"
    },
    {
     "data": {
      "image/png": "[encoded data removed]",
      "text/plain": [
       "<Figure size 432x288 with 1 Axes>"
      ]
     },
     "metadata": {
      "needs_background": "light"
     },
     "output_type": "display_data"
    }
   ],
   "source": [
    "\n",
    "#cut genres\n",
    "#median genre popularity\n",
    "#make chart of genre vs populrity\n",
    "\n",
    "\n",
    "plt.title('Genres and the Number of Published Anime')\n",
    "genre_appearances = df.Genres.value_counts()\n",
    "genre_appearances[genre_appearances > 20].plot(kind = 'bar')"
   ]
  },
  {
   "cell_type": "markdown",
   "metadata": {},
   "source": [
    "find if studio made sequal"
   ]
  },
  {
   "cell_type": "code",
   "execution_count": 99,
   "metadata": {},
   "outputs": [],
   "source": [
    "#check if sequal."
   ]
  },
  {
   "cell_type": "code",
   "execution_count": 100,
   "metadata": {},
   "outputs": [
    {
     "data": {
      "text/plain": [
       "<AxesSubplot:title={'center':'How many times each popularity appears modul 5000'}, xlabel='Popularity'>"
      ]
     },
     "execution_count": 100,
     "metadata": {},
     "output_type": "execute_result"
    },
    {
     "data": {
      "image/png": "[encoded data removed]",
      "text/plain": [
       "<Figure size 432x288 with 1 Axes>"
      ]
     },
     "metadata": {
      "needs_background": "light"
     },
     "output_type": "display_data"
    }
   ],
   "source": [
    "plt.title('How many times each popularity appears modul 5000')\n",
    "df_popularity = df[['Popularity']].apply(lambda x: (x-(x%5000)))\n",
    "df_popularity\n",
    "\n",
    "df_popularity_count = df_popularity.value_counts()\n",
    "df_popularity_count.plot(kind = 'bar')\n"
   ]
  },
  {
   "cell_type": "code",
   "execution_count": 101,
   "metadata": {},
   "outputs": [
    {
     "data": {
      "text/plain": [
       "<AxesSubplot:title={'center':'Source and the Number of Published Anime'}>"
      ]
     },
     "execution_count": 101,
     "metadata": {},
     "output_type": "execute_result"
    },
    {
     "data": {
      "image/png": "[encoded data removed]",
      "text/plain": [
       "<Figure size 432x288 with 1 Axes>"
      ]
     },
     "metadata": {
      "needs_background": "light"
     },
     "output_type": "display_data"
    }
   ],
   "source": [
    "plt.title('Source and the Number of Published Anime')\n",
    "source_appearances = df['Source Type'].value_counts()\n",
    "source_appearances[source_appearances>10].plot(kind = 'bar')"
   ]
  },
  {
   "cell_type": "code",
   "execution_count": 102,
   "metadata": {},
   "outputs": [
    {
     "data": {
      "text/html": [
       "<div>\n",
       "<style scoped>\n",
       "    .dataframe tbody tr th:only-of-type {\n",
       "        vertical-align: middle;\n",
       "    }\n",
       "\n",
       "    .dataframe tbody tr th {\n",
       "        vertical-align: top;\n",
       "    }\n",
       "\n",
       "    .dataframe thead th {\n",
       "        text-align: right;\n",
       "    }\n",
       "</style>\n",
       "<table border=\"1\" class=\"dataframe\">\n",
       "  <thead>\n",
       "    <tr style=\"text-align: right;\">\n",
       "      <th></th>\n",
       "      <th>Title</th>\n",
       "      <th>MAL Id</th>\n",
       "      <th>Type</th>\n",
       "      <th>Episode Duration</th>\n",
       "      <th>Studios</th>\n",
       "      <th>Source Type</th>\n",
       "      <th>Genres</th>\n",
       "      <th>Themes</th>\n",
       "      <th>Rating</th>\n",
       "      <th>Popularity</th>\n",
       "      <th>Score</th>\n",
       "    </tr>\n",
       "  </thead>\n",
       "  <tbody>\n",
       "    <tr>\n",
       "      <th>18703</th>\n",
       "      <td>Wo Jiao Bai Xiaofei</td>\n",
       "      <td>33357</td>\n",
       "      <td>ONA</td>\n",
       "      <td>11 min. per ep.</td>\n",
       "      <td>['Haoliners Animation League']</td>\n",
       "      <td>Web</td>\n",
       "      <td>['Action', 'Comedy', 'Horror']</td>\n",
       "      <td>N\\A</td>\n",
       "      <td>PG-13 - Teens 13 or older</td>\n",
       "      <td>10627</td>\n",
       "      <td>6.15</td>\n",
       "    </tr>\n",
       "    <tr>\n",
       "      <th>30234</th>\n",
       "      <td>Da Yu Hai Tang</td>\n",
       "      <td>39264</td>\n",
       "      <td>ONA</td>\n",
       "      <td>7 min.</td>\n",
       "      <td>['B&amp;T']</td>\n",
       "      <td>Original</td>\n",
       "      <td>['Adventure', 'Drama', 'Romance', 'Supernatural']</td>\n",
       "      <td>N\\A</td>\n",
       "      <td>G - All Ages</td>\n",
       "      <td>11070</td>\n",
       "      <td>6.07</td>\n",
       "    </tr>\n",
       "    <tr>\n",
       "      <th>10926</th>\n",
       "      <td>Umi no Yami, Tsuki no Kage</td>\n",
       "      <td>4484</td>\n",
       "      <td>OVA</td>\n",
       "      <td>30 min. per ep.</td>\n",
       "      <td>['Magic Bus']</td>\n",
       "      <td>Manga</td>\n",
       "      <td>['Drama', 'Horror', 'Romance']</td>\n",
       "      <td>N\\A</td>\n",
       "      <td>R - 17+ (violence &amp; profanity)</td>\n",
       "      <td>10197</td>\n",
       "      <td>5.84</td>\n",
       "    </tr>\n",
       "    <tr>\n",
       "      <th>41967</th>\n",
       "      <td>Majokko Club Yoningumi: A Kuukan kara no Alien X</td>\n",
       "      <td>2080</td>\n",
       "      <td>OVA</td>\n",
       "      <td>27 min.</td>\n",
       "      <td>['Studio Pierrot']</td>\n",
       "      <td>Original</td>\n",
       "      <td>['Action', 'Comedy', 'Sci-Fi']</td>\n",
       "      <td>N\\A</td>\n",
       "      <td>PG-13 - Teens 13 or older</td>\n",
       "      <td>11149</td>\n",
       "      <td>5.71</td>\n",
       "    </tr>\n",
       "    <tr>\n",
       "      <th>36146</th>\n",
       "      <td>Bouken Yuuki Pluster World</td>\n",
       "      <td>3637</td>\n",
       "      <td>TV</td>\n",
       "      <td>24 min. per ep.</td>\n",
       "      <td>['Actas', \"Brain's Base\"]</td>\n",
       "      <td>Original</td>\n",
       "      <td>['Action', 'Adventure', 'Sci-Fi']</td>\n",
       "      <td>N\\A</td>\n",
       "      <td>G - All Ages</td>\n",
       "      <td>11705</td>\n",
       "      <td>6.08</td>\n",
       "    </tr>\n",
       "    <tr>\n",
       "      <th>...</th>\n",
       "      <td>...</td>\n",
       "      <td>...</td>\n",
       "      <td>...</td>\n",
       "      <td>...</td>\n",
       "      <td>...</td>\n",
       "      <td>...</td>\n",
       "      <td>...</td>\n",
       "      <td>...</td>\n",
       "      <td>...</td>\n",
       "      <td>...</td>\n",
       "      <td>...</td>\n",
       "    </tr>\n",
       "    <tr>\n",
       "      <th>13119</th>\n",
       "      <td>Tales of the Rays Gekijou</td>\n",
       "      <td>36955</td>\n",
       "      <td>ONA</td>\n",
       "      <td>3 min. per ep.</td>\n",
       "      <td>['Bandai Namco Pictures']</td>\n",
       "      <td>Game</td>\n",
       "      <td>['Comedy', 'Fantasy']</td>\n",
       "      <td>N\\A</td>\n",
       "      <td>PG-13 - Teens 13 or older</td>\n",
       "      <td>10628</td>\n",
       "      <td>6.19</td>\n",
       "    </tr>\n",
       "    <tr>\n",
       "      <th>11307</th>\n",
       "      <td>Soliton no Akuma</td>\n",
       "      <td>10718</td>\n",
       "      <td>Movie</td>\n",
       "      <td>1 hr. 30 min.</td>\n",
       "      <td>['Triangle Staff']</td>\n",
       "      <td>Novel</td>\n",
       "      <td>['Drama', 'Sci-Fi']</td>\n",
       "      <td>N\\A</td>\n",
       "      <td>R - 17+ (violence &amp; profanity)</td>\n",
       "      <td>11656</td>\n",
       "      <td>5.96</td>\n",
       "    </tr>\n",
       "    <tr>\n",
       "      <th>37396</th>\n",
       "      <td>Gall Force: The Revolution</td>\n",
       "      <td>2066</td>\n",
       "      <td>OVA</td>\n",
       "      <td>30 min. per ep.</td>\n",
       "      <td>['AIC']</td>\n",
       "      <td>Original</td>\n",
       "      <td>['Action', 'Adventure', 'Sci-Fi']</td>\n",
       "      <td>['Mecha', 'Military', 'Space']</td>\n",
       "      <td>R+ - Mild Nudity</td>\n",
       "      <td>10173</td>\n",
       "      <td>5.92</td>\n",
       "    </tr>\n",
       "    <tr>\n",
       "      <th>4146</th>\n",
       "      <td>Yuukan Club</td>\n",
       "      <td>3778</td>\n",
       "      <td>OVA</td>\n",
       "      <td>35 min. per ep.</td>\n",
       "      <td>['Madhouse']</td>\n",
       "      <td>Manga</td>\n",
       "      <td>['Comedy', 'Mystery']</td>\n",
       "      <td>N\\A</td>\n",
       "      <td>PG-13 - Teens 13 or older</td>\n",
       "      <td>11628</td>\n",
       "      <td>5.82</td>\n",
       "    </tr>\n",
       "    <tr>\n",
       "      <th>33241</th>\n",
       "      <td>Chiisana Obake: Acchi, Kocchi, Socchi</td>\n",
       "      <td>310</td>\n",
       "      <td>TV</td>\n",
       "      <td>25 min. per ep.</td>\n",
       "      <td>['Studio Pierrot']</td>\n",
       "      <td>Picture</td>\n",
       "      <td>['Comedy', 'Supernatural']</td>\n",
       "      <td>N\\A</td>\n",
       "      <td>G - All Ages</td>\n",
       "      <td>10081</td>\n",
       "      <td>5.96</td>\n",
       "    </tr>\n",
       "  </tbody>\n",
       "</table>\n",
       "<p>246 rows × 11 columns</p>\n",
       "</div>"
      ],
      "text/plain": [
       "                                                  Title  MAL Id   Type  \\\n",
       "18703                               Wo Jiao Bai Xiaofei   33357    ONA   \n",
       "30234                                    Da Yu Hai Tang   39264    ONA   \n",
       "10926                        Umi no Yami, Tsuki no Kage    4484    OVA   \n",
       "41967  Majokko Club Yoningumi: A Kuukan kara no Alien X    2080    OVA   \n",
       "36146                        Bouken Yuuki Pluster World    3637     TV   \n",
       "...                                                 ...     ...    ...   \n",
       "13119                         Tales of the Rays Gekijou   36955    ONA   \n",
       "11307                                  Soliton no Akuma   10718  Movie   \n",
       "37396                        Gall Force: The Revolution    2066    OVA   \n",
       "4146                                        Yuukan Club    3778    OVA   \n",
       "33241             Chiisana Obake: Acchi, Kocchi, Socchi     310     TV   \n",
       "\n",
       "      Episode Duration                         Studios Source Type  \\\n",
       "18703  11 min. per ep.  ['Haoliners Animation League']         Web   \n",
       "30234           7 min.                         ['B&T']    Original   \n",
       "10926  30 min. per ep.                   ['Magic Bus']       Manga   \n",
       "41967          27 min.              ['Studio Pierrot']    Original   \n",
       "36146  24 min. per ep.       ['Actas', \"Brain's Base\"]    Original   \n",
       "...                ...                             ...         ...   \n",
       "13119   3 min. per ep.       ['Bandai Namco Pictures']        Game   \n",
       "11307    1 hr. 30 min.              ['Triangle Staff']       Novel   \n",
       "37396  30 min. per ep.                         ['AIC']    Original   \n",
       "4146   35 min. per ep.                    ['Madhouse']       Manga   \n",
       "33241  25 min. per ep.              ['Studio Pierrot']     Picture   \n",
       "\n",
       "                                                  Genres  \\\n",
       "18703                     ['Action', 'Comedy', 'Horror']   \n",
       "30234  ['Adventure', 'Drama', 'Romance', 'Supernatural']   \n",
       "10926                     ['Drama', 'Horror', 'Romance']   \n",
       "41967                     ['Action', 'Comedy', 'Sci-Fi']   \n",
       "36146                  ['Action', 'Adventure', 'Sci-Fi']   \n",
       "...                                                  ...   \n",
       "13119                              ['Comedy', 'Fantasy']   \n",
       "11307                                ['Drama', 'Sci-Fi']   \n",
       "37396                  ['Action', 'Adventure', 'Sci-Fi']   \n",
       "4146                               ['Comedy', 'Mystery']   \n",
       "33241                         ['Comedy', 'Supernatural']   \n",
       "\n",
       "                               Themes                             Rating  \\\n",
       "18703                             N\\A        PG-13 - Teens 13 or older     \n",
       "30234                             N\\A                     G - All Ages     \n",
       "10926                             N\\A   R - 17+ (violence & profanity)     \n",
       "41967                             N\\A        PG-13 - Teens 13 or older     \n",
       "36146                             N\\A                     G - All Ages     \n",
       "...                               ...                                ...   \n",
       "13119                             N\\A        PG-13 - Teens 13 or older     \n",
       "11307                             N\\A   R - 17+ (violence & profanity)     \n",
       "37396  ['Mecha', 'Military', 'Space']                 R+ - Mild Nudity     \n",
       "4146                              N\\A        PG-13 - Teens 13 or older     \n",
       "33241                             N\\A                     G - All Ages     \n",
       "\n",
       "       Popularity  Score  \n",
       "18703       10627   6.15  \n",
       "30234       11070   6.07  \n",
       "10926       10197   5.84  \n",
       "41967       11149   5.71  \n",
       "36146       11705   6.08  \n",
       "...           ...    ...  \n",
       "13119       10628   6.19  \n",
       "11307       11656   5.96  \n",
       "37396       10173   5.92  \n",
       "4146        11628   5.82  \n",
       "33241       10081   5.96  \n",
       "\n",
       "[246 rows x 11 columns]"
      ]
     },
     "execution_count": 102,
     "metadata": {},
     "output_type": "execute_result"
    }
   ],
   "source": [
    "df_highpop = df[df['Popularity']>10000]\n",
    "df_highpop"
   ]
  },
  {
   "cell_type": "code",
   "execution_count": 103,
   "metadata": {},
   "outputs": [
    {
     "data": {
      "text/plain": [
       "<AxesSubplot:title={'center':'Source and the Number of Published Anime for High Popularity Anime'}>"
      ]
     },
     "execution_count": 103,
     "metadata": {},
     "output_type": "execute_result"
    },
    {
     "data": {
      "image/png": "[encoded data removed]",
      "text/plain": [
       "<Figure size 432x288 with 1 Axes>"
      ]
     },
     "metadata": {
      "needs_background": "light"
     },
     "output_type": "display_data"
    }
   ],
   "source": [
    "plt.title('Source and the Number of Published Anime for High Popularity Anime')\n",
    "source_appearances = df_highpop['Source Type'].value_counts()\n",
    "source_appearances[source_appearances>5].plot(kind = 'bar')"
   ]
  },
  {
   "cell_type": "code",
   "execution_count": 104,
   "metadata": {},
   "outputs": [
    {
     "data": {
      "text/html": [
       "<div>\n",
       "<style scoped>\n",
       "    .dataframe tbody tr th:only-of-type {\n",
       "        vertical-align: middle;\n",
       "    }\n",
       "\n",
       "    .dataframe tbody tr th {\n",
       "        vertical-align: top;\n",
       "    }\n",
       "\n",
       "    .dataframe thead th {\n",
       "        text-align: right;\n",
       "    }\n",
       "</style>\n",
       "<table border=\"1\" class=\"dataframe\">\n",
       "  <thead>\n",
       "    <tr style=\"text-align: right;\">\n",
       "      <th></th>\n",
       "      <th>Title</th>\n",
       "      <th>MAL Id</th>\n",
       "      <th>Type</th>\n",
       "      <th>Episode Duration</th>\n",
       "      <th>Studios</th>\n",
       "      <th>Source Type</th>\n",
       "      <th>Genres</th>\n",
       "      <th>Themes</th>\n",
       "      <th>Rating</th>\n",
       "      <th>Popularity</th>\n",
       "      <th>Score</th>\n",
       "    </tr>\n",
       "  </thead>\n",
       "  <tbody>\n",
       "    <tr>\n",
       "      <th>40465</th>\n",
       "      <td>Bonjour♪Koiaji Pâtisserie</td>\n",
       "      <td>25839</td>\n",
       "      <td>ONA</td>\n",
       "      <td>5 min. per ep.</td>\n",
       "      <td>['SILVER LINK.', 'Connect']</td>\n",
       "      <td>Game</td>\n",
       "      <td>['Comedy', 'Gourmet', 'Romance', 'Slice of Life']</td>\n",
       "      <td>N\\A</td>\n",
       "      <td>PG-13 - Teens 13 or older</td>\n",
       "      <td>2477</td>\n",
       "      <td>6.11</td>\n",
       "    </tr>\n",
       "    <tr>\n",
       "      <th>9545</th>\n",
       "      <td>Soul Eater NOT!</td>\n",
       "      <td>21507</td>\n",
       "      <td>TV</td>\n",
       "      <td>23 min. per ep.</td>\n",
       "      <td>['Bones']</td>\n",
       "      <td>Manga</td>\n",
       "      <td>['Action', 'Comedy', 'Supernatural', 'Ecchi']</td>\n",
       "      <td>N\\A</td>\n",
       "      <td>PG-13 - Teens 13 or older</td>\n",
       "      <td>994</td>\n",
       "      <td>5.91</td>\n",
       "    </tr>\n",
       "    <tr>\n",
       "      <th>5510</th>\n",
       "      <td>Taboo Tattoo</td>\n",
       "      <td>29758</td>\n",
       "      <td>TV</td>\n",
       "      <td>24 min. per ep.</td>\n",
       "      <td>['J.C.Staff']</td>\n",
       "      <td>Manga</td>\n",
       "      <td>['Action', 'Mystery', 'Supernatural']</td>\n",
       "      <td>['Martial Arts', 'Super Power']</td>\n",
       "      <td>R - 17+ (violence &amp; profanity)</td>\n",
       "      <td>742</td>\n",
       "      <td>5.76</td>\n",
       "    </tr>\n",
       "    <tr>\n",
       "      <th>15827</th>\n",
       "      <td>Sin: Nanatsu no Taizai</td>\n",
       "      <td>33834</td>\n",
       "      <td>TV</td>\n",
       "      <td>23 min. per ep.</td>\n",
       "      <td>['Artland', 'TNK']</td>\n",
       "      <td>Other</td>\n",
       "      <td>['Fantasy', 'Ecchi']</td>\n",
       "      <td>N\\A</td>\n",
       "      <td>R+ - Mild Nudity</td>\n",
       "      <td>1345</td>\n",
       "      <td>5.72</td>\n",
       "    </tr>\n",
       "    <tr>\n",
       "      <th>18621</th>\n",
       "      <td>Val x Love</td>\n",
       "      <td>39799</td>\n",
       "      <td>TV</td>\n",
       "      <td>23 min. per ep.</td>\n",
       "      <td>['Hoods Entertainment']</td>\n",
       "      <td>Manga</td>\n",
       "      <td>['Comedy', 'Romance', 'Supernatural', 'Ecchi']</td>\n",
       "      <td>['Harem', 'School']</td>\n",
       "      <td>R - 17+ (violence &amp; profanity)</td>\n",
       "      <td>1956</td>\n",
       "      <td>5.90</td>\n",
       "    </tr>\n",
       "    <tr>\n",
       "      <th>...</th>\n",
       "      <td>...</td>\n",
       "      <td>...</td>\n",
       "      <td>...</td>\n",
       "      <td>...</td>\n",
       "      <td>...</td>\n",
       "      <td>...</td>\n",
       "      <td>...</td>\n",
       "      <td>...</td>\n",
       "      <td>...</td>\n",
       "      <td>...</td>\n",
       "      <td>...</td>\n",
       "    </tr>\n",
       "    <tr>\n",
       "      <th>34999</th>\n",
       "      <td>Maken-Ki! Two</td>\n",
       "      <td>15565</td>\n",
       "      <td>TV</td>\n",
       "      <td>24 min. per ep.</td>\n",
       "      <td>['Xebec']</td>\n",
       "      <td>Manga</td>\n",
       "      <td>['Action', 'Ecchi']</td>\n",
       "      <td>['Harem', 'Martial Arts', 'School', 'Super Pow...</td>\n",
       "      <td>R+ - Mild Nudity</td>\n",
       "      <td>1331</td>\n",
       "      <td>6.15</td>\n",
       "    </tr>\n",
       "    <tr>\n",
       "      <th>26269</th>\n",
       "      <td>BlazBlue: Alter Memory</td>\n",
       "      <td>18767</td>\n",
       "      <td>TV</td>\n",
       "      <td>24 min. per ep.</td>\n",
       "      <td>['Hoods Entertainment', 'teamKG']</td>\n",
       "      <td>Game</td>\n",
       "      <td>['Action', 'Fantasy']</td>\n",
       "      <td>N\\A</td>\n",
       "      <td>R - 17+ (violence &amp; profanity)</td>\n",
       "      <td>1895</td>\n",
       "      <td>6.10</td>\n",
       "    </tr>\n",
       "    <tr>\n",
       "      <th>13793</th>\n",
       "      <td>Isuca</td>\n",
       "      <td>25429</td>\n",
       "      <td>TV</td>\n",
       "      <td>23 min. per ep.</td>\n",
       "      <td>['Arms']</td>\n",
       "      <td>Manga</td>\n",
       "      <td>['Action', 'Comedy', 'Romance', 'Supernatural'...</td>\n",
       "      <td>N\\A</td>\n",
       "      <td>R+ - Mild Nudity</td>\n",
       "      <td>1335</td>\n",
       "      <td>6.00</td>\n",
       "    </tr>\n",
       "    <tr>\n",
       "      <th>32289</th>\n",
       "      <td>Sword Gai The Animation</td>\n",
       "      <td>27783</td>\n",
       "      <td>ONA</td>\n",
       "      <td>22 min. per ep.</td>\n",
       "      <td>['Production I.G', 'DLE', 'LandQ studios']</td>\n",
       "      <td>Manga</td>\n",
       "      <td>['Action', 'Supernatural']</td>\n",
       "      <td>N\\A</td>\n",
       "      <td>R - 17+ (violence &amp; profanity)</td>\n",
       "      <td>2296</td>\n",
       "      <td>5.77</td>\n",
       "    </tr>\n",
       "    <tr>\n",
       "      <th>36838</th>\n",
       "      <td>Jouran: The Princess of Snow and Blood</td>\n",
       "      <td>47250</td>\n",
       "      <td>TV</td>\n",
       "      <td>22 min. per ep.</td>\n",
       "      <td>['Bakken Record']</td>\n",
       "      <td>Original</td>\n",
       "      <td>['Action', 'Supernatural']</td>\n",
       "      <td>N\\A</td>\n",
       "      <td>R - 17+ (violence &amp; profanity)</td>\n",
       "      <td>1920</td>\n",
       "      <td>6.10</td>\n",
       "    </tr>\n",
       "  </tbody>\n",
       "</table>\n",
       "<p>61 rows × 11 columns</p>\n",
       "</div>"
      ],
      "text/plain": [
       "                                        Title  MAL Id Type Episode Duration  \\\n",
       "40465               Bonjour♪Koiaji Pâtisserie   25839  ONA   5 min. per ep.   \n",
       "9545                          Soul Eater NOT!   21507   TV  23 min. per ep.   \n",
       "5510                             Taboo Tattoo   29758   TV  24 min. per ep.   \n",
       "15827                  Sin: Nanatsu no Taizai   33834   TV  23 min. per ep.   \n",
       "18621                              Val x Love   39799   TV  23 min. per ep.   \n",
       "...                                       ...     ...  ...              ...   \n",
       "34999                           Maken-Ki! Two   15565   TV  24 min. per ep.   \n",
       "26269                  BlazBlue: Alter Memory   18767   TV  24 min. per ep.   \n",
       "13793                                   Isuca   25429   TV  23 min. per ep.   \n",
       "32289                 Sword Gai The Animation   27783  ONA  22 min. per ep.   \n",
       "36838  Jouran: The Princess of Snow and Blood   47250   TV  22 min. per ep.   \n",
       "\n",
       "                                          Studios Source Type  \\\n",
       "40465                 ['SILVER LINK.', 'Connect']        Game   \n",
       "9545                                    ['Bones']       Manga   \n",
       "5510                                ['J.C.Staff']       Manga   \n",
       "15827                          ['Artland', 'TNK']       Other   \n",
       "18621                     ['Hoods Entertainment']       Manga   \n",
       "...                                           ...         ...   \n",
       "34999                                   ['Xebec']       Manga   \n",
       "26269           ['Hoods Entertainment', 'teamKG']        Game   \n",
       "13793                                    ['Arms']       Manga   \n",
       "32289  ['Production I.G', 'DLE', 'LandQ studios']       Manga   \n",
       "36838                           ['Bakken Record']    Original   \n",
       "\n",
       "                                                  Genres  \\\n",
       "40465  ['Comedy', 'Gourmet', 'Romance', 'Slice of Life']   \n",
       "9545       ['Action', 'Comedy', 'Supernatural', 'Ecchi']   \n",
       "5510               ['Action', 'Mystery', 'Supernatural']   \n",
       "15827                               ['Fantasy', 'Ecchi']   \n",
       "18621     ['Comedy', 'Romance', 'Supernatural', 'Ecchi']   \n",
       "...                                                  ...   \n",
       "34999                                ['Action', 'Ecchi']   \n",
       "26269                              ['Action', 'Fantasy']   \n",
       "13793  ['Action', 'Comedy', 'Romance', 'Supernatural'...   \n",
       "32289                         ['Action', 'Supernatural']   \n",
       "36838                         ['Action', 'Supernatural']   \n",
       "\n",
       "                                                  Themes  \\\n",
       "40465                                                N\\A   \n",
       "9545                                                 N\\A   \n",
       "5510                     ['Martial Arts', 'Super Power']   \n",
       "15827                                                N\\A   \n",
       "18621                                ['Harem', 'School']   \n",
       "...                                                  ...   \n",
       "34999  ['Harem', 'Martial Arts', 'School', 'Super Pow...   \n",
       "26269                                                N\\A   \n",
       "13793                                                N\\A   \n",
       "32289                                                N\\A   \n",
       "36838                                                N\\A   \n",
       "\n",
       "                                  Rating  Popularity  Score  \n",
       "40465        PG-13 - Teens 13 or older          2477   6.11  \n",
       "9545         PG-13 - Teens 13 or older           994   5.91  \n",
       "5510    R - 17+ (violence & profanity)           742   5.76  \n",
       "15827                 R+ - Mild Nudity          1345   5.72  \n",
       "18621   R - 17+ (violence & profanity)          1956   5.90  \n",
       "...                                  ...         ...    ...  \n",
       "34999                 R+ - Mild Nudity          1331   6.15  \n",
       "26269   R - 17+ (violence & profanity)          1895   6.10  \n",
       "13793                 R+ - Mild Nudity          1335   6.00  \n",
       "32289   R - 17+ (violence & profanity)          2296   5.77  \n",
       "36838   R - 17+ (violence & profanity)          1920   6.10  \n",
       "\n",
       "[61 rows x 11 columns]"
      ]
     },
     "execution_count": 104,
     "metadata": {},
     "output_type": "execute_result"
    }
   ],
   "source": [
    "df_lowpop = df[df['Popularity']<2500]\n",
    "df_lowpop"
   ]
  },
  {
   "cell_type": "code",
   "execution_count": 105,
   "metadata": {},
   "outputs": [
    {
     "data": {
      "text/plain": [
       "<AxesSubplot:title={'center':'Source and the Number of Published Anime for Low Popularity Anime'}>"
      ]
     },
     "execution_count": 105,
     "metadata": {},
     "output_type": "execute_result"
    },
    {
     "data": {
      "image/png": "[encoded data removed]",
      "text/plain": [
       "<Figure size 432x288 with 1 Axes>"
      ]
     },
     "metadata": {
      "needs_background": "light"
     },
     "output_type": "display_data"
    }
   ],
   "source": [
    "plt.title('Source and the Number of Published Anime for Low Popularity Anime')\n",
    "source_appearances = df_lowpop['Source Type'].value_counts()\n",
    "source_appearances.plot(kind = 'bar')"
   ]
  },
  {
   "cell_type": "code",
   "execution_count": 106,
   "metadata": {},
   "outputs": [
    {
     "data": {
      "text/plain": [
       "<AxesSubplot:title={'center':'Genres and the Number of Published Anime for High Popularity Anime'}>"
      ]
     },
     "execution_count": 106,
     "metadata": {},
     "output_type": "execute_result"
    },
    {
     "data": {
      "image/png": "[encoded data removed]",
      "text/plain": [
       "<Figure size 432x288 with 1 Axes>"
      ]
     },
     "metadata": {
      "needs_background": "light"
     },
     "output_type": "display_data"
    }
   ],
   "source": [
    "plt.title('Genres and the Number of Published Anime for High Popularity Anime')\n",
    "genre_appearances = df_highpop.Genres.value_counts()\n",
    "genre_appearances[genre_appearances > 7.5].plot(kind = 'bar')"
   ]
  }
 ],
 "metadata": {
  "interpreter": {
   "hash": "13427881f06f13311079f5221e5dd632fdf9146891f6da22d47a93dcb9272d3a"
  },
  "kernelspec": {
   "display_name": "Python 3.9.7 ('base')",
   "language": "python",
   "name": "python3"
  },
  "language_info": {
   "codemirror_mode": {
    "name": "ipython",
    "version": 3
   },
   "file_extension": ".py",
   "mimetype": "text/x-python",
   "name": "python",
   "nbconvert_exporter": "python",
   "pygments_lexer": "ipython3",
   "version": "3.10.1"
  },
  "orig_nbformat": 4
 },
 "nbformat": 4,
 "nbformat_minor": 2
}

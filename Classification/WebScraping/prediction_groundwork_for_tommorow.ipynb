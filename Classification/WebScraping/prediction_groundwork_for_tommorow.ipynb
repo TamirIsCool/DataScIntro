{
 "cells": [
  {
   "cell_type": "markdown",
   "metadata": {},
   "source": [
    "### Prediction of scraped MyAnimeList Data ###"
   ]
  },
  {
   "cell_type": "code",
   "execution_count": 10,
   "metadata": {},
   "outputs": [
    {
     "data": {
      "text/html": [
       "<div>\n",
       "<style scoped>\n",
       "    .dataframe tbody tr th:only-of-type {\n",
       "        vertical-align: middle;\n",
       "    }\n",
       "\n",
       "    .dataframe tbody tr th {\n",
       "        vertical-align: top;\n",
       "    }\n",
       "\n",
       "    .dataframe thead th {\n",
       "        text-align: right;\n",
       "    }\n",
       "</style>\n",
       "<table border=\"1\" class=\"dataframe\">\n",
       "  <thead>\n",
       "    <tr style=\"text-align: right;\">\n",
       "      <th></th>\n",
       "      <th></th>\n",
       "      <th></th>\n",
       "      <th></th>\n",
       "      <th></th>\n",
       "      <th></th>\n",
       "      <th></th>\n",
       "      <th></th>\n",
       "      <th></th>\n",
       "      <th></th>\n",
       "      <th>sep=</th>\n",
       "      <th>Unnamed: 1</th>\n",
       "    </tr>\n",
       "  </thead>\n",
       "  <tbody>\n",
       "    <tr>\n",
       "      <th>NaN</th>\n",
       "      <th>Title</th>\n",
       "      <th>MAL Id</th>\n",
       "      <th>Type</th>\n",
       "      <th>Episode Duration</th>\n",
       "      <th>Studios</th>\n",
       "      <th>Source Type</th>\n",
       "      <th>Genres</th>\n",
       "      <th>Themes</th>\n",
       "      <th>Rating</th>\n",
       "      <td>Popularity</td>\n",
       "      <td>Score</td>\n",
       "    </tr>\n",
       "    <tr>\n",
       "      <th>0.0</th>\n",
       "      <th>Fullmetal Alchemist: Brotherhood</th>\n",
       "      <th>5114</th>\n",
       "      <th>TV</th>\n",
       "      <th>24 min. per ep.</th>\n",
       "      <th>['Bones']</th>\n",
       "      <th>Manga</th>\n",
       "      <th>['Action', 'Adventure', 'Comedy', 'Drama', 'Fantasy']</th>\n",
       "      <th>N\\A</th>\n",
       "      <th>R - 17+ (violence &amp; profanity)</th>\n",
       "      <td>3</td>\n",
       "      <td>9.15</td>\n",
       "    </tr>\n",
       "    <tr>\n",
       "      <th>1.0</th>\n",
       "      <th>Shingeki no Kyojin: The Final Season Part 2</th>\n",
       "      <th>48583</th>\n",
       "      <th>TV</th>\n",
       "      <th>23 min. per ep.</th>\n",
       "      <th>['MAPPA']</th>\n",
       "      <th>Manga</th>\n",
       "      <th>['Action', 'Drama', 'Fantasy', 'Mystery']</th>\n",
       "      <th>['Military', 'Super Power']</th>\n",
       "      <th>R - 17+ (violence &amp; profanity)</th>\n",
       "      <td>221</td>\n",
       "      <td>9.15</td>\n",
       "    </tr>\n",
       "    <tr>\n",
       "      <th>2.0</th>\n",
       "      <th>Steins;Gate</th>\n",
       "      <th>9253</th>\n",
       "      <th>TV</th>\n",
       "      <th>24 min. per ep.</th>\n",
       "      <th>['White Fox']</th>\n",
       "      <th>Visual</th>\n",
       "      <th>['Drama', 'Sci-Fi', 'Suspense']</th>\n",
       "      <th>N\\A</th>\n",
       "      <th>PG-13 - Teens 13 or older</th>\n",
       "      <td>13</td>\n",
       "      <td>9.09</td>\n",
       "    </tr>\n",
       "    <tr>\n",
       "      <th>3.0</th>\n",
       "      <th>Gintama°</th>\n",
       "      <th>28977</th>\n",
       "      <th>TV</th>\n",
       "      <th>24 min. per ep.</th>\n",
       "      <th>['Bandai Namco Pictures']</th>\n",
       "      <th>Manga</th>\n",
       "      <th>['Action', 'Comedy', 'Sci-Fi']</th>\n",
       "      <th>['Historical', 'Parody', 'Samurai']</th>\n",
       "      <th>PG-13 - Teens 13 or older</th>\n",
       "      <td>335</td>\n",
       "      <td>9.09</td>\n",
       "    </tr>\n",
       "  </tbody>\n",
       "</table>\n",
       "</div>"
      ],
      "text/plain": [
       "                                                                                                                                                                                                                                                    sep=  \\\n",
       "NaN  Title                                       MAL Id Type Episode Duration Studios                   Source Type Genres                                             Themes                              Rating                             Popularity   \n",
       "0.0  Fullmetal Alchemist: Brotherhood            5114   TV   24 min. per ep.  ['Bones']                 Manga       ['Action', 'Adventure', 'Comedy', 'Drama', 'Fan... N\\A                                  R - 17+ (violence & profanity)             3   \n",
       "1.0  Shingeki no Kyojin: The Final Season Part 2 48583  TV   23 min. per ep.  ['MAPPA']                 Manga       ['Action', 'Drama', 'Fantasy', 'Mystery']          ['Military', 'Super Power']          R - 17+ (violence & profanity)           221   \n",
       "2.0  Steins;Gate                                 9253   TV   24 min. per ep.  ['White Fox']             Visual      ['Drama', 'Sci-Fi', 'Suspense']                    N\\A                                  PG-13 - Teens 13 or older                 13   \n",
       "3.0  Gintama°                                    28977  TV   24 min. per ep.  ['Bandai Namco Pictures'] Manga       ['Action', 'Comedy', 'Sci-Fi']                     ['Historical', 'Parody', 'Samurai']  PG-13 - Teens 13 or older                335   \n",
       "\n",
       "                                                                                                                                                                                                                                             Unnamed: 1  \n",
       "NaN  Title                                       MAL Id Type Episode Duration Studios                   Source Type Genres                                             Themes                              Rating                                 Score  \n",
       "0.0  Fullmetal Alchemist: Brotherhood            5114   TV   24 min. per ep.  ['Bones']                 Manga       ['Action', 'Adventure', 'Comedy', 'Drama', 'Fan... N\\A                                  R - 17+ (violence & profanity)         9.15  \n",
       "1.0  Shingeki no Kyojin: The Final Season Part 2 48583  TV   23 min. per ep.  ['MAPPA']                 Manga       ['Action', 'Drama', 'Fantasy', 'Mystery']          ['Military', 'Super Power']          R - 17+ (violence & profanity)         9.15  \n",
       "2.0  Steins;Gate                                 9253   TV   24 min. per ep.  ['White Fox']             Visual      ['Drama', 'Sci-Fi', 'Suspense']                    N\\A                                  PG-13 - Teens 13 or older              9.09  \n",
       "3.0  Gintama°                                    28977  TV   24 min. per ep.  ['Bandai Namco Pictures'] Manga       ['Action', 'Comedy', 'Sci-Fi']                     ['Historical', 'Parody', 'Samurai']  PG-13 - Teens 13 or older              9.09  "
      ]
     },
     "execution_count": 10,
     "metadata": {},
     "output_type": "execute_result"
    }
   ],
   "source": [
    "from sklearn import datasets\n",
    "import numpy as np\n",
    "import pandas as pd\n",
    "\n",
    "df = pd.read_csv(\"anime_df.csv\", sep=';')\n",
    "df.head(5)\n"
   ]
  },
  {
   "cell_type": "markdown",
   "metadata": {},
   "source": [
    "delete null information. (if exists)"
   ]
  },
  {
   "cell_type": "code",
   "execution_count": 11,
   "metadata": {},
   "outputs": [
    {
     "data": {
      "text/html": [
       "<div>\n",
       "<style scoped>\n",
       "    .dataframe tbody tr th:only-of-type {\n",
       "        vertical-align: middle;\n",
       "    }\n",
       "\n",
       "    .dataframe tbody tr th {\n",
       "        vertical-align: top;\n",
       "    }\n",
       "\n",
       "    .dataframe thead th {\n",
       "        text-align: right;\n",
       "    }\n",
       "</style>\n",
       "<table border=\"1\" class=\"dataframe\">\n",
       "  <thead>\n",
       "    <tr style=\"text-align: right;\">\n",
       "      <th></th>\n",
       "      <th>sep=</th>\n",
       "      <th>Unnamed: 1</th>\n",
       "    </tr>\n",
       "  </thead>\n",
       "  <tbody>\n",
       "    <tr>\n",
       "      <th>total null</th>\n",
       "      <td>0</td>\n",
       "      <td>0</td>\n",
       "    </tr>\n",
       "  </tbody>\n",
       "</table>\n",
       "</div>"
      ],
      "text/plain": [
       "            sep=  Unnamed: 1\n",
       "total null     0           0"
      ]
     },
     "execution_count": 11,
     "metadata": {},
     "output_type": "execute_result"
    }
   ],
   "source": [
    "data_null_total = pd.DataFrame(df.isna().sum()).T.rename({0:'total null'})\n",
    "data_null_total"
   ]
  },
  {
   "cell_type": "markdown",
   "metadata": {},
   "source": [
    "get info."
   ]
  },
  {
   "cell_type": "code",
   "execution_count": 12,
   "metadata": {},
   "outputs": [
    {
     "name": "stdout",
     "output_type": "stream",
     "text": [
      "<class 'pandas.core.frame.DataFrame'>\n",
      "MultiIndex: 101 entries, (nan, 'Title', 'MAL Id', 'Type', 'Episode Duration', 'Studios', 'Source Type', 'Genres', 'Themes', 'Rating') to (99.0, 'Kenpuu Denki Berserk', '33', 'TV', '25 min. per ep.', \"['OLM']\", 'Manga', \"['Action', 'Adventure', 'Drama', 'Fantasy', 'Horror', 'Supernatural']\", \"['Demons', 'Military']\", ' R+ - Mild Nudity  ')\n",
      "Data columns (total 2 columns):\n",
      " #   Column      Non-Null Count  Dtype \n",
      "---  ------      --------------  ----- \n",
      " 0   sep=        101 non-null    object\n",
      " 1   Unnamed: 1  101 non-null    object\n",
      "dtypes: object(2)\n",
      "memory usage: 23.9+ KB\n"
     ]
    }
   ],
   "source": [
    "df.info()"
   ]
  },
  {
   "cell_type": "markdown",
   "metadata": {},
   "source": [
    "check for duplicated data. (if there is)"
   ]
  },
  {
   "cell_type": "code",
   "execution_count": 15,
   "metadata": {},
   "outputs": [],
   "source": [
    "df.duplicated().sum()\n",
    "from empiricaldist import Pmf, Cdf"
   ]
  },
  {
   "cell_type": "markdown",
   "metadata": {},
   "source": [
    "colums"
   ]
  },
  {
   "cell_type": "code",
   "execution_count": 16,
   "metadata": {},
   "outputs": [
    {
     "ename": "KeyError",
     "evalue": "'Title'",
     "output_type": "error",
     "traceback": [
      "\u001b[1;31m---------------------------------------------------------------------------\u001b[0m",
      "\u001b[1;31mKeyError\u001b[0m                                  Traceback (most recent call last)",
      "File \u001b[1;32m~\\AppData\\Roaming\\Python\\Python39\\site-packages\\pandas\\core\\indexes\\base.py:3621\u001b[0m, in \u001b[0;36mIndex.get_loc\u001b[1;34m(self, key, method, tolerance)\u001b[0m\n\u001b[0;32m   <a href='file:///~/AppData/Roaming/Python/Python39/site-packages/pandas/core/indexes/base.py?line=3619'>3620</a>\u001b[0m \u001b[39mtry\u001b[39;00m:\n\u001b[1;32m-> <a href='file:///~/AppData/Roaming/Python/Python39/site-packages/pandas/core/indexes/base.py?line=3620'>3621</a>\u001b[0m     \u001b[39mreturn\u001b[39;00m \u001b[39mself\u001b[39;49m\u001b[39m.\u001b[39;49m_engine\u001b[39m.\u001b[39;49mget_loc(casted_key)\n\u001b[0;32m   <a href='file:///~/AppData/Roaming/Python/Python39/site-packages/pandas/core/indexes/base.py?line=3621'>3622</a>\u001b[0m \u001b[39mexcept\u001b[39;00m \u001b[39mKeyError\u001b[39;00m \u001b[39mas\u001b[39;00m err:\n",
      "File \u001b[1;32m~\\AppData\\Roaming\\Python\\Python39\\site-packages\\pandas\\_libs\\index.pyx:136\u001b[0m, in \u001b[0;36mpandas._libs.index.IndexEngine.get_loc\u001b[1;34m()\u001b[0m\n",
      "File \u001b[1;32m~\\AppData\\Roaming\\Python\\Python39\\site-packages\\pandas\\_libs\\index.pyx:163\u001b[0m, in \u001b[0;36mpandas._libs.index.IndexEngine.get_loc\u001b[1;34m()\u001b[0m\n",
      "File \u001b[1;32mpandas\\_libs\\hashtable_class_helper.pxi:5198\u001b[0m, in \u001b[0;36mpandas._libs.hashtable.PyObjectHashTable.get_item\u001b[1;34m()\u001b[0m\n",
      "File \u001b[1;32mpandas\\_libs\\hashtable_class_helper.pxi:5206\u001b[0m, in \u001b[0;36mpandas._libs.hashtable.PyObjectHashTable.get_item\u001b[1;34m()\u001b[0m\n",
      "\u001b[1;31mKeyError\u001b[0m: 'Title'",
      "\nThe above exception was the direct cause of the following exception:\n",
      "\u001b[1;31mKeyError\u001b[0m                                  Traceback (most recent call last)",
      "\u001b[1;32mc:\\Users\\Tamir\\Documents\\Clone34\\DataScIntro\\Classification\\WebScraping\\prediction_groundwork_for_tommorow.ipynb Cell 10'\u001b[0m in \u001b[0;36m<module>\u001b[1;34m\u001b[0m\n\u001b[0;32m      <a href='vscode-notebook-cell:/c%3A/Users/Tamir/Documents/Clone34/DataScIntro/Classification/WebScraping/prediction_groundwork_for_tommorow.ipynb#ch0000009?line=0'>1</a>\u001b[0m column_list \u001b[39m=\u001b[39m [\u001b[39m'\u001b[39m\u001b[39mTitle\u001b[39m\u001b[39m'\u001b[39m, \u001b[39m'\u001b[39m\u001b[39mMAL Id\u001b[39m\u001b[39m'\u001b[39m, \u001b[39m'\u001b[39m\u001b[39mType\u001b[39m\u001b[39m'\u001b[39m, \u001b[39m'\u001b[39m\u001b[39mEpisode Duration\u001b[39m\u001b[39m'\u001b[39m, \u001b[39m'\u001b[39m\u001b[39mStudios\u001b[39m\u001b[39m'\u001b[39m, \u001b[39m'\u001b[39m\u001b[39mSource Type\u001b[39m\u001b[39m'\u001b[39m, \u001b[39m'\u001b[39m\u001b[39mGenres\u001b[39m\u001b[39m'\u001b[39m, \u001b[39m'\u001b[39m\u001b[39mThemes\u001b[39m\u001b[39m'\u001b[39m, \u001b[39m'\u001b[39m\u001b[39mRating\u001b[39m\u001b[39m'\u001b[39m]\n\u001b[0;32m      <a href='vscode-notebook-cell:/c%3A/Users/Tamir/Documents/Clone34/DataScIntro/Classification/WebScraping/prediction_groundwork_for_tommorow.ipynb#ch0000009?line=2'>3</a>\u001b[0m \u001b[39mfor\u001b[39;00m col \u001b[39min\u001b[39;00m column_list:\n\u001b[1;32m----> <a href='vscode-notebook-cell:/c%3A/Users/Tamir/Documents/Clone34/DataScIntro/Classification/WebScraping/prediction_groundwork_for_tommorow.ipynb#ch0000009?line=3'>4</a>\u001b[0m   pmf_data \u001b[39m=\u001b[39m Pmf\u001b[39m.\u001b[39mfrom_seq(df[col], normalize\u001b[39m=\u001b[39m\u001b[39mTrue\u001b[39;00m)\n\u001b[0;32m      <a href='vscode-notebook-cell:/c%3A/Users/Tamir/Documents/Clone34/DataScIntro/Classification/WebScraping/prediction_groundwork_for_tommorow.ipynb#ch0000009?line=4'>5</a>\u001b[0m   pmf_data \u001b[39m=\u001b[39m pd\u001b[39m.\u001b[39mDataFrame({col:pmf_data\u001b[39m.\u001b[39mindex, \u001b[39m'\u001b[39m\u001b[39mpmf\u001b[39m\u001b[39m'\u001b[39m:pmf_data\u001b[39m.\u001b[39mvalues})\n\u001b[0;32m      <a href='vscode-notebook-cell:/c%3A/Users/Tamir/Documents/Clone34/DataScIntro/Classification/WebScraping/prediction_groundwork_for_tommorow.ipynb#ch0000009?line=5'>6</a>\u001b[0m   pmf_data\u001b[39m.\u001b[39mset_index(col, inplace\u001b[39m=\u001b[39m\u001b[39mTrue\u001b[39;00m)\n",
      "File \u001b[1;32m~\\AppData\\Roaming\\Python\\Python39\\site-packages\\pandas\\core\\frame.py:3505\u001b[0m, in \u001b[0;36mDataFrame.__getitem__\u001b[1;34m(self, key)\u001b[0m\n\u001b[0;32m   <a href='file:///~/AppData/Roaming/Python/Python39/site-packages/pandas/core/frame.py?line=3502'>3503</a>\u001b[0m \u001b[39mif\u001b[39;00m \u001b[39mself\u001b[39m\u001b[39m.\u001b[39mcolumns\u001b[39m.\u001b[39mnlevels \u001b[39m>\u001b[39m \u001b[39m1\u001b[39m:\n\u001b[0;32m   <a href='file:///~/AppData/Roaming/Python/Python39/site-packages/pandas/core/frame.py?line=3503'>3504</a>\u001b[0m     \u001b[39mreturn\u001b[39;00m \u001b[39mself\u001b[39m\u001b[39m.\u001b[39m_getitem_multilevel(key)\n\u001b[1;32m-> <a href='file:///~/AppData/Roaming/Python/Python39/site-packages/pandas/core/frame.py?line=3504'>3505</a>\u001b[0m indexer \u001b[39m=\u001b[39m \u001b[39mself\u001b[39;49m\u001b[39m.\u001b[39;49mcolumns\u001b[39m.\u001b[39;49mget_loc(key)\n\u001b[0;32m   <a href='file:///~/AppData/Roaming/Python/Python39/site-packages/pandas/core/frame.py?line=3505'>3506</a>\u001b[0m \u001b[39mif\u001b[39;00m is_integer(indexer):\n\u001b[0;32m   <a href='file:///~/AppData/Roaming/Python/Python39/site-packages/pandas/core/frame.py?line=3506'>3507</a>\u001b[0m     indexer \u001b[39m=\u001b[39m [indexer]\n",
      "File \u001b[1;32m~\\AppData\\Roaming\\Python\\Python39\\site-packages\\pandas\\core\\indexes\\base.py:3623\u001b[0m, in \u001b[0;36mIndex.get_loc\u001b[1;34m(self, key, method, tolerance)\u001b[0m\n\u001b[0;32m   <a href='file:///~/AppData/Roaming/Python/Python39/site-packages/pandas/core/indexes/base.py?line=3620'>3621</a>\u001b[0m     \u001b[39mreturn\u001b[39;00m \u001b[39mself\u001b[39m\u001b[39m.\u001b[39m_engine\u001b[39m.\u001b[39mget_loc(casted_key)\n\u001b[0;32m   <a href='file:///~/AppData/Roaming/Python/Python39/site-packages/pandas/core/indexes/base.py?line=3621'>3622</a>\u001b[0m \u001b[39mexcept\u001b[39;00m \u001b[39mKeyError\u001b[39;00m \u001b[39mas\u001b[39;00m err:\n\u001b[1;32m-> <a href='file:///~/AppData/Roaming/Python/Python39/site-packages/pandas/core/indexes/base.py?line=3622'>3623</a>\u001b[0m     \u001b[39mraise\u001b[39;00m \u001b[39mKeyError\u001b[39;00m(key) \u001b[39mfrom\u001b[39;00m \u001b[39merr\u001b[39;00m\n\u001b[0;32m   <a href='file:///~/AppData/Roaming/Python/Python39/site-packages/pandas/core/indexes/base.py?line=3623'>3624</a>\u001b[0m \u001b[39mexcept\u001b[39;00m \u001b[39mTypeError\u001b[39;00m:\n\u001b[0;32m   <a href='file:///~/AppData/Roaming/Python/Python39/site-packages/pandas/core/indexes/base.py?line=3624'>3625</a>\u001b[0m     \u001b[39m# If we have a listlike key, _check_indexing_error will raise\u001b[39;00m\n\u001b[0;32m   <a href='file:///~/AppData/Roaming/Python/Python39/site-packages/pandas/core/indexes/base.py?line=3625'>3626</a>\u001b[0m     \u001b[39m#  InvalidIndexError. Otherwise we fall through and re-raise\u001b[39;00m\n\u001b[0;32m   <a href='file:///~/AppData/Roaming/Python/Python39/site-packages/pandas/core/indexes/base.py?line=3626'>3627</a>\u001b[0m     \u001b[39m#  the TypeError.\u001b[39;00m\n\u001b[0;32m   <a href='file:///~/AppData/Roaming/Python/Python39/site-packages/pandas/core/indexes/base.py?line=3627'>3628</a>\u001b[0m     \u001b[39mself\u001b[39m\u001b[39m.\u001b[39m_check_indexing_error(key)\n",
      "\u001b[1;31mKeyError\u001b[0m: 'Title'"
     ]
    }
   ],
   "source": [
    "\n",
    "column_list = ['Title', 'MAL Id', 'Type', 'Episode Duration', 'Studios', 'Source Type', 'Genres', 'Themes', 'Rating']\n",
    "\n",
    "for col in column_list:\n",
    "  pmf_data = Pmf.from_seq(df[col], normalize=True)\n",
    "  pmf_data = pd.DataFrame({col:pmf_data.index, 'pmf':pmf_data.values})\n",
    "  pmf_data.set_index(col, inplace=True)\n",
    "  display(pmf_data.style.background_gradient(vmin=0, subset='pmf'))"
   ]
  },
  {
   "cell_type": "markdown",
   "metadata": {},
   "source": [
    "charts"
   ]
  },
  {
   "cell_type": "code",
   "execution_count": 17,
   "metadata": {},
   "outputs": [
    {
     "ename": "NameError",
     "evalue": "name 'plt' is not defined",
     "output_type": "error",
     "traceback": [
      "\u001b[1;31m---------------------------------------------------------------------------\u001b[0m",
      "\u001b[1;31mNameError\u001b[0m                                 Traceback (most recent call last)",
      "\u001b[1;32mc:\\Users\\Tamir\\Documents\\Clone34\\DataScIntro\\Classification\\WebScraping\\prediction_groundwork_for_tommorow.ipynb Cell 12'\u001b[0m in \u001b[0;36m<module>\u001b[1;34m\u001b[0m\n\u001b[0;32m      <a href='vscode-notebook-cell:/c%3A/Users/Tamir/Documents/Clone34/DataScIntro/Classification/WebScraping/prediction_groundwork_for_tommorow.ipynb#ch0000011?line=0'>1</a>\u001b[0m \u001b[39m#MAKE MEDIAN STUDIO POPULARITY\u001b[39;00m\n\u001b[0;32m      <a href='vscode-notebook-cell:/c%3A/Users/Tamir/Documents/Clone34/DataScIntro/Classification/WebScraping/prediction_groundwork_for_tommorow.ipynb#ch0000011?line=1'>2</a>\u001b[0m \u001b[39m#MAKE CHART\u001b[39;00m\n\u001b[1;32m----> <a href='vscode-notebook-cell:/c%3A/Users/Tamir/Documents/Clone34/DataScIntro/Classification/WebScraping/prediction_groundwork_for_tommorow.ipynb#ch0000011?line=4'>5</a>\u001b[0m plt\u001b[39m.\u001b[39mtitle(\u001b[39m'\u001b[39m\u001b[39mStudio and the amount of popularity\u001b[39m\u001b[39m'\u001b[39m)\n\u001b[0;32m      <a href='vscode-notebook-cell:/c%3A/Users/Tamir/Documents/Clone34/DataScIntro/Classification/WebScraping/prediction_groundwork_for_tommorow.ipynb#ch0000011?line=5'>6</a>\u001b[0m df\u001b[39m.\u001b[39mstudio\u001b[39m.\u001b[39mvalue_counts()\u001b[39m.\u001b[39mplot(kind \u001b[39m=\u001b[39m \u001b[39m'\u001b[39m\u001b[39mbar\u001b[39m\u001b[39m'\u001b[39m)\n",
      "\u001b[1;31mNameError\u001b[0m: name 'plt' is not defined"
     ]
    }
   ],
   "source": [
    "#MAKE MEDIAN STUDIO POPULARITY\n",
    "#MAKE CHART\n",
    "\n",
    "\n",
    "plt.title('Studio and the amount of popularity')\n",
    "df.studio.value_counts().plot(kind = 'bar')"
   ]
  },
  {
   "cell_type": "markdown",
   "metadata": {},
   "source": [
    "charts"
   ]
  },
  {
   "cell_type": "code",
   "execution_count": 18,
   "metadata": {},
   "outputs": [
    {
     "ename": "NameError",
     "evalue": "name 'plt' is not defined",
     "output_type": "error",
     "traceback": [
      "\u001b[1;31m---------------------------------------------------------------------------\u001b[0m",
      "\u001b[1;31mNameError\u001b[0m                                 Traceback (most recent call last)",
      "\u001b[1;32mc:\\Users\\Tamir\\Documents\\Clone34\\DataScIntro\\Classification\\WebScraping\\prediction_groundwork_for_tommorow.ipynb Cell 14'\u001b[0m in \u001b[0;36m<module>\u001b[1;34m\u001b[0m\n\u001b[0;32m      <a href='vscode-notebook-cell:/c%3A/Users/Tamir/Documents/Clone34/DataScIntro/Classification/WebScraping/prediction_groundwork_for_tommorow.ipynb#ch0000013?line=0'>1</a>\u001b[0m \u001b[39m#MAKE MEDIAN STUDIO POPULARITY\u001b[39;00m\n\u001b[0;32m      <a href='vscode-notebook-cell:/c%3A/Users/Tamir/Documents/Clone34/DataScIntro/Classification/WebScraping/prediction_groundwork_for_tommorow.ipynb#ch0000013?line=1'>2</a>\u001b[0m \u001b[39m#MAKE CHART\u001b[39;00m\n\u001b[1;32m----> <a href='vscode-notebook-cell:/c%3A/Users/Tamir/Documents/Clone34/DataScIntro/Classification/WebScraping/prediction_groundwork_for_tommorow.ipynb#ch0000013?line=4'>5</a>\u001b[0m plt\u001b[39m.\u001b[39mtitle(\u001b[39m'\u001b[39m\u001b[39mStudio and the amount of popularity\u001b[39m\u001b[39m'\u001b[39m)\n\u001b[0;32m      <a href='vscode-notebook-cell:/c%3A/Users/Tamir/Documents/Clone34/DataScIntro/Classification/WebScraping/prediction_groundwork_for_tommorow.ipynb#ch0000013?line=5'>6</a>\u001b[0m df\u001b[39m.\u001b[39mstudio\u001b[39m.\u001b[39mvalue_counts()\u001b[39m.\u001b[39mplot(kind \u001b[39m=\u001b[39m \u001b[39m'\u001b[39m\u001b[39mbar\u001b[39m\u001b[39m'\u001b[39m)\n",
      "\u001b[1;31mNameError\u001b[0m: name 'plt' is not defined"
     ]
    }
   ],
   "source": [
    "\n",
    "#cut genres\n",
    "#median genre popularity\n",
    "#make chart of genre vs populrity\n",
    "\n",
    "\n",
    "plt.title('genre and the amount of popularity')\n",
    "df.genre.value_counts().plot(kind = 'bar')"
   ]
  },
  {
   "cell_type": "markdown",
   "metadata": {},
   "source": [
    "find if studio made sequal"
   ]
  },
  {
   "cell_type": "code",
   "execution_count": 19,
   "metadata": {},
   "outputs": [],
   "source": [
    "#check if sequal."
   ]
  }
 ],
 "metadata": {
  "interpreter": {
   "hash": "13427881f06f13311079f5221e5dd632fdf9146891f6da22d47a93dcb9272d3a"
  },
  "kernelspec": {
   "display_name": "Python 3.9.7 ('base')",
   "language": "python",
   "name": "python3"
  },
  "language_info": {
   "codemirror_mode": {
    "name": "ipython",
    "version": 3
   },
   "file_extension": ".py",
   "mimetype": "text/x-python",
   "name": "python",
   "nbconvert_exporter": "python",
   "pygments_lexer": "ipython3",
   "version": "3.9.7"
  },
  "orig_nbformat": 4
 },
 "nbformat": 4,
 "nbformat_minor": 2
}

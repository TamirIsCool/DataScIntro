{
 "cells": [
  {
   "cell_type": "markdown",
   "metadata": {},
   "source": [
    "### Prediction of scraped MyAnimeList Data ###"
   ]
  },
  {
   "cell_type": "code",
   "execution_count": 6,
   "metadata": {},
   "outputs": [
    {
     "data": {
      "text/html": [
       "<div>\n",
       "<style scoped>\n",
       "    .dataframe tbody tr th:only-of-type {\n",
       "        vertical-align: middle;\n",
       "    }\n",
       "\n",
       "    .dataframe tbody tr th {\n",
       "        vertical-align: top;\n",
       "    }\n",
       "\n",
       "    .dataframe thead th {\n",
       "        text-align: right;\n",
       "    }\n",
       "</style>\n",
       "<table border=\"1\" class=\"dataframe\">\n",
       "  <thead>\n",
       "    <tr style=\"text-align: right;\">\n",
       "      <th></th>\n",
       "      <th>Title</th>\n",
       "      <th>MAL Id</th>\n",
       "      <th>Type</th>\n",
       "      <th>Episode Duration</th>\n",
       "      <th>Studios</th>\n",
       "      <th>Source Type</th>\n",
       "      <th>Genres</th>\n",
       "      <th>Themes</th>\n",
       "      <th>Rating</th>\n",
       "      <th>Popularity</th>\n",
       "      <th>Score</th>\n",
       "    </tr>\n",
       "  </thead>\n",
       "  <tbody>\n",
       "    <tr>\n",
       "      <th>27517</th>\n",
       "      <td>D4 Princess</td>\n",
       "      <td>2723</td>\n",
       "      <td>TV</td>\n",
       "      <td>8 min. per ep.</td>\n",
       "      <td>['Daume']</td>\n",
       "      <td>Manga</td>\n",
       "      <td>['Action', 'Comedy', 'Sci-Fi']</td>\n",
       "      <td>N\\A</td>\n",
       "      <td>PG-13 - Teens 13 or older</td>\n",
       "      <td>8783</td>\n",
       "      <td>6.06</td>\n",
       "    </tr>\n",
       "    <tr>\n",
       "      <th>17058</th>\n",
       "      <td>Monoshiri Daigaku: Ashita no Calendar</td>\n",
       "      <td>22221</td>\n",
       "      <td>TV</td>\n",
       "      <td>5 min. per ep.</td>\n",
       "      <td>['add some']</td>\n",
       "      <td>Original</td>\n",
       "      <td>N\\A</td>\n",
       "      <td>N\\A</td>\n",
       "      <td>G - All Ages</td>\n",
       "      <td>12804</td>\n",
       "      <td>5.69</td>\n",
       "    </tr>\n",
       "    <tr>\n",
       "      <th>18703</th>\n",
       "      <td>Wo Jiao Bai Xiaofei</td>\n",
       "      <td>33357</td>\n",
       "      <td>ONA</td>\n",
       "      <td>11 min. per ep.</td>\n",
       "      <td>['Haoliners Animation League']</td>\n",
       "      <td>Web</td>\n",
       "      <td>['Action', 'Comedy', 'Horror']</td>\n",
       "      <td>N\\A</td>\n",
       "      <td>PG-13 - Teens 13 or older</td>\n",
       "      <td>10627</td>\n",
       "      <td>6.15</td>\n",
       "    </tr>\n",
       "    <tr>\n",
       "      <th>35052</th>\n",
       "      <td>Tobe! Kujira no Peek</td>\n",
       "      <td>2314</td>\n",
       "      <td>Movie</td>\n",
       "      <td>1 hr. 20 min.</td>\n",
       "      <td>['Urban Product']</td>\n",
       "      <td>Unknown</td>\n",
       "      <td>['Adventure', 'Drama']</td>\n",
       "      <td>N\\A</td>\n",
       "      <td>G - All Ages</td>\n",
       "      <td>11244</td>\n",
       "      <td>6.06</td>\n",
       "    </tr>\n",
       "    <tr>\n",
       "      <th>42093</th>\n",
       "      <td>Gon</td>\n",
       "      <td>7867</td>\n",
       "      <td>TV</td>\n",
       "      <td>23 min. per ep.</td>\n",
       "      <td>['Daewon Media']</td>\n",
       "      <td>Manga</td>\n",
       "      <td>['Action', 'Adventure']</td>\n",
       "      <td>N\\A</td>\n",
       "      <td>G - All Ages</td>\n",
       "      <td>9819</td>\n",
       "      <td>5.67</td>\n",
       "    </tr>\n",
       "    <tr>\n",
       "      <th>37236</th>\n",
       "      <td>Project HAL</td>\n",
       "      <td>32385</td>\n",
       "      <td>ONA</td>\n",
       "      <td>39 sec. per ep.</td>\n",
       "      <td>['add some']</td>\n",
       "      <td>Original</td>\n",
       "      <td>N\\A</td>\n",
       "      <td>N\\A</td>\n",
       "      <td>G - All Ages</td>\n",
       "      <td>12603</td>\n",
       "      <td>5.79</td>\n",
       "    </tr>\n",
       "    <tr>\n",
       "      <th>20504</th>\n",
       "      <td>Air Recap</td>\n",
       "      <td>36032</td>\n",
       "      <td>Special</td>\n",
       "      <td>22 min.</td>\n",
       "      <td>['Kyoto Animation']</td>\n",
       "      <td>Visual</td>\n",
       "      <td>['Drama', 'Romance', 'Supernatural']</td>\n",
       "      <td>N\\A</td>\n",
       "      <td>PG-13 - Teens 13 or older</td>\n",
       "      <td>6594</td>\n",
       "      <td>6.22</td>\n",
       "    </tr>\n",
       "    <tr>\n",
       "      <th>2557</th>\n",
       "      <td>Cyborg 009: The Cyborg Soldier - Yomi no Gunzou</td>\n",
       "      <td>40250</td>\n",
       "      <td>Special</td>\n",
       "      <td>24 min.</td>\n",
       "      <td>['add some']</td>\n",
       "      <td>Manga</td>\n",
       "      <td>['Action', 'Adventure', 'Sci-Fi']</td>\n",
       "      <td>N\\A</td>\n",
       "      <td>PG-13 - Teens 13 or older</td>\n",
       "      <td>13022</td>\n",
       "      <td>6.01</td>\n",
       "    </tr>\n",
       "    <tr>\n",
       "      <th>41892</th>\n",
       "      <td>Kick-Flight</td>\n",
       "      <td>40375</td>\n",
       "      <td>ONA</td>\n",
       "      <td>1 min.</td>\n",
       "      <td>['MAPPA']</td>\n",
       "      <td>Game</td>\n",
       "      <td>N\\A</td>\n",
       "      <td>['Game', 'Music']</td>\n",
       "      <td>PG-13 - Teens 13 or older</td>\n",
       "      <td>12869</td>\n",
       "      <td>5.73</td>\n",
       "    </tr>\n",
       "    <tr>\n",
       "      <th>1794</th>\n",
       "      <td>21 Emon</td>\n",
       "      <td>5628</td>\n",
       "      <td>TV</td>\n",
       "      <td>25 min. per ep.</td>\n",
       "      <td>['Shin-Ei Animation']</td>\n",
       "      <td>Unknown</td>\n",
       "      <td>['Comedy', 'Sci-Fi']</td>\n",
       "      <td>N\\A</td>\n",
       "      <td>G - All Ages</td>\n",
       "      <td>11857</td>\n",
       "      <td>6.13</td>\n",
       "    </tr>\n",
       "  </tbody>\n",
       "</table>\n",
       "</div>"
      ],
      "text/plain": [
       "                                                 Title  MAL Id     Type  \\\n",
       "27517                                      D4 Princess    2723       TV   \n",
       "17058            Monoshiri Daigaku: Ashita no Calendar   22221       TV   \n",
       "18703                              Wo Jiao Bai Xiaofei   33357      ONA   \n",
       "35052                             Tobe! Kujira no Peek    2314    Movie   \n",
       "42093                                              Gon    7867       TV   \n",
       "37236                                      Project HAL   32385      ONA   \n",
       "20504                                        Air Recap   36032  Special   \n",
       "2557   Cyborg 009: The Cyborg Soldier - Yomi no Gunzou   40250  Special   \n",
       "41892                                      Kick-Flight   40375      ONA   \n",
       "1794                                           21 Emon    5628       TV   \n",
       "\n",
       "      Episode Duration                         Studios Source Type  \\\n",
       "27517   8 min. per ep.                       ['Daume']       Manga   \n",
       "17058   5 min. per ep.                    ['add some']    Original   \n",
       "18703  11 min. per ep.  ['Haoliners Animation League']         Web   \n",
       "35052    1 hr. 20 min.               ['Urban Product']     Unknown   \n",
       "42093  23 min. per ep.                ['Daewon Media']       Manga   \n",
       "37236  39 sec. per ep.                    ['add some']    Original   \n",
       "20504          22 min.             ['Kyoto Animation']      Visual   \n",
       "2557           24 min.                    ['add some']       Manga   \n",
       "41892           1 min.                       ['MAPPA']        Game   \n",
       "1794   25 min. per ep.           ['Shin-Ei Animation']     Unknown   \n",
       "\n",
       "                                     Genres             Themes  \\\n",
       "27517        ['Action', 'Comedy', 'Sci-Fi']                N\\A   \n",
       "17058                                   N\\A                N\\A   \n",
       "18703        ['Action', 'Comedy', 'Horror']                N\\A   \n",
       "35052                ['Adventure', 'Drama']                N\\A   \n",
       "42093               ['Action', 'Adventure']                N\\A   \n",
       "37236                                   N\\A                N\\A   \n",
       "20504  ['Drama', 'Romance', 'Supernatural']                N\\A   \n",
       "2557      ['Action', 'Adventure', 'Sci-Fi']                N\\A   \n",
       "41892                                   N\\A  ['Game', 'Music']   \n",
       "1794                   ['Comedy', 'Sci-Fi']                N\\A   \n",
       "\n",
       "                             Rating  Popularity  Score  \n",
       "27517   PG-13 - Teens 13 or older          8783   6.06  \n",
       "17058                G - All Ages         12804   5.69  \n",
       "18703   PG-13 - Teens 13 or older         10627   6.15  \n",
       "35052                G - All Ages         11244   6.06  \n",
       "42093                G - All Ages          9819   5.67  \n",
       "37236                G - All Ages         12603   5.79  \n",
       "20504   PG-13 - Teens 13 or older          6594   6.22  \n",
       "2557    PG-13 - Teens 13 or older         13022   6.01  \n",
       "41892   PG-13 - Teens 13 or older         12869   5.73  \n",
       "1794                 G - All Ages         11857   6.13  "
      ]
     },
     "execution_count": 6,
     "metadata": {},
     "output_type": "execute_result"
    }
   ],
   "source": [
    "from sklearn import datasets\n",
    "import numpy as np\n",
    "import pandas as pd\n",
    "\n",
    "df = pd.read_csv(\"anime_df_inclRates - Copy.csv\", sep=';')\n",
    "df.head(10)\n"
   ]
  },
  {
   "cell_type": "markdown",
   "metadata": {},
   "source": [
    "delete null information. (if exists)"
   ]
  },
  {
   "cell_type": "code",
   "execution_count": 4,
   "metadata": {},
   "outputs": [
    {
     "data": {
      "text/html": [
       "<div>\n",
       "<style scoped>\n",
       "    .dataframe tbody tr th:only-of-type {\n",
       "        vertical-align: middle;\n",
       "    }\n",
       "\n",
       "    .dataframe tbody tr th {\n",
       "        vertical-align: top;\n",
       "    }\n",
       "\n",
       "    .dataframe thead th {\n",
       "        text-align: right;\n",
       "    }\n",
       "</style>\n",
       "<table border=\"1\" class=\"dataframe\">\n",
       "  <thead>\n",
       "    <tr style=\"text-align: right;\">\n",
       "      <th></th>\n",
       "      <th>sep=</th>\n",
       "      <th>Unnamed: 1</th>\n",
       "    </tr>\n",
       "  </thead>\n",
       "  <tbody>\n",
       "    <tr>\n",
       "      <th>total null</th>\n",
       "      <td>0</td>\n",
       "      <td>0</td>\n",
       "    </tr>\n",
       "  </tbody>\n",
       "</table>\n",
       "</div>"
      ],
      "text/plain": [
       "            sep=  Unnamed: 1\n",
       "total null     0           0"
      ]
     },
     "execution_count": 4,
     "metadata": {},
     "output_type": "execute_result"
    }
   ],
   "source": [
    "data_null_total = pd.DataFrame(df.isna().sum()).T.rename({0:'total null'})\n",
    "data_null_total"
   ]
  },
  {
   "cell_type": "markdown",
   "metadata": {},
   "source": [
    "get info."
   ]
  },
  {
   "cell_type": "code",
   "execution_count": 5,
   "metadata": {},
   "outputs": [
    {
     "name": "stdout",
     "output_type": "stream",
     "text": [
      "<class 'pandas.core.frame.DataFrame'>\n",
      "MultiIndex: 2219 entries, (nan, 'Title', 'MAL Id', 'Type', 'Episode Duration', 'Studios', 'Source Type', 'Genres', 'Themes', 'Rating') to (5495.0, 'Kashi no Ki Mokku', '2574', 'TV', '24 min. per ep.', \"['Tatsunoko Production']\", 'Unknown', \"['Adventure', 'Fantasy']\", 'N\\\\A', ' G - All Ages  ')\n",
      "Data columns (total 2 columns):\n",
      " #   Column      Non-Null Count  Dtype \n",
      "---  ------      --------------  ----- \n",
      " 0   sep=        2219 non-null   object\n",
      " 1   Unnamed: 1  2219 non-null   object\n",
      "dtypes: object(2)\n",
      "memory usage: 358.7+ KB\n"
     ]
    }
   ],
   "source": [
    "df.info()"
   ]
  },
  {
   "cell_type": "markdown",
   "metadata": {},
   "source": [
    "check for duplicated data. (if there is)"
   ]
  },
  {
   "cell_type": "code",
   "execution_count": 15,
   "metadata": {},
   "outputs": [],
   "source": [
    "df.duplicated().sum()\n",
    "from empiricaldist import Pmf, Cdf"
   ]
  },
  {
   "cell_type": "markdown",
   "metadata": {},
   "source": [
    "colums"
   ]
  },
  {
   "cell_type": "code",
   "execution_count": 16,
   "metadata": {},
   "outputs": [
    {
     "ename": "KeyError",
     "evalue": "'Title'",
     "output_type": "error",
     "traceback": [
      "\u001b[1;31m---------------------------------------------------------------------------\u001b[0m",
      "\u001b[1;31mKeyError\u001b[0m                                  Traceback (most recent call last)",
      "File \u001b[1;32m~\\AppData\\Roaming\\Python\\Python39\\site-packages\\pandas\\core\\indexes\\base.py:3621\u001b[0m, in \u001b[0;36mIndex.get_loc\u001b[1;34m(self, key, method, tolerance)\u001b[0m\n\u001b[0;32m   <a href='file:///~/AppData/Roaming/Python/Python39/site-packages/pandas/core/indexes/base.py?line=3619'>3620</a>\u001b[0m \u001b[39mtry\u001b[39;00m:\n\u001b[1;32m-> <a href='file:///~/AppData/Roaming/Python/Python39/site-packages/pandas/core/indexes/base.py?line=3620'>3621</a>\u001b[0m     \u001b[39mreturn\u001b[39;00m \u001b[39mself\u001b[39;49m\u001b[39m.\u001b[39;49m_engine\u001b[39m.\u001b[39;49mget_loc(casted_key)\n\u001b[0;32m   <a href='file:///~/AppData/Roaming/Python/Python39/site-packages/pandas/core/indexes/base.py?line=3621'>3622</a>\u001b[0m \u001b[39mexcept\u001b[39;00m \u001b[39mKeyError\u001b[39;00m \u001b[39mas\u001b[39;00m err:\n",
      "File \u001b[1;32m~\\AppData\\Roaming\\Python\\Python39\\site-packages\\pandas\\_libs\\index.pyx:136\u001b[0m, in \u001b[0;36mpandas._libs.index.IndexEngine.get_loc\u001b[1;34m()\u001b[0m\n",
      "File \u001b[1;32m~\\AppData\\Roaming\\Python\\Python39\\site-packages\\pandas\\_libs\\index.pyx:163\u001b[0m, in \u001b[0;36mpandas._libs.index.IndexEngine.get_loc\u001b[1;34m()\u001b[0m\n",
      "File \u001b[1;32mpandas\\_libs\\hashtable_class_helper.pxi:5198\u001b[0m, in \u001b[0;36mpandas._libs.hashtable.PyObjectHashTable.get_item\u001b[1;34m()\u001b[0m\n",
      "File \u001b[1;32mpandas\\_libs\\hashtable_class_helper.pxi:5206\u001b[0m, in \u001b[0;36mpandas._libs.hashtable.PyObjectHashTable.get_item\u001b[1;34m()\u001b[0m\n",
      "\u001b[1;31mKeyError\u001b[0m: 'Title'",
      "\nThe above exception was the direct cause of the following exception:\n",
      "\u001b[1;31mKeyError\u001b[0m                                  Traceback (most recent call last)",
      "\u001b[1;32mc:\\Users\\Tamir\\Documents\\Clone34\\DataScIntro\\Classification\\WebScraping\\prediction_groundwork_for_tommorow.ipynb Cell 10'\u001b[0m in \u001b[0;36m<module>\u001b[1;34m\u001b[0m\n\u001b[0;32m      <a href='vscode-notebook-cell:/c%3A/Users/Tamir/Documents/Clone34/DataScIntro/Classification/WebScraping/prediction_groundwork_for_tommorow.ipynb#ch0000009?line=0'>1</a>\u001b[0m column_list \u001b[39m=\u001b[39m [\u001b[39m'\u001b[39m\u001b[39mTitle\u001b[39m\u001b[39m'\u001b[39m, \u001b[39m'\u001b[39m\u001b[39mMAL Id\u001b[39m\u001b[39m'\u001b[39m, \u001b[39m'\u001b[39m\u001b[39mType\u001b[39m\u001b[39m'\u001b[39m, \u001b[39m'\u001b[39m\u001b[39mEpisode Duration\u001b[39m\u001b[39m'\u001b[39m, \u001b[39m'\u001b[39m\u001b[39mStudios\u001b[39m\u001b[39m'\u001b[39m, \u001b[39m'\u001b[39m\u001b[39mSource Type\u001b[39m\u001b[39m'\u001b[39m, \u001b[39m'\u001b[39m\u001b[39mGenres\u001b[39m\u001b[39m'\u001b[39m, \u001b[39m'\u001b[39m\u001b[39mThemes\u001b[39m\u001b[39m'\u001b[39m, \u001b[39m'\u001b[39m\u001b[39mRating\u001b[39m\u001b[39m'\u001b[39m]\n\u001b[0;32m      <a href='vscode-notebook-cell:/c%3A/Users/Tamir/Documents/Clone34/DataScIntro/Classification/WebScraping/prediction_groundwork_for_tommorow.ipynb#ch0000009?line=2'>3</a>\u001b[0m \u001b[39mfor\u001b[39;00m col \u001b[39min\u001b[39;00m column_list:\n\u001b[1;32m----> <a href='vscode-notebook-cell:/c%3A/Users/Tamir/Documents/Clone34/DataScIntro/Classification/WebScraping/prediction_groundwork_for_tommorow.ipynb#ch0000009?line=3'>4</a>\u001b[0m   pmf_data \u001b[39m=\u001b[39m Pmf\u001b[39m.\u001b[39mfrom_seq(df[col], normalize\u001b[39m=\u001b[39m\u001b[39mTrue\u001b[39;00m)\n\u001b[0;32m      <a href='vscode-notebook-cell:/c%3A/Users/Tamir/Documents/Clone34/DataScIntro/Classification/WebScraping/prediction_groundwork_for_tommorow.ipynb#ch0000009?line=4'>5</a>\u001b[0m   pmf_data \u001b[39m=\u001b[39m pd\u001b[39m.\u001b[39mDataFrame({col:pmf_data\u001b[39m.\u001b[39mindex, \u001b[39m'\u001b[39m\u001b[39mpmf\u001b[39m\u001b[39m'\u001b[39m:pmf_data\u001b[39m.\u001b[39mvalues})\n\u001b[0;32m      <a href='vscode-notebook-cell:/c%3A/Users/Tamir/Documents/Clone34/DataScIntro/Classification/WebScraping/prediction_groundwork_for_tommorow.ipynb#ch0000009?line=5'>6</a>\u001b[0m   pmf_data\u001b[39m.\u001b[39mset_index(col, inplace\u001b[39m=\u001b[39m\u001b[39mTrue\u001b[39;00m)\n",
      "File \u001b[1;32m~\\AppData\\Roaming\\Python\\Python39\\site-packages\\pandas\\core\\frame.py:3505\u001b[0m, in \u001b[0;36mDataFrame.__getitem__\u001b[1;34m(self, key)\u001b[0m\n\u001b[0;32m   <a href='file:///~/AppData/Roaming/Python/Python39/site-packages/pandas/core/frame.py?line=3502'>3503</a>\u001b[0m \u001b[39mif\u001b[39;00m \u001b[39mself\u001b[39m\u001b[39m.\u001b[39mcolumns\u001b[39m.\u001b[39mnlevels \u001b[39m>\u001b[39m \u001b[39m1\u001b[39m:\n\u001b[0;32m   <a href='file:///~/AppData/Roaming/Python/Python39/site-packages/pandas/core/frame.py?line=3503'>3504</a>\u001b[0m     \u001b[39mreturn\u001b[39;00m \u001b[39mself\u001b[39m\u001b[39m.\u001b[39m_getitem_multilevel(key)\n\u001b[1;32m-> <a href='file:///~/AppData/Roaming/Python/Python39/site-packages/pandas/core/frame.py?line=3504'>3505</a>\u001b[0m indexer \u001b[39m=\u001b[39m \u001b[39mself\u001b[39;49m\u001b[39m.\u001b[39;49mcolumns\u001b[39m.\u001b[39;49mget_loc(key)\n\u001b[0;32m   <a href='file:///~/AppData/Roaming/Python/Python39/site-packages/pandas/core/frame.py?line=3505'>3506</a>\u001b[0m \u001b[39mif\u001b[39;00m is_integer(indexer):\n\u001b[0;32m   <a href='file:///~/AppData/Roaming/Python/Python39/site-packages/pandas/core/frame.py?line=3506'>3507</a>\u001b[0m     indexer \u001b[39m=\u001b[39m [indexer]\n",
      "File \u001b[1;32m~\\AppData\\Roaming\\Python\\Python39\\site-packages\\pandas\\core\\indexes\\base.py:3623\u001b[0m, in \u001b[0;36mIndex.get_loc\u001b[1;34m(self, key, method, tolerance)\u001b[0m\n\u001b[0;32m   <a href='file:///~/AppData/Roaming/Python/Python39/site-packages/pandas/core/indexes/base.py?line=3620'>3621</a>\u001b[0m     \u001b[39mreturn\u001b[39;00m \u001b[39mself\u001b[39m\u001b[39m.\u001b[39m_engine\u001b[39m.\u001b[39mget_loc(casted_key)\n\u001b[0;32m   <a href='file:///~/AppData/Roaming/Python/Python39/site-packages/pandas/core/indexes/base.py?line=3621'>3622</a>\u001b[0m \u001b[39mexcept\u001b[39;00m \u001b[39mKeyError\u001b[39;00m \u001b[39mas\u001b[39;00m err:\n\u001b[1;32m-> <a href='file:///~/AppData/Roaming/Python/Python39/site-packages/pandas/core/indexes/base.py?line=3622'>3623</a>\u001b[0m     \u001b[39mraise\u001b[39;00m \u001b[39mKeyError\u001b[39;00m(key) \u001b[39mfrom\u001b[39;00m \u001b[39merr\u001b[39;00m\n\u001b[0;32m   <a href='file:///~/AppData/Roaming/Python/Python39/site-packages/pandas/core/indexes/base.py?line=3623'>3624</a>\u001b[0m \u001b[39mexcept\u001b[39;00m \u001b[39mTypeError\u001b[39;00m:\n\u001b[0;32m   <a href='file:///~/AppData/Roaming/Python/Python39/site-packages/pandas/core/indexes/base.py?line=3624'>3625</a>\u001b[0m     \u001b[39m# If we have a listlike key, _check_indexing_error will raise\u001b[39;00m\n\u001b[0;32m   <a href='file:///~/AppData/Roaming/Python/Python39/site-packages/pandas/core/indexes/base.py?line=3625'>3626</a>\u001b[0m     \u001b[39m#  InvalidIndexError. Otherwise we fall through and re-raise\u001b[39;00m\n\u001b[0;32m   <a href='file:///~/AppData/Roaming/Python/Python39/site-packages/pandas/core/indexes/base.py?line=3626'>3627</a>\u001b[0m     \u001b[39m#  the TypeError.\u001b[39;00m\n\u001b[0;32m   <a href='file:///~/AppData/Roaming/Python/Python39/site-packages/pandas/core/indexes/base.py?line=3627'>3628</a>\u001b[0m     \u001b[39mself\u001b[39m\u001b[39m.\u001b[39m_check_indexing_error(key)\n",
      "\u001b[1;31mKeyError\u001b[0m: 'Title'"
     ]
    }
   ],
   "source": [
    "\n",
    "column_list = ['Title', 'MAL Id', 'Type', 'Episode Duration', 'Studios', 'Source Type', 'Genres', 'Themes', 'Rating']\n",
    "\n",
    "for col in column_list:\n",
    "  pmf_data = Pmf.from_seq(df[col], normalize=True)\n",
    "  pmf_data = pd.DataFrame({col:pmf_data.index, 'pmf':pmf_data.values})\n",
    "  pmf_data.set_index(col, inplace=True)\n",
    "  display(pmf_data.style.background_gradient(vmin=0, subset='pmf'))"
   ]
  },
  {
   "cell_type": "markdown",
   "metadata": {},
   "source": [
    "charts"
   ]
  },
  {
   "cell_type": "code",
   "execution_count": 17,
   "metadata": {},
   "outputs": [
    {
     "ename": "NameError",
     "evalue": "name 'plt' is not defined",
     "output_type": "error",
     "traceback": [
      "\u001b[1;31m---------------------------------------------------------------------------\u001b[0m",
      "\u001b[1;31mNameError\u001b[0m                                 Traceback (most recent call last)",
      "\u001b[1;32mc:\\Users\\Tamir\\Documents\\Clone34\\DataScIntro\\Classification\\WebScraping\\prediction_groundwork_for_tommorow.ipynb Cell 12'\u001b[0m in \u001b[0;36m<module>\u001b[1;34m\u001b[0m\n\u001b[0;32m      <a href='vscode-notebook-cell:/c%3A/Users/Tamir/Documents/Clone34/DataScIntro/Classification/WebScraping/prediction_groundwork_for_tommorow.ipynb#ch0000011?line=0'>1</a>\u001b[0m \u001b[39m#MAKE MEDIAN STUDIO POPULARITY\u001b[39;00m\n\u001b[0;32m      <a href='vscode-notebook-cell:/c%3A/Users/Tamir/Documents/Clone34/DataScIntro/Classification/WebScraping/prediction_groundwork_for_tommorow.ipynb#ch0000011?line=1'>2</a>\u001b[0m \u001b[39m#MAKE CHART\u001b[39;00m\n\u001b[1;32m----> <a href='vscode-notebook-cell:/c%3A/Users/Tamir/Documents/Clone34/DataScIntro/Classification/WebScraping/prediction_groundwork_for_tommorow.ipynb#ch0000011?line=4'>5</a>\u001b[0m plt\u001b[39m.\u001b[39mtitle(\u001b[39m'\u001b[39m\u001b[39mStudio and the amount of popularity\u001b[39m\u001b[39m'\u001b[39m)\n\u001b[0;32m      <a href='vscode-notebook-cell:/c%3A/Users/Tamir/Documents/Clone34/DataScIntro/Classification/WebScraping/prediction_groundwork_for_tommorow.ipynb#ch0000011?line=5'>6</a>\u001b[0m df\u001b[39m.\u001b[39mstudio\u001b[39m.\u001b[39mvalue_counts()\u001b[39m.\u001b[39mplot(kind \u001b[39m=\u001b[39m \u001b[39m'\u001b[39m\u001b[39mbar\u001b[39m\u001b[39m'\u001b[39m)\n",
      "\u001b[1;31mNameError\u001b[0m: name 'plt' is not defined"
     ]
    }
   ],
   "source": [
    "#MAKE MEDIAN STUDIO POPULARITY\n",
    "#MAKE CHART\n",
    "\n",
    "\n",
    "plt.title('Studio and the amount of popularity')\n",
    "df.studio.value_counts().plot(kind = 'bar')"
   ]
  },
  {
   "cell_type": "markdown",
   "metadata": {},
   "source": [
    "charts"
   ]
  },
  {
   "cell_type": "code",
   "execution_count": 18,
   "metadata": {},
   "outputs": [
    {
     "ename": "NameError",
     "evalue": "name 'plt' is not defined",
     "output_type": "error",
     "traceback": [
      "\u001b[1;31m---------------------------------------------------------------------------\u001b[0m",
      "\u001b[1;31mNameError\u001b[0m                                 Traceback (most recent call last)",
      "\u001b[1;32mc:\\Users\\Tamir\\Documents\\Clone34\\DataScIntro\\Classification\\WebScraping\\prediction_groundwork_for_tommorow.ipynb Cell 14'\u001b[0m in \u001b[0;36m<module>\u001b[1;34m\u001b[0m\n\u001b[0;32m      <a href='vscode-notebook-cell:/c%3A/Users/Tamir/Documents/Clone34/DataScIntro/Classification/WebScraping/prediction_groundwork_for_tommorow.ipynb#ch0000013?line=0'>1</a>\u001b[0m \u001b[39m#MAKE MEDIAN STUDIO POPULARITY\u001b[39;00m\n\u001b[0;32m      <a href='vscode-notebook-cell:/c%3A/Users/Tamir/Documents/Clone34/DataScIntro/Classification/WebScraping/prediction_groundwork_for_tommorow.ipynb#ch0000013?line=1'>2</a>\u001b[0m \u001b[39m#MAKE CHART\u001b[39;00m\n\u001b[1;32m----> <a href='vscode-notebook-cell:/c%3A/Users/Tamir/Documents/Clone34/DataScIntro/Classification/WebScraping/prediction_groundwork_for_tommorow.ipynb#ch0000013?line=4'>5</a>\u001b[0m plt\u001b[39m.\u001b[39mtitle(\u001b[39m'\u001b[39m\u001b[39mStudio and the amount of popularity\u001b[39m\u001b[39m'\u001b[39m)\n\u001b[0;32m      <a href='vscode-notebook-cell:/c%3A/Users/Tamir/Documents/Clone34/DataScIntro/Classification/WebScraping/prediction_groundwork_for_tommorow.ipynb#ch0000013?line=5'>6</a>\u001b[0m df\u001b[39m.\u001b[39mstudio\u001b[39m.\u001b[39mvalue_counts()\u001b[39m.\u001b[39mplot(kind \u001b[39m=\u001b[39m \u001b[39m'\u001b[39m\u001b[39mbar\u001b[39m\u001b[39m'\u001b[39m)\n",
      "\u001b[1;31mNameError\u001b[0m: name 'plt' is not defined"
     ]
    }
   ],
   "source": [
    "\n",
    "#cut genres\n",
    "#median genre popularity\n",
    "#make chart of genre vs populrity\n",
    "\n",
    "\n",
    "plt.title('genre and the amount of popularity')\n",
    "df.genre.value_counts().plot(kind = 'bar')"
   ]
  },
  {
   "cell_type": "markdown",
   "metadata": {},
   "source": [
    "find if studio made sequal"
   ]
  },
  {
   "cell_type": "code",
   "execution_count": 19,
   "metadata": {},
   "outputs": [],
   "source": [
    "#check if sequal."
   ]
  }
 ],
 "metadata": {
  "interpreter": {
   "hash": "13427881f06f13311079f5221e5dd632fdf9146891f6da22d47a93dcb9272d3a"
  },
  "kernelspec": {
   "display_name": "Python 3.9.7 ('base')",
   "language": "python",
   "name": "python3"
  },
  "language_info": {
   "codemirror_mode": {
    "name": "ipython",
    "version": 3
   },
   "file_extension": ".py",
   "mimetype": "text/x-python",
   "name": "python",
   "nbconvert_exporter": "python",
   "pygments_lexer": "ipython3",
   "version": "3.9.7"
  },
  "orig_nbformat": 4
 },
 "nbformat": 4,
 "nbformat_minor": 2
}

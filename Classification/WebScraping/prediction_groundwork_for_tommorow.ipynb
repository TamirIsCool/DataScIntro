{
 "cells": [
  {
   "cell_type": "markdown",
   "metadata": {},
   "source": [
    "### Prediction of scraped MyAnimeList Data ###"
   ]
  },
  {
   "cell_type": "code",
   "execution_count": 55,
   "metadata": {},
   "outputs": [
    {
     "data": {
      "text/html": [
       "<div>\n",
       "<style scoped>\n",
       "    .dataframe tbody tr th:only-of-type {\n",
       "        vertical-align: middle;\n",
       "    }\n",
       "\n",
       "    .dataframe tbody tr th {\n",
       "        vertical-align: top;\n",
       "    }\n",
       "\n",
       "    .dataframe thead th {\n",
       "        text-align: right;\n",
       "    }\n",
       "</style>\n",
       "<table border=\"1\" class=\"dataframe\">\n",
       "  <thead>\n",
       "    <tr style=\"text-align: right;\">\n",
       "      <th></th>\n",
       "      <th>Title</th>\n",
       "      <th>MAL Id</th>\n",
       "      <th>Type</th>\n",
       "      <th>Episode Duration</th>\n",
       "      <th>Studios</th>\n",
       "      <th>Source Type</th>\n",
       "      <th>Genres</th>\n",
       "      <th>Themes</th>\n",
       "      <th>Rating</th>\n",
       "      <th>Popularity</th>\n",
       "      <th>Score</th>\n",
       "    </tr>\n",
       "  </thead>\n",
       "  <tbody>\n",
       "    <tr>\n",
       "      <th>27517</th>\n",
       "      <td>D4 Princess</td>\n",
       "      <td>2723</td>\n",
       "      <td>TV</td>\n",
       "      <td>8 min. per ep.</td>\n",
       "      <td>['Daume']</td>\n",
       "      <td>Manga</td>\n",
       "      <td>['Action', 'Comedy', 'Sci-Fi']</td>\n",
       "      <td>N\\A</td>\n",
       "      <td>PG-13 - Teens 13 or older</td>\n",
       "      <td>8783</td>\n",
       "      <td>6.06</td>\n",
       "    </tr>\n",
       "    <tr>\n",
       "      <th>17058</th>\n",
       "      <td>Monoshiri Daigaku: Ashita no Calendar</td>\n",
       "      <td>22221</td>\n",
       "      <td>TV</td>\n",
       "      <td>5 min. per ep.</td>\n",
       "      <td>['add some']</td>\n",
       "      <td>Original</td>\n",
       "      <td>N\\A</td>\n",
       "      <td>N\\A</td>\n",
       "      <td>G - All Ages</td>\n",
       "      <td>12804</td>\n",
       "      <td>5.69</td>\n",
       "    </tr>\n",
       "    <tr>\n",
       "      <th>18703</th>\n",
       "      <td>Wo Jiao Bai Xiaofei</td>\n",
       "      <td>33357</td>\n",
       "      <td>ONA</td>\n",
       "      <td>11 min. per ep.</td>\n",
       "      <td>['Haoliners Animation League']</td>\n",
       "      <td>Web</td>\n",
       "      <td>['Action', 'Comedy', 'Horror']</td>\n",
       "      <td>N\\A</td>\n",
       "      <td>PG-13 - Teens 13 or older</td>\n",
       "      <td>10627</td>\n",
       "      <td>6.15</td>\n",
       "    </tr>\n",
       "    <tr>\n",
       "      <th>35052</th>\n",
       "      <td>Tobe! Kujira no Peek</td>\n",
       "      <td>2314</td>\n",
       "      <td>Movie</td>\n",
       "      <td>1 hr. 20 min.</td>\n",
       "      <td>['Urban Product']</td>\n",
       "      <td>Unknown</td>\n",
       "      <td>['Adventure', 'Drama']</td>\n",
       "      <td>N\\A</td>\n",
       "      <td>G - All Ages</td>\n",
       "      <td>11244</td>\n",
       "      <td>6.06</td>\n",
       "    </tr>\n",
       "    <tr>\n",
       "      <th>42093</th>\n",
       "      <td>Gon</td>\n",
       "      <td>7867</td>\n",
       "      <td>TV</td>\n",
       "      <td>23 min. per ep.</td>\n",
       "      <td>['Daewon Media']</td>\n",
       "      <td>Manga</td>\n",
       "      <td>['Action', 'Adventure']</td>\n",
       "      <td>N\\A</td>\n",
       "      <td>G - All Ages</td>\n",
       "      <td>9819</td>\n",
       "      <td>5.67</td>\n",
       "    </tr>\n",
       "    <tr>\n",
       "      <th>37236</th>\n",
       "      <td>Project HAL</td>\n",
       "      <td>32385</td>\n",
       "      <td>ONA</td>\n",
       "      <td>39 sec. per ep.</td>\n",
       "      <td>['add some']</td>\n",
       "      <td>Original</td>\n",
       "      <td>N\\A</td>\n",
       "      <td>N\\A</td>\n",
       "      <td>G - All Ages</td>\n",
       "      <td>12603</td>\n",
       "      <td>5.79</td>\n",
       "    </tr>\n",
       "    <tr>\n",
       "      <th>20504</th>\n",
       "      <td>Air Recap</td>\n",
       "      <td>36032</td>\n",
       "      <td>Special</td>\n",
       "      <td>22 min.</td>\n",
       "      <td>['Kyoto Animation']</td>\n",
       "      <td>Visual</td>\n",
       "      <td>['Drama', 'Romance', 'Supernatural']</td>\n",
       "      <td>N\\A</td>\n",
       "      <td>PG-13 - Teens 13 or older</td>\n",
       "      <td>6594</td>\n",
       "      <td>6.22</td>\n",
       "    </tr>\n",
       "    <tr>\n",
       "      <th>2557</th>\n",
       "      <td>Cyborg 009: The Cyborg Soldier - Yomi no Gunzou</td>\n",
       "      <td>40250</td>\n",
       "      <td>Special</td>\n",
       "      <td>24 min.</td>\n",
       "      <td>['add some']</td>\n",
       "      <td>Manga</td>\n",
       "      <td>['Action', 'Adventure', 'Sci-Fi']</td>\n",
       "      <td>N\\A</td>\n",
       "      <td>PG-13 - Teens 13 or older</td>\n",
       "      <td>13022</td>\n",
       "      <td>6.01</td>\n",
       "    </tr>\n",
       "    <tr>\n",
       "      <th>41892</th>\n",
       "      <td>Kick-Flight</td>\n",
       "      <td>40375</td>\n",
       "      <td>ONA</td>\n",
       "      <td>1 min.</td>\n",
       "      <td>['MAPPA']</td>\n",
       "      <td>Game</td>\n",
       "      <td>N\\A</td>\n",
       "      <td>['Game', 'Music']</td>\n",
       "      <td>PG-13 - Teens 13 or older</td>\n",
       "      <td>12869</td>\n",
       "      <td>5.73</td>\n",
       "    </tr>\n",
       "    <tr>\n",
       "      <th>1794</th>\n",
       "      <td>21 Emon</td>\n",
       "      <td>5628</td>\n",
       "      <td>TV</td>\n",
       "      <td>25 min. per ep.</td>\n",
       "      <td>['Shin-Ei Animation']</td>\n",
       "      <td>Unknown</td>\n",
       "      <td>['Comedy', 'Sci-Fi']</td>\n",
       "      <td>N\\A</td>\n",
       "      <td>G - All Ages</td>\n",
       "      <td>11857</td>\n",
       "      <td>6.13</td>\n",
       "    </tr>\n",
       "  </tbody>\n",
       "</table>\n",
       "</div>"
      ],
      "text/plain": [
       "                                                 Title  MAL Id     Type  \\\n",
       "27517                                      D4 Princess    2723       TV   \n",
       "17058            Monoshiri Daigaku: Ashita no Calendar   22221       TV   \n",
       "18703                              Wo Jiao Bai Xiaofei   33357      ONA   \n",
       "35052                             Tobe! Kujira no Peek    2314    Movie   \n",
       "42093                                              Gon    7867       TV   \n",
       "37236                                      Project HAL   32385      ONA   \n",
       "20504                                        Air Recap   36032  Special   \n",
       "2557   Cyborg 009: The Cyborg Soldier - Yomi no Gunzou   40250  Special   \n",
       "41892                                      Kick-Flight   40375      ONA   \n",
       "1794                                           21 Emon    5628       TV   \n",
       "\n",
       "      Episode Duration                         Studios Source Type  \\\n",
       "27517   8 min. per ep.                       ['Daume']       Manga   \n",
       "17058   5 min. per ep.                    ['add some']    Original   \n",
       "18703  11 min. per ep.  ['Haoliners Animation League']         Web   \n",
       "35052    1 hr. 20 min.               ['Urban Product']     Unknown   \n",
       "42093  23 min. per ep.                ['Daewon Media']       Manga   \n",
       "37236  39 sec. per ep.                    ['add some']    Original   \n",
       "20504          22 min.             ['Kyoto Animation']      Visual   \n",
       "2557           24 min.                    ['add some']       Manga   \n",
       "41892           1 min.                       ['MAPPA']        Game   \n",
       "1794   25 min. per ep.           ['Shin-Ei Animation']     Unknown   \n",
       "\n",
       "                                     Genres             Themes  \\\n",
       "27517        ['Action', 'Comedy', 'Sci-Fi']                N\\A   \n",
       "17058                                   N\\A                N\\A   \n",
       "18703        ['Action', 'Comedy', 'Horror']                N\\A   \n",
       "35052                ['Adventure', 'Drama']                N\\A   \n",
       "42093               ['Action', 'Adventure']                N\\A   \n",
       "37236                                   N\\A                N\\A   \n",
       "20504  ['Drama', 'Romance', 'Supernatural']                N\\A   \n",
       "2557      ['Action', 'Adventure', 'Sci-Fi']                N\\A   \n",
       "41892                                   N\\A  ['Game', 'Music']   \n",
       "1794                   ['Comedy', 'Sci-Fi']                N\\A   \n",
       "\n",
       "                             Rating  Popularity  Score  \n",
       "27517   PG-13 - Teens 13 or older          8783   6.06  \n",
       "17058                G - All Ages         12804   5.69  \n",
       "18703   PG-13 - Teens 13 or older         10627   6.15  \n",
       "35052                G - All Ages         11244   6.06  \n",
       "42093                G - All Ages          9819   5.67  \n",
       "37236                G - All Ages         12603   5.79  \n",
       "20504   PG-13 - Teens 13 or older          6594   6.22  \n",
       "2557    PG-13 - Teens 13 or older         13022   6.01  \n",
       "41892   PG-13 - Teens 13 or older         12869   5.73  \n",
       "1794                 G - All Ages         11857   6.13  "
      ]
     },
     "execution_count": 55,
     "metadata": {},
     "output_type": "execute_result"
    }
   ],
   "source": [
    "from sklearn import datasets\n",
    "import numpy as np\n",
    "import pandas as pd\n",
    "\n",
    "df = pd.read_csv(\"anime_df_inclRates - Copy.csv\", sep=';')\n",
    "df.head(10)"
   ]
  },
  {
   "cell_type": "markdown",
   "metadata": {},
   "source": [
    "delete null information. (if exists)"
   ]
  },
  {
   "cell_type": "code",
   "execution_count": 56,
   "metadata": {},
   "outputs": [
    {
     "data": {
      "text/html": [
       "<div>\n",
       "<style scoped>\n",
       "    .dataframe tbody tr th:only-of-type {\n",
       "        vertical-align: middle;\n",
       "    }\n",
       "\n",
       "    .dataframe tbody tr th {\n",
       "        vertical-align: top;\n",
       "    }\n",
       "\n",
       "    .dataframe thead th {\n",
       "        text-align: right;\n",
       "    }\n",
       "</style>\n",
       "<table border=\"1\" class=\"dataframe\">\n",
       "  <thead>\n",
       "    <tr style=\"text-align: right;\">\n",
       "      <th></th>\n",
       "      <th>Title</th>\n",
       "      <th>MAL Id</th>\n",
       "      <th>Type</th>\n",
       "      <th>Episode Duration</th>\n",
       "      <th>Studios</th>\n",
       "      <th>Source Type</th>\n",
       "      <th>Genres</th>\n",
       "      <th>Themes</th>\n",
       "      <th>Rating</th>\n",
       "      <th>Popularity</th>\n",
       "      <th>Score</th>\n",
       "    </tr>\n",
       "  </thead>\n",
       "  <tbody>\n",
       "    <tr>\n",
       "      <th>total null</th>\n",
       "      <td>0</td>\n",
       "      <td>0</td>\n",
       "      <td>0</td>\n",
       "      <td>0</td>\n",
       "      <td>0</td>\n",
       "      <td>0</td>\n",
       "      <td>0</td>\n",
       "      <td>0</td>\n",
       "      <td>0</td>\n",
       "      <td>0</td>\n",
       "      <td>0</td>\n",
       "    </tr>\n",
       "  </tbody>\n",
       "</table>\n",
       "</div>"
      ],
      "text/plain": [
       "            Title  MAL Id  Type  Episode Duration  Studios  Source Type  \\\n",
       "total null      0       0     0                 0        0            0   \n",
       "\n",
       "            Genres  Themes  Rating  Popularity  Score  \n",
       "total null       0       0       0           0      0  "
      ]
     },
     "execution_count": 56,
     "metadata": {},
     "output_type": "execute_result"
    }
   ],
   "source": [
    "data_null_total = pd.DataFrame(df.isna().sum()).T.rename({0:'total null'})\n",
    "data_null_total"
   ]
  },
  {
   "cell_type": "markdown",
   "metadata": {},
   "source": [
    "get info."
   ]
  },
  {
   "cell_type": "code",
   "execution_count": 57,
   "metadata": {},
   "outputs": [
    {
     "name": "stdout",
     "output_type": "stream",
     "text": [
      "<class 'pandas.core.frame.DataFrame'>\n",
      "Int64Index: 2218 entries, 27517 to 5495\n",
      "Data columns (total 11 columns):\n",
      " #   Column            Non-Null Count  Dtype  \n",
      "---  ------            --------------  -----  \n",
      " 0   Title             2218 non-null   object \n",
      " 1   MAL Id            2218 non-null   int64  \n",
      " 2   Type              2218 non-null   object \n",
      " 3   Episode Duration  2218 non-null   object \n",
      " 4   Studios           2218 non-null   object \n",
      " 5   Source Type       2218 non-null   object \n",
      " 6   Genres            2218 non-null   object \n",
      " 7   Themes            2218 non-null   object \n",
      " 8   Rating            2218 non-null   object \n",
      " 9   Popularity        2218 non-null   int64  \n",
      " 10  Score             2218 non-null   float64\n",
      "dtypes: float64(1), int64(2), object(8)\n",
      "memory usage: 207.9+ KB\n"
     ]
    }
   ],
   "source": [
    "df.info()"
   ]
  },
  {
   "cell_type": "markdown",
   "metadata": {},
   "source": [
    "check for duplicated data. (if there is)"
   ]
  },
  {
   "cell_type": "code",
   "execution_count": 58,
   "metadata": {},
   "outputs": [],
   "source": [
    "df = df.drop_duplicates(keep='first')"
   ]
  },
  {
   "cell_type": "markdown",
   "metadata": {},
   "source": [
    "Lets remove entries with 'None' data."
   ]
  },
  {
   "cell_type": "markdown",
   "metadata": {},
   "source": [
    "'add some' is a placeholder of shows without a known studio. <br>\n",
    "'Unknown'"
   ]
  },
  {
   "cell_type": "code",
   "execution_count": 59,
   "metadata": {},
   "outputs": [],
   "source": [
    "no_studio = df[df['Studios'].str.contains('add some')]\n",
    "df = pd.concat([df, no_studio])\n",
    "df = df.drop_duplicates(keep=False)"
   ]
  },
  {
   "cell_type": "code",
   "execution_count": 60,
   "metadata": {},
   "outputs": [],
   "source": [
    "no_source = df[df['Source Type'].str.contains('Unknown')]\n",
    "df = pd.concat([df, no_source])\n",
    "df = df.drop_duplicates(keep=False)"
   ]
  },
  {
   "cell_type": "code",
   "execution_count": 61,
   "metadata": {},
   "outputs": [],
   "source": [
    "no_genre = df[df['Genres'] == 'N\\A']\n",
    "df = pd.concat([df, no_genre])\n",
    "df = df.drop_duplicates(keep=False)"
   ]
  },
  {
   "cell_type": "markdown",
   "metadata": {},
   "source": [
    "colums"
   ]
  },
  {
   "cell_type": "code",
   "execution_count": 62,
   "metadata": {},
   "outputs": [],
   "source": [
    "from empiricaldist import Pmf, Cdf"
   ]
  },
  {
   "cell_type": "code",
   "execution_count": 63,
   "metadata": {},
   "outputs": [
    {
     "data": {
      "text/plain": [
       "\"column_list = ['Title', 'MAL Id', 'Type', 'Episode Duration', 'Studios', 'Source Type', 'Genres', 'Themes', 'Rating']\\n\\nfor col in column_list:\\n  pmf_data = Pmf.from_seq(df[col], normalize=True)\\n  pmf_data = pd.DataFrame({col:pmf_data.index, 'pmf':pmf_data.values})\\n  pmf_data.set_index(col, inplace=True)\\n  display(pmf_data.style.background_gradient(vmin=0, subset='pmf'))\""
      ]
     },
     "execution_count": 63,
     "metadata": {},
     "output_type": "execute_result"
    }
   ],
   "source": [
    "\"\"\"column_list = ['Title', 'MAL Id', 'Type', 'Episode Duration', 'Studios', 'Source Type', 'Genres', 'Themes', 'Rating']\n",
    "\n",
    "for col in column_list:\n",
    "  pmf_data = Pmf.from_seq(df[col], normalize=True)\n",
    "  pmf_data = pd.DataFrame({col:pmf_data.index, 'pmf':pmf_data.values})\n",
    "  pmf_data.set_index(col, inplace=True)\n",
    "  display(pmf_data.style.background_gradient(vmin=0, subset='pmf'))\"\"\""
   ]
  },
  {
   "cell_type": "markdown",
   "metadata": {},
   "source": [
    "charts"
   ]
  },
  {
   "cell_type": "code",
   "execution_count": 64,
   "metadata": {},
   "outputs": [
    {
     "data": {
      "text/plain": [
       "<AxesSubplot:title={'center':'Studio and the Number of Published Anime'}>"
      ]
     },
     "execution_count": 64,
     "metadata": {},
     "output_type": "execute_result"
    },
    {
     "data": {
      "image/png": "[encoded data removed]",
      "text/plain": [
       "<Figure size 432x288 with 1 Axes>"
      ]
     },
     "metadata": {
      "needs_background": "light"
     },
     "output_type": "display_data"
    }
   ],
   "source": [
    "#MAKE MEDIAN STUDIO POPULARITY\n",
    "#MAKE CHART\n",
    "\n",
    "import matplotlib.pyplot as plt \n",
    "\n",
    "plt.title('Studio and the Number of Published Anime')\n",
    "studio_appearances = df.Studios.value_counts()\n",
    "studio_appearances[studio_appearances > 10].plot(kind = 'bar')"
   ]
  },
  {
   "cell_type": "markdown",
   "metadata": {},
   "source": [
    "charts"
   ]
  },
  {
   "cell_type": "code",
   "execution_count": 65,
   "metadata": {},
   "outputs": [
    {
     "data": {
      "text/plain": [
       "<AxesSubplot:title={'center':'Genres and the Number of Published Anime'}>"
      ]
     },
     "execution_count": 65,
     "metadata": {},
     "output_type": "execute_result"
    },
    {
     "data": {
      "image/png": "[encoded data removed]",
      "text/plain": [
       "<Figure size 432x288 with 1 Axes>"
      ]
     },
     "metadata": {
      "needs_background": "light"
     },
     "output_type": "display_data"
    }
   ],
   "source": [
    "\n",
    "#cut genres\n",
    "#median genre popularity\n",
    "#make chart of genre vs populrity\n",
    "\n",
    "\n",
    "plt.title('Genres and the Number of Published Anime')\n",
    "genre_appearances = df.Genres.value_counts()\n",
    "genre_appearances[genre_appearances > 20].plot(kind = 'bar')"
   ]
  },
  {
   "cell_type": "markdown",
   "metadata": {},
   "source": [
    "find if studio made sequal"
   ]
  },
  {
   "cell_type": "code",
   "execution_count": 66,
   "metadata": {},
   "outputs": [],
   "source": [
    "#check if sequal."
   ]
  },
  {
   "cell_type": "code",
   "execution_count": 67,
   "metadata": {},
   "outputs": [
    {
     "data": {
      "text/plain": [
       "<AxesSubplot:title={'center':'How many times each popularity appears modul 5000'}, xlabel='Popularity'>"
      ]
     },
     "execution_count": 67,
     "metadata": {},
     "output_type": "execute_result"
    },
    {
     "data": {
      "image/png": "[encoded data removed]",
      "text/plain": [
       "<Figure size 432x288 with 1 Axes>"
      ]
     },
     "metadata": {
      "needs_background": "light"
     },
     "output_type": "display_data"
    }
   ],
   "source": [
    "plt.title('How many times each popularity appears modul 5000')\n",
    "df_popularity = df[['Popularity']].apply(lambda x: (x-(x%5000)))\n",
    "df_popularity\n",
    "\n",
    "df_popularity_count = df_popularity.value_counts()\n",
    "df_popularity_count.plot(kind = 'bar')\n"
   ]
  },
  {
   "cell_type": "code",
   "execution_count": 68,
   "metadata": {},
   "outputs": [
    {
     "data": {
      "text/plain": [
       "<AxesSubplot:title={'center':'Source and the Number of Published Anime'}>"
      ]
     },
     "execution_count": 68,
     "metadata": {},
     "output_type": "execute_result"
    },
    {
     "data": {
      "image/png": "[encoded data removed]",
      "text/plain": [
       "<Figure size 432x288 with 1 Axes>"
      ]
     },
     "metadata": {
      "needs_background": "light"
     },
     "output_type": "display_data"
    }
   ],
   "source": [
    "plt.title('Source and the Number of Published Anime')\n",
    "source_appearances = df['Source Type'].value_counts()\n",
    "source_appearances[source_appearances>10].plot(kind = 'bar')"
   ]
  },
  {
   "cell_type": "code",
   "execution_count": 69,
   "metadata": {},
   "outputs": [
    {
     "data": {
      "text/html": [
       "<div>\n",
       "<style scoped>\n",
       "    .dataframe tbody tr th:only-of-type {\n",
       "        vertical-align: middle;\n",
       "    }\n",
       "\n",
       "    .dataframe tbody tr th {\n",
       "        vertical-align: top;\n",
       "    }\n",
       "\n",
       "    .dataframe thead th {\n",
       "        text-align: right;\n",
       "    }\n",
       "</style>\n",
       "<table border=\"1\" class=\"dataframe\">\n",
       "  <thead>\n",
       "    <tr style=\"text-align: right;\">\n",
       "      <th></th>\n",
       "      <th>Title</th>\n",
       "      <th>MAL Id</th>\n",
       "      <th>Type</th>\n",
       "      <th>Episode Duration</th>\n",
       "      <th>Studios</th>\n",
       "      <th>Source Type</th>\n",
       "      <th>Genres</th>\n",
       "      <th>Themes</th>\n",
       "      <th>Rating</th>\n",
       "      <th>Popularity</th>\n",
       "      <th>Score</th>\n",
       "    </tr>\n",
       "  </thead>\n",
       "  <tbody>\n",
       "    <tr>\n",
       "      <th>18703</th>\n",
       "      <td>Wo Jiao Bai Xiaofei</td>\n",
       "      <td>33357</td>\n",
       "      <td>ONA</td>\n",
       "      <td>11 min. per ep.</td>\n",
       "      <td>['Haoliners Animation League']</td>\n",
       "      <td>Web</td>\n",
       "      <td>['Action', 'Comedy', 'Horror']</td>\n",
       "      <td>N\\A</td>\n",
       "      <td>PG-13 - Teens 13 or older</td>\n",
       "      <td>10627</td>\n",
       "      <td>6.15</td>\n",
       "    </tr>\n",
       "    <tr>\n",
       "      <th>30234</th>\n",
       "      <td>Da Yu Hai Tang</td>\n",
       "      <td>39264</td>\n",
       "      <td>ONA</td>\n",
       "      <td>7 min.</td>\n",
       "      <td>['B&amp;T']</td>\n",
       "      <td>Original</td>\n",
       "      <td>['Adventure', 'Drama', 'Romance', 'Supernatural']</td>\n",
       "      <td>N\\A</td>\n",
       "      <td>G - All Ages</td>\n",
       "      <td>11070</td>\n",
       "      <td>6.07</td>\n",
       "    </tr>\n",
       "    <tr>\n",
       "      <th>10926</th>\n",
       "      <td>Umi no Yami, Tsuki no Kage</td>\n",
       "      <td>4484</td>\n",
       "      <td>OVA</td>\n",
       "      <td>30 min. per ep.</td>\n",
       "      <td>['Magic Bus']</td>\n",
       "      <td>Manga</td>\n",
       "      <td>['Drama', 'Horror', 'Romance']</td>\n",
       "      <td>N\\A</td>\n",
       "      <td>R - 17+ (violence &amp; profanity)</td>\n",
       "      <td>10197</td>\n",
       "      <td>5.84</td>\n",
       "    </tr>\n",
       "    <tr>\n",
       "      <th>41967</th>\n",
       "      <td>Majokko Club Yoningumi: A Kuukan kara no Alien X</td>\n",
       "      <td>2080</td>\n",
       "      <td>OVA</td>\n",
       "      <td>27 min.</td>\n",
       "      <td>['Studio Pierrot']</td>\n",
       "      <td>Original</td>\n",
       "      <td>['Action', 'Comedy', 'Sci-Fi']</td>\n",
       "      <td>N\\A</td>\n",
       "      <td>PG-13 - Teens 13 or older</td>\n",
       "      <td>11149</td>\n",
       "      <td>5.71</td>\n",
       "    </tr>\n",
       "    <tr>\n",
       "      <th>36146</th>\n",
       "      <td>Bouken Yuuki Pluster World</td>\n",
       "      <td>3637</td>\n",
       "      <td>TV</td>\n",
       "      <td>24 min. per ep.</td>\n",
       "      <td>['Actas', \"Brain's Base\"]</td>\n",
       "      <td>Original</td>\n",
       "      <td>['Action', 'Adventure', 'Sci-Fi']</td>\n",
       "      <td>N\\A</td>\n",
       "      <td>G - All Ages</td>\n",
       "      <td>11705</td>\n",
       "      <td>6.08</td>\n",
       "    </tr>\n",
       "    <tr>\n",
       "      <th>...</th>\n",
       "      <td>...</td>\n",
       "      <td>...</td>\n",
       "      <td>...</td>\n",
       "      <td>...</td>\n",
       "      <td>...</td>\n",
       "      <td>...</td>\n",
       "      <td>...</td>\n",
       "      <td>...</td>\n",
       "      <td>...</td>\n",
       "      <td>...</td>\n",
       "      <td>...</td>\n",
       "    </tr>\n",
       "    <tr>\n",
       "      <th>13119</th>\n",
       "      <td>Tales of the Rays Gekijou</td>\n",
       "      <td>36955</td>\n",
       "      <td>ONA</td>\n",
       "      <td>3 min. per ep.</td>\n",
       "      <td>['Bandai Namco Pictures']</td>\n",
       "      <td>Game</td>\n",
       "      <td>['Comedy', 'Fantasy']</td>\n",
       "      <td>N\\A</td>\n",
       "      <td>PG-13 - Teens 13 or older</td>\n",
       "      <td>10628</td>\n",
       "      <td>6.19</td>\n",
       "    </tr>\n",
       "    <tr>\n",
       "      <th>11307</th>\n",
       "      <td>Soliton no Akuma</td>\n",
       "      <td>10718</td>\n",
       "      <td>Movie</td>\n",
       "      <td>1 hr. 30 min.</td>\n",
       "      <td>['Triangle Staff']</td>\n",
       "      <td>Novel</td>\n",
       "      <td>['Drama', 'Sci-Fi']</td>\n",
       "      <td>N\\A</td>\n",
       "      <td>R - 17+ (violence &amp; profanity)</td>\n",
       "      <td>11656</td>\n",
       "      <td>5.96</td>\n",
       "    </tr>\n",
       "    <tr>\n",
       "      <th>37396</th>\n",
       "      <td>Gall Force: The Revolution</td>\n",
       "      <td>2066</td>\n",
       "      <td>OVA</td>\n",
       "      <td>30 min. per ep.</td>\n",
       "      <td>['AIC']</td>\n",
       "      <td>Original</td>\n",
       "      <td>['Action', 'Adventure', 'Sci-Fi']</td>\n",
       "      <td>['Mecha', 'Military', 'Space']</td>\n",
       "      <td>R+ - Mild Nudity</td>\n",
       "      <td>10173</td>\n",
       "      <td>5.92</td>\n",
       "    </tr>\n",
       "    <tr>\n",
       "      <th>4146</th>\n",
       "      <td>Yuukan Club</td>\n",
       "      <td>3778</td>\n",
       "      <td>OVA</td>\n",
       "      <td>35 min. per ep.</td>\n",
       "      <td>['Madhouse']</td>\n",
       "      <td>Manga</td>\n",
       "      <td>['Comedy', 'Mystery']</td>\n",
       "      <td>N\\A</td>\n",
       "      <td>PG-13 - Teens 13 or older</td>\n",
       "      <td>11628</td>\n",
       "      <td>5.82</td>\n",
       "    </tr>\n",
       "    <tr>\n",
       "      <th>33241</th>\n",
       "      <td>Chiisana Obake: Acchi, Kocchi, Socchi</td>\n",
       "      <td>310</td>\n",
       "      <td>TV</td>\n",
       "      <td>25 min. per ep.</td>\n",
       "      <td>['Studio Pierrot']</td>\n",
       "      <td>Picture</td>\n",
       "      <td>['Comedy', 'Supernatural']</td>\n",
       "      <td>N\\A</td>\n",
       "      <td>G - All Ages</td>\n",
       "      <td>10081</td>\n",
       "      <td>5.96</td>\n",
       "    </tr>\n",
       "  </tbody>\n",
       "</table>\n",
       "<p>246 rows × 11 columns</p>\n",
       "</div>"
      ],
      "text/plain": [
       "                                                  Title  MAL Id   Type  \\\n",
       "18703                               Wo Jiao Bai Xiaofei   33357    ONA   \n",
       "30234                                    Da Yu Hai Tang   39264    ONA   \n",
       "10926                        Umi no Yami, Tsuki no Kage    4484    OVA   \n",
       "41967  Majokko Club Yoningumi: A Kuukan kara no Alien X    2080    OVA   \n",
       "36146                        Bouken Yuuki Pluster World    3637     TV   \n",
       "...                                                 ...     ...    ...   \n",
       "13119                         Tales of the Rays Gekijou   36955    ONA   \n",
       "11307                                  Soliton no Akuma   10718  Movie   \n",
       "37396                        Gall Force: The Revolution    2066    OVA   \n",
       "4146                                        Yuukan Club    3778    OVA   \n",
       "33241             Chiisana Obake: Acchi, Kocchi, Socchi     310     TV   \n",
       "\n",
       "      Episode Duration                         Studios Source Type  \\\n",
       "18703  11 min. per ep.  ['Haoliners Animation League']         Web   \n",
       "30234           7 min.                         ['B&T']    Original   \n",
       "10926  30 min. per ep.                   ['Magic Bus']       Manga   \n",
       "41967          27 min.              ['Studio Pierrot']    Original   \n",
       "36146  24 min. per ep.       ['Actas', \"Brain's Base\"]    Original   \n",
       "...                ...                             ...         ...   \n",
       "13119   3 min. per ep.       ['Bandai Namco Pictures']        Game   \n",
       "11307    1 hr. 30 min.              ['Triangle Staff']       Novel   \n",
       "37396  30 min. per ep.                         ['AIC']    Original   \n",
       "4146   35 min. per ep.                    ['Madhouse']       Manga   \n",
       "33241  25 min. per ep.              ['Studio Pierrot']     Picture   \n",
       "\n",
       "                                                  Genres  \\\n",
       "18703                     ['Action', 'Comedy', 'Horror']   \n",
       "30234  ['Adventure', 'Drama', 'Romance', 'Supernatural']   \n",
       "10926                     ['Drama', 'Horror', 'Romance']   \n",
       "41967                     ['Action', 'Comedy', 'Sci-Fi']   \n",
       "36146                  ['Action', 'Adventure', 'Sci-Fi']   \n",
       "...                                                  ...   \n",
       "13119                              ['Comedy', 'Fantasy']   \n",
       "11307                                ['Drama', 'Sci-Fi']   \n",
       "37396                  ['Action', 'Adventure', 'Sci-Fi']   \n",
       "4146                               ['Comedy', 'Mystery']   \n",
       "33241                         ['Comedy', 'Supernatural']   \n",
       "\n",
       "                               Themes                             Rating  \\\n",
       "18703                             N\\A        PG-13 - Teens 13 or older     \n",
       "30234                             N\\A                     G - All Ages     \n",
       "10926                             N\\A   R - 17+ (violence & profanity)     \n",
       "41967                             N\\A        PG-13 - Teens 13 or older     \n",
       "36146                             N\\A                     G - All Ages     \n",
       "...                               ...                                ...   \n",
       "13119                             N\\A        PG-13 - Teens 13 or older     \n",
       "11307                             N\\A   R - 17+ (violence & profanity)     \n",
       "37396  ['Mecha', 'Military', 'Space']                 R+ - Mild Nudity     \n",
       "4146                              N\\A        PG-13 - Teens 13 or older     \n",
       "33241                             N\\A                     G - All Ages     \n",
       "\n",
       "       Popularity  Score  \n",
       "18703       10627   6.15  \n",
       "30234       11070   6.07  \n",
       "10926       10197   5.84  \n",
       "41967       11149   5.71  \n",
       "36146       11705   6.08  \n",
       "...           ...    ...  \n",
       "13119       10628   6.19  \n",
       "11307       11656   5.96  \n",
       "37396       10173   5.92  \n",
       "4146        11628   5.82  \n",
       "33241       10081   5.96  \n",
       "\n",
       "[246 rows x 11 columns]"
      ]
     },
     "execution_count": 69,
     "metadata": {},
     "output_type": "execute_result"
    }
   ],
   "source": [
    "df_highpop = df[df['Popularity']>10000]\n",
    "df_highpop"
   ]
  },
  {
   "cell_type": "code",
   "execution_count": 70,
   "metadata": {},
   "outputs": [
    {
     "data": {
      "text/plain": [
       "<AxesSubplot:title={'center':'Source and the Number of Published Anime for High Popularity Anime'}>"
      ]
     },
     "execution_count": 70,
     "metadata": {},
     "output_type": "execute_result"
    },
    {
     "data": {
      "image/png": "[encoded data removed]",
      "text/plain": [
       "<Figure size 432x288 with 1 Axes>"
      ]
     },
     "metadata": {
      "needs_background": "light"
     },
     "output_type": "display_data"
    }
   ],
   "source": [
    "plt.title('Source and the Number of Published Anime for High Popularity Anime')\n",
    "source_appearances = df_highpop['Source Type'].value_counts()\n",
    "source_appearances[source_appearances>10].plot(kind = 'bar')"
   ]
  }
 ],
 "metadata": {
  "interpreter": {
   "hash": "13427881f06f13311079f5221e5dd632fdf9146891f6da22d47a93dcb9272d3a"
  },
  "kernelspec": {
   "display_name": "Python 3.9.7 ('base')",
   "language": "python",
   "name": "python3"
  },
  "language_info": {
   "codemirror_mode": {
    "name": "ipython",
    "version": 3
   },
   "file_extension": ".py",
   "mimetype": "text/x-python",
   "name": "python",
   "nbconvert_exporter": "python",
   "pygments_lexer": "ipython3",
   "version": "3.10.1"
  },
  "orig_nbformat": 4
 },
 "nbformat": 4,
 "nbformat_minor": 2
}

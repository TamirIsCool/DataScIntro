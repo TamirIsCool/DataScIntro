{
 "cells": [
  {
   "cell_type": "markdown",
   "metadata": {},
   "source": [
    "### Prediction of scraped MyAnimeList Data ###"
   ]
  },
  {
   "cell_type": "markdown",
   "metadata": {},
   "source": [
    "Our goal in this project is to predict the popularity ranking of a supposed new show coming out using the basic information we would know about it before airing. <br>\n",
    "We scraped our data from the side MyAnimeList (MAL for short). Link: https://myanimelist.net <br>\n",
    "Example page from which we extracted data: (Attack on Titan) https://myanimelist.net/anime/16498"
   ]
  },
  {
   "cell_type": "markdown",
   "metadata": {},
   "source": [
    "Importing 'numpy', 'pandas' and 'seaborn' for data management and visualization. "
   ]
  },
  {
   "cell_type": "code",
   "execution_count": 2845,
   "metadata": {},
   "outputs": [],
   "source": [
    "import numpy as np\n",
    "import pandas as pd\n",
    "import seaborn as sns"
   ]
  },
  {
   "cell_type": "markdown",
   "metadata": {},
   "source": [
    "Prevent redundant warnings from pandas."
   ]
  },
  {
   "cell_type": "code",
   "execution_count": 2846,
   "metadata": {},
   "outputs": [],
   "source": [
    "import warnings\n",
    "warnings.filterwarnings('ignore')"
   ]
  },
  {
   "cell_type": "markdown",
   "metadata": {},
   "source": [
    "Reading the scraped data. The columns given regarding a show:\n",
    " - Title.\n",
    " - MAL Id. This method's input, its returned for convenience.\n",
    " - Type. For example: 'Movie', 'TV', ect.\n",
    " - Episode's duration. For example: '23 min', '2 hour', ect.\n",
    " - Publishing animation studio.\n",
    " - Source type. For example: 'Manga', 'Visual' (short for Visual Novel), ect.\n",
    " - Genres. For example: 'Fantasy', 'Romance', 'Action', etc.\n",
    " - Themes. For example: 'Military', 'Apocalypse', etc.\n",
    " - Rating. For example: 'PG-13'.\n",
    " - Popularity. Popularity ranking, lower is better.\n",
    " - Score. x out of 10, given by MAL user.\n",
    " - Year. Release year. For example: '2022'.\n",
    " - Number of Episodes. For example: '24'.\n",
    " - Demographic. Intended demographic. For example: 'shonen' (meaning young boys)."
   ]
  },
  {
   "cell_type": "markdown",
   "metadata": {},
   "source": [
    "<b> Important Notes: </b> (TL;DR)\n",
    "* Anime with lower Popularity means it was ranked lower, hence it means that the anime was viewed by more people.\n",
    "* During our analysis and model training we won't be using the given Score of an anime to avoid data leakage as a popular anime is more likely to have a better score."
   ]
  },
  {
   "cell_type": "code",
   "execution_count": 2847,
   "metadata": {},
   "outputs": [
    {
     "data": {
      "text/html": [
       "<div>\n",
       "<style scoped>\n",
       "    .dataframe tbody tr th:only-of-type {\n",
       "        vertical-align: middle;\n",
       "    }\n",
       "\n",
       "    .dataframe tbody tr th {\n",
       "        vertical-align: top;\n",
       "    }\n",
       "\n",
       "    .dataframe thead th {\n",
       "        text-align: right;\n",
       "    }\n",
       "</style>\n",
       "<table border=\"1\" class=\"dataframe\">\n",
       "  <thead>\n",
       "    <tr style=\"text-align: right;\">\n",
       "      <th></th>\n",
       "      <th>Unnamed: 0</th>\n",
       "      <th>Title</th>\n",
       "      <th>MAL Id</th>\n",
       "      <th>Type</th>\n",
       "      <th>Number of Episodes</th>\n",
       "      <th>Episode Duration</th>\n",
       "      <th>Studios</th>\n",
       "      <th>Source Type</th>\n",
       "      <th>Genres</th>\n",
       "      <th>Themes</th>\n",
       "      <th>Rating</th>\n",
       "      <th>Popularity</th>\n",
       "      <th>Score</th>\n",
       "      <th>Demographic</th>\n",
       "      <th>Year</th>\n",
       "    </tr>\n",
       "  </thead>\n",
       "  <tbody>\n",
       "    <tr>\n",
       "      <th>0</th>\n",
       "      <td>0</td>\n",
       "      <td>Fullmetal Alchemist: Brotherhood</td>\n",
       "      <td>5114</td>\n",
       "      <td>TV</td>\n",
       "      <td>64</td>\n",
       "      <td>24 min. per ep.</td>\n",
       "      <td>Bones</td>\n",
       "      <td>Manga</td>\n",
       "      <td>Action,Adventure,Comedy,Drama,Fantasy</td>\n",
       "      <td>N\\A</td>\n",
       "      <td>R - 17+ (violence &amp; profanity)</td>\n",
       "      <td>3</td>\n",
       "      <td>9.15</td>\n",
       "      <td>Shounen</td>\n",
       "      <td>2009</td>\n",
       "    </tr>\n",
       "    <tr>\n",
       "      <th>1</th>\n",
       "      <td>1</td>\n",
       "      <td>Shingeki no Kyojin: The Final Season Part 2</td>\n",
       "      <td>48583</td>\n",
       "      <td>TV</td>\n",
       "      <td>12</td>\n",
       "      <td>23 min. per ep.</td>\n",
       "      <td>MAPPA</td>\n",
       "      <td>Manga</td>\n",
       "      <td>Action,Drama,Fantasy,Mystery</td>\n",
       "      <td>Military,Super Power</td>\n",
       "      <td>R - 17+ (violence &amp; profanity)</td>\n",
       "      <td>220</td>\n",
       "      <td>9.15</td>\n",
       "      <td>Shounen</td>\n",
       "      <td>2022</td>\n",
       "    </tr>\n",
       "    <tr>\n",
       "      <th>2</th>\n",
       "      <td>2</td>\n",
       "      <td>Steins;Gate</td>\n",
       "      <td>9253</td>\n",
       "      <td>TV</td>\n",
       "      <td>24</td>\n",
       "      <td>24 min. per ep.</td>\n",
       "      <td>White Fox</td>\n",
       "      <td>Visual</td>\n",
       "      <td>Drama,Sci-Fi,Suspense</td>\n",
       "      <td>N\\A</td>\n",
       "      <td>PG-13 - Teens 13 or older</td>\n",
       "      <td>13</td>\n",
       "      <td>9.09</td>\n",
       "      <td>N\\A</td>\n",
       "      <td>2011</td>\n",
       "    </tr>\n",
       "    <tr>\n",
       "      <th>3</th>\n",
       "      <td>3</td>\n",
       "      <td>Gintama°</td>\n",
       "      <td>28977</td>\n",
       "      <td>TV</td>\n",
       "      <td>51</td>\n",
       "      <td>24 min. per ep.</td>\n",
       "      <td>Bandai Namco Pictures</td>\n",
       "      <td>Manga</td>\n",
       "      <td>Action,Comedy,Sci-Fi</td>\n",
       "      <td>Historical,Parody,Samurai</td>\n",
       "      <td>PG-13 - Teens 13 or older</td>\n",
       "      <td>335</td>\n",
       "      <td>9.09</td>\n",
       "      <td>Shounen</td>\n",
       "      <td>2015</td>\n",
       "    </tr>\n",
       "    <tr>\n",
       "      <th>4</th>\n",
       "      <td>4</td>\n",
       "      <td>Shingeki no Kyojin Season 3 Part 2</td>\n",
       "      <td>38524</td>\n",
       "      <td>TV</td>\n",
       "      <td>10</td>\n",
       "      <td>23 min. per ep.</td>\n",
       "      <td>Wit Studio</td>\n",
       "      <td>Manga</td>\n",
       "      <td>Action,Drama,Fantasy,Mystery</td>\n",
       "      <td>Military,Super Power</td>\n",
       "      <td>R - 17+ (violence &amp; profanity)</td>\n",
       "      <td>32</td>\n",
       "      <td>9.08</td>\n",
       "      <td>Shounen</td>\n",
       "      <td>2019</td>\n",
       "    </tr>\n",
       "    <tr>\n",
       "      <th>5</th>\n",
       "      <td>5</td>\n",
       "      <td>Fruits Basket: The Final</td>\n",
       "      <td>42938</td>\n",
       "      <td>TV</td>\n",
       "      <td>13</td>\n",
       "      <td>23 min. per ep.</td>\n",
       "      <td>TMS Entertainment</td>\n",
       "      <td>Manga</td>\n",
       "      <td>Drama,Romance,Slice of Life,Supernatural</td>\n",
       "      <td>N\\A</td>\n",
       "      <td>PG-13 - Teens 13 or older</td>\n",
       "      <td>626</td>\n",
       "      <td>9.06</td>\n",
       "      <td>Shoujo</td>\n",
       "      <td>2021</td>\n",
       "    </tr>\n",
       "    <tr>\n",
       "      <th>6</th>\n",
       "      <td>6</td>\n",
       "      <td>Gintama'</td>\n",
       "      <td>9969</td>\n",
       "      <td>TV</td>\n",
       "      <td>51</td>\n",
       "      <td>24 min. per ep.</td>\n",
       "      <td>Sunrise</td>\n",
       "      <td>Manga</td>\n",
       "      <td>Action,Comedy,Sci-Fi</td>\n",
       "      <td>Historical,Parody,Samurai</td>\n",
       "      <td>PG-13 - Teens 13 or older</td>\n",
       "      <td>380</td>\n",
       "      <td>9.06</td>\n",
       "      <td>Shounen</td>\n",
       "      <td>2011</td>\n",
       "    </tr>\n",
       "    <tr>\n",
       "      <th>7</th>\n",
       "      <td>7</td>\n",
       "      <td>Gintama: The Final</td>\n",
       "      <td>39486</td>\n",
       "      <td>Movie</td>\n",
       "      <td>1</td>\n",
       "      <td>1 hr. 44 min.</td>\n",
       "      <td>Bandai Namco Pictures</td>\n",
       "      <td>Manga</td>\n",
       "      <td>Action,Comedy,Drama,Sci-Fi</td>\n",
       "      <td>Historical,Parody,Samurai</td>\n",
       "      <td>PG-13 - Teens 13 or older</td>\n",
       "      <td>1798</td>\n",
       "      <td>9.05</td>\n",
       "      <td>Shounen</td>\n",
       "      <td>2021</td>\n",
       "    </tr>\n",
       "    <tr>\n",
       "      <th>8</th>\n",
       "      <td>8</td>\n",
       "      <td>Hunter x Hunter (2011)</td>\n",
       "      <td>11061</td>\n",
       "      <td>TV</td>\n",
       "      <td>148</td>\n",
       "      <td>23 min. per ep.</td>\n",
       "      <td>Madhouse</td>\n",
       "      <td>Manga</td>\n",
       "      <td>Action,Adventure,Fantasy</td>\n",
       "      <td>N\\A</td>\n",
       "      <td>PG-13 - Teens 13 or older</td>\n",
       "      <td>10</td>\n",
       "      <td>9.05</td>\n",
       "      <td>Shounen</td>\n",
       "      <td>2011</td>\n",
       "    </tr>\n",
       "    <tr>\n",
       "      <th>9</th>\n",
       "      <td>9</td>\n",
       "      <td>Gintama': Enchousen</td>\n",
       "      <td>15417</td>\n",
       "      <td>TV</td>\n",
       "      <td>13</td>\n",
       "      <td>24 min. per ep.</td>\n",
       "      <td>Sunrise</td>\n",
       "      <td>Manga</td>\n",
       "      <td>Action,Comedy,Sci-Fi</td>\n",
       "      <td>Historical,Parody,Samurai</td>\n",
       "      <td>PG-13 - Teens 13 or older</td>\n",
       "      <td>683</td>\n",
       "      <td>9.04</td>\n",
       "      <td>Shounen</td>\n",
       "      <td>2012</td>\n",
       "    </tr>\n",
       "  </tbody>\n",
       "</table>\n",
       "</div>"
      ],
      "text/plain": [
       "   Unnamed: 0                                        Title  MAL Id   Type  \\\n",
       "0           0             Fullmetal Alchemist: Brotherhood    5114     TV   \n",
       "1           1  Shingeki no Kyojin: The Final Season Part 2   48583     TV   \n",
       "2           2                                  Steins;Gate    9253     TV   \n",
       "3           3                                     Gintama°   28977     TV   \n",
       "4           4           Shingeki no Kyojin Season 3 Part 2   38524     TV   \n",
       "5           5                     Fruits Basket: The Final   42938     TV   \n",
       "6           6                                     Gintama'    9969     TV   \n",
       "7           7                           Gintama: The Final   39486  Movie   \n",
       "8           8                       Hunter x Hunter (2011)   11061     TV   \n",
       "9           9                          Gintama': Enchousen   15417     TV   \n",
       "\n",
       "  Number of Episodes Episode Duration                Studios Source Type  \\\n",
       "0                 64  24 min. per ep.                  Bones       Manga   \n",
       "1                 12  23 min. per ep.                  MAPPA       Manga   \n",
       "2                 24  24 min. per ep.              White Fox      Visual   \n",
       "3                 51  24 min. per ep.  Bandai Namco Pictures       Manga   \n",
       "4                 10  23 min. per ep.             Wit Studio       Manga   \n",
       "5                 13  23 min. per ep.      TMS Entertainment       Manga   \n",
       "6                 51  24 min. per ep.                Sunrise       Manga   \n",
       "7                  1    1 hr. 44 min.  Bandai Namco Pictures       Manga   \n",
       "8                148  23 min. per ep.               Madhouse       Manga   \n",
       "9                 13  24 min. per ep.                Sunrise       Manga   \n",
       "\n",
       "                                     Genres                     Themes  \\\n",
       "0     Action,Adventure,Comedy,Drama,Fantasy                        N\\A   \n",
       "1              Action,Drama,Fantasy,Mystery       Military,Super Power   \n",
       "2                     Drama,Sci-Fi,Suspense                        N\\A   \n",
       "3                      Action,Comedy,Sci-Fi  Historical,Parody,Samurai   \n",
       "4              Action,Drama,Fantasy,Mystery       Military,Super Power   \n",
       "5  Drama,Romance,Slice of Life,Supernatural                        N\\A   \n",
       "6                      Action,Comedy,Sci-Fi  Historical,Parody,Samurai   \n",
       "7                Action,Comedy,Drama,Sci-Fi  Historical,Parody,Samurai   \n",
       "8                  Action,Adventure,Fantasy                        N\\A   \n",
       "9                      Action,Comedy,Sci-Fi  Historical,Parody,Samurai   \n",
       "\n",
       "                              Rating  Popularity  Score Demographic  Year  \n",
       "0   R - 17+ (violence & profanity)             3   9.15     Shounen  2009  \n",
       "1   R - 17+ (violence & profanity)           220   9.15     Shounen  2022  \n",
       "2        PG-13 - Teens 13 or older            13   9.09         N\\A  2011  \n",
       "3        PG-13 - Teens 13 or older           335   9.09     Shounen  2015  \n",
       "4   R - 17+ (violence & profanity)            32   9.08     Shounen  2019  \n",
       "5        PG-13 - Teens 13 or older           626   9.06      Shoujo  2021  \n",
       "6        PG-13 - Teens 13 or older           380   9.06     Shounen  2011  \n",
       "7        PG-13 - Teens 13 or older          1798   9.05     Shounen  2021  \n",
       "8        PG-13 - Teens 13 or older            10   9.05     Shounen  2011  \n",
       "9        PG-13 - Teens 13 or older           683   9.04     Shounen  2012  "
      ]
     },
     "execution_count": 2847,
     "metadata": {},
     "output_type": "execute_result"
    }
   ],
   "source": [
    "df = pd.read_csv(\"anime_df_raw.csv\", sep=';')\n",
    "df.head(10)"
   ]
  },
  {
   "cell_type": "markdown",
   "metadata": {},
   "source": [
    "Delete null information. (if exists)"
   ]
  },
  {
   "cell_type": "code",
   "execution_count": 2848,
   "metadata": {},
   "outputs": [
    {
     "data": {
      "text/html": [
       "<div>\n",
       "<style scoped>\n",
       "    .dataframe tbody tr th:only-of-type {\n",
       "        vertical-align: middle;\n",
       "    }\n",
       "\n",
       "    .dataframe tbody tr th {\n",
       "        vertical-align: top;\n",
       "    }\n",
       "\n",
       "    .dataframe thead th {\n",
       "        text-align: right;\n",
       "    }\n",
       "</style>\n",
       "<table border=\"1\" class=\"dataframe\">\n",
       "  <thead>\n",
       "    <tr style=\"text-align: right;\">\n",
       "      <th></th>\n",
       "      <th>Unnamed: 0</th>\n",
       "      <th>Title</th>\n",
       "      <th>MAL Id</th>\n",
       "      <th>Type</th>\n",
       "      <th>Number of Episodes</th>\n",
       "      <th>Episode Duration</th>\n",
       "      <th>Studios</th>\n",
       "      <th>Source Type</th>\n",
       "      <th>Genres</th>\n",
       "      <th>Themes</th>\n",
       "      <th>Rating</th>\n",
       "      <th>Popularity</th>\n",
       "      <th>Score</th>\n",
       "      <th>Demographic</th>\n",
       "      <th>Year</th>\n",
       "    </tr>\n",
       "  </thead>\n",
       "  <tbody>\n",
       "    <tr>\n",
       "      <th>total null</th>\n",
       "      <td>0</td>\n",
       "      <td>0</td>\n",
       "      <td>0</td>\n",
       "      <td>0</td>\n",
       "      <td>0</td>\n",
       "      <td>0</td>\n",
       "      <td>0</td>\n",
       "      <td>0</td>\n",
       "      <td>0</td>\n",
       "      <td>0</td>\n",
       "      <td>0</td>\n",
       "      <td>0</td>\n",
       "      <td>0</td>\n",
       "      <td>0</td>\n",
       "      <td>204</td>\n",
       "    </tr>\n",
       "  </tbody>\n",
       "</table>\n",
       "</div>"
      ],
      "text/plain": [
       "            Unnamed: 0  Title  MAL Id  Type  Number of Episodes  \\\n",
       "total null           0      0       0     0                   0   \n",
       "\n",
       "            Episode Duration  Studios  Source Type  Genres  Themes  Rating  \\\n",
       "total null                 0        0            0       0       0       0   \n",
       "\n",
       "            Popularity  Score  Demographic  Year  \n",
       "total null           0      0            0   204  "
      ]
     },
     "execution_count": 2848,
     "metadata": {},
     "output_type": "execute_result"
    }
   ],
   "source": [
    "data_null_total = pd.DataFrame(df.isna().sum()).T.rename({0:'total null'})\n",
    "data_null_total"
   ]
  },
  {
   "cell_type": "markdown",
   "metadata": {},
   "source": [
    "Check for duplicated data entries."
   ]
  },
  {
   "cell_type": "code",
   "execution_count": 2849,
   "metadata": {},
   "outputs": [],
   "source": [
    "df = df.drop_duplicates(keep='first')"
   ]
  },
  {
   "cell_type": "markdown",
   "metadata": {},
   "source": [
    "Lets remove entries with 'None' data:\n",
    " - 'add some' is a placeholder of shows without a known studio.\n",
    " - 'Unknown' source type.\n",
    " - All shows without listed genres.\n",
    " - All shows without a release year."
   ]
  },
  {
   "cell_type": "code",
   "execution_count": 2850,
   "metadata": {},
   "outputs": [
    {
     "name": "stdout",
     "output_type": "stream",
     "text": [
      "Removed 1163 entries.\n"
     ]
    }
   ],
   "source": [
    "no_studio = df[df['Studios'].str.contains('add some')]\n",
    "df = pd.concat([df, no_studio])\n",
    "df = df.drop_duplicates(keep=False)\n",
    "\n",
    "print( 'Removed {} entries.'.format(len(no_studio.index)) )"
   ]
  },
  {
   "cell_type": "code",
   "execution_count": 2851,
   "metadata": {},
   "outputs": [
    {
     "name": "stdout",
     "output_type": "stream",
     "text": [
      "Removed 853 entries.\n"
     ]
    }
   ],
   "source": [
    "no_source = df[df['Source Type'].str.contains('Unknown')]\n",
    "df = pd.concat([df, no_source])\n",
    "df = df.drop_duplicates(keep=False)\n",
    "\n",
    "print( 'Removed {} entries.'.format(len(no_source.index)) )"
   ]
  },
  {
   "cell_type": "code",
   "execution_count": 2852,
   "metadata": {},
   "outputs": [
    {
     "name": "stdout",
     "output_type": "stream",
     "text": [
      "Removed 1548 entries.\n"
     ]
    }
   ],
   "source": [
    "no_genre = df[df['Genres'] == 'N\\A']\n",
    "df = pd.concat([df, no_genre])\n",
    "df = df.drop_duplicates(keep=False)\n",
    "\n",
    "print( 'Removed {} entries.'.format(len(no_genre.index)) )"
   ]
  },
  {
   "cell_type": "code",
   "execution_count": 2853,
   "metadata": {},
   "outputs": [
    {
     "name": "stdout",
     "output_type": "stream",
     "text": [
      "Removed 24 entries.\n"
     ]
    }
   ],
   "source": [
    "no_ep_num = df[df['Number of Episodes'] == 'Unknown']\n",
    "df = pd.concat([df, no_ep_num])\n",
    "df = df.drop_duplicates(keep=False)\n",
    "\n",
    "print( 'Removed {} entries.'.format(len(no_ep_num.index)) )"
   ]
  },
  {
   "cell_type": "code",
   "execution_count": 2854,
   "metadata": {},
   "outputs": [
    {
     "name": "stdout",
     "output_type": "stream",
     "text": [
      "Removed 41 entries.\n"
     ]
    }
   ],
   "source": [
    "clean_df = df[pd.to_numeric(df['Year'], errors='coerce').notnull()]\n",
    "\n",
    "print( 'Removed {} entries.'.format(len(df.index) - len(clean_df.index)) )\n",
    "df = clean_df"
   ]
  },
  {
   "cell_type": "code",
   "execution_count": 2855,
   "metadata": {},
   "outputs": [
    {
     "name": "stdout",
     "output_type": "stream",
     "text": [
      "<class 'pandas.core.frame.DataFrame'>\n",
      "Int64Index: 5868 entries, 0 to 9492\n",
      "Data columns (total 15 columns):\n",
      " #   Column              Non-Null Count  Dtype  \n",
      "---  ------              --------------  -----  \n",
      " 0   Unnamed: 0          5868 non-null   int64  \n",
      " 1   Title               5868 non-null   object \n",
      " 2   MAL Id              5868 non-null   int64  \n",
      " 3   Type                5868 non-null   object \n",
      " 4   Number of Episodes  5868 non-null   object \n",
      " 5   Episode Duration    5868 non-null   object \n",
      " 6   Studios             5868 non-null   object \n",
      " 7   Source Type         5868 non-null   object \n",
      " 8   Genres              5868 non-null   object \n",
      " 9   Themes              5868 non-null   object \n",
      " 10  Rating              5868 non-null   object \n",
      " 11  Popularity          5868 non-null   int64  \n",
      " 12  Score               5868 non-null   float64\n",
      " 13  Demographic         5868 non-null   object \n",
      " 14  Year                5868 non-null   object \n",
      "dtypes: float64(1), int64(3), object(11)\n",
      "memory usage: 733.5+ KB\n"
     ]
    }
   ],
   "source": [
    "df.info()"
   ]
  },
  {
   "cell_type": "markdown",
   "metadata": {},
   "source": [
    "Lets parse the data that is still saved as a string so we can work with it."
   ]
  },
  {
   "cell_type": "markdown",
   "metadata": {},
   "source": [
    "Lets convert the Release year to 'int'."
   ]
  },
  {
   "cell_type": "code",
   "execution_count": 2856,
   "metadata": {},
   "outputs": [],
   "source": [
    "df['Year'] = df['Year'].astype(int)"
   ]
  },
  {
   "cell_type": "markdown",
   "metadata": {},
   "source": [
    "lets convert 'Number of Episodes' to an 'int."
   ]
  },
  {
   "cell_type": "code",
   "execution_count": 2857,
   "metadata": {},
   "outputs": [],
   "source": [
    "df['Number of Episodes'] = df['Number of Episodes'].astype(int)"
   ]
  },
  {
   "cell_type": "markdown",
   "metadata": {},
   "source": [
    "Parsing Episode Duration to 'int' minutes."
   ]
  },
  {
   "cell_type": "code",
   "execution_count": 2858,
   "metadata": {},
   "outputs": [],
   "source": [
    "def DurationToMin(duration_str):\n",
    "    duration_list = duration_str.split(' ')\n",
    "    duration = 0\n",
    "\n",
    "    i = 0\n",
    "    for word in duration_list:\n",
    "        if word == 'min.':\n",
    "            duration += int(duration_list[i-1])\n",
    "        elif word == 'hr.':\n",
    "            duration += 60*int(duration_list[i-1])\n",
    "        i += 1\n",
    "\n",
    "    return duration"
   ]
  },
  {
   "cell_type": "code",
   "execution_count": 2859,
   "metadata": {},
   "outputs": [],
   "source": [
    "df['Duration'] = df['Episode Duration'].apply(lambda x: DurationToMin(x))"
   ]
  },
  {
   "cell_type": "markdown",
   "metadata": {},
   "source": [
    "Lets remove shows with episode duration smaller than 1 minute."
   ]
  },
  {
   "cell_type": "code",
   "execution_count": 2860,
   "metadata": {},
   "outputs": [
    {
     "name": "stdout",
     "output_type": "stream",
     "text": [
      "Removed 16 entries.\n"
     ]
    }
   ],
   "source": [
    "no_duration = df[df['Duration'] == 0]\n",
    "df = pd.concat([df, no_duration])\n",
    "df = df.drop_duplicates(keep=False)\n",
    "\n",
    "print( 'Removed {} entries.'.format(len(no_duration.index)) )"
   ]
  },
  {
   "cell_type": "markdown",
   "metadata": {},
   "source": [
    "The models cannot accept string values hence we will create boolean values for each genre related to a show. We will convert the True/False value into 1/0 (respectively) for it to be numerical data."
   ]
  },
  {
   "cell_type": "code",
   "execution_count": 2861,
   "metadata": {},
   "outputs": [],
   "source": [
    "def GetAttributeList(column, dataframe, none_value):\n",
    "    attribute_list = []\n",
    "    for cell in dataframe[column]:\n",
    "        attributes = cell.split(',')\n",
    "        for attribute in attributes:\n",
    "            if attribute not in attribute_list and none_value not in attribute:\n",
    "                attribute_list.append(attribute)\n",
    "\n",
    "    return attribute_list\n",
    "\n",
    "def AttributeListToBoolFlags(column, dataframe, none_value):\n",
    "    attribute_list = GetAttributeList(column, dataframe, none_value)\n",
    "\n",
    "    print( 'There are {} {}.\\n {}'.format(len(attribute_list), column, attribute_list) )\n",
    "\n",
    "    for genre in attribute_list:\n",
    "        dataframe[genre] = dataframe.apply (lambda row: 1 if genre in row['Genres'] else 0, axis=1)"
   ]
  },
  {
   "cell_type": "code",
   "execution_count": 2862,
   "metadata": {},
   "outputs": [
    {
     "name": "stdout",
     "output_type": "stream",
     "text": [
      "There are 20 Genres.\n",
      " ['Action', 'Adventure', 'Comedy', 'Drama', 'Fantasy', 'Mystery', 'Sci-Fi', 'Suspense', 'Romance', 'Slice of Life', 'Supernatural', 'Sports', 'Award Winning', 'Ecchi', 'Horror', 'Avant Garde', 'Boys Love', 'Gourmet', 'Girls Love', 'Work Life']\n"
     ]
    }
   ],
   "source": [
    "AttributeListToBoolFlags('Genres', df, 'N\\A')"
   ]
  },
  {
   "cell_type": "markdown",
   "metadata": {},
   "source": [
    "lets remove the genres that we barely see (< 5 times), if left alone they would serve as edge cases for our predictions."
   ]
  },
  {
   "cell_type": "code",
   "execution_count": 2863,
   "metadata": {},
   "outputs": [],
   "source": [
    "genre_list = GetAttributeList('Genres', df, 'N\\A')\n",
    "\n",
    "for genre in genre_list:\n",
    "    count = df[genre].value_counts()[1]\n",
    "    if count < 5:\n",
    "        df = df.drop(genre, axis=1)"
   ]
  },
  {
   "cell_type": "markdown",
   "metadata": {},
   "source": [
    "The models cannot accept string values hence we will create boolean values for the rating, type and demographic related to each show just as we did for genre."
   ]
  },
  {
   "cell_type": "code",
   "execution_count": 2864,
   "metadata": {},
   "outputs": [
    {
     "name": "stdout",
     "output_type": "stream",
     "text": [
      "There are 5 Rating.\n",
      " [' R - 17+ (violence & profanity)  ', ' PG-13 - Teens 13 or older  ', ' R+ - Mild Nudity  ', ' PG - Children  ', ' G - All Ages  ']\n",
      "There are 5 Type.\n",
      " ['TV', 'Movie', 'OVA', 'ONA', 'Special']\n",
      "There are 5 Demographic.\n",
      " ['Shounen', 'Shoujo', 'Seinen', 'Josei', 'Kids']\n"
     ]
    }
   ],
   "source": [
    "AttributeListToBoolFlags('Rating', df, 'None')\n",
    "AttributeListToBoolFlags('Type', df, 'N\\A')\n",
    "AttributeListToBoolFlags('Demographic', df, 'N\\A')"
   ]
  },
  {
   "cell_type": "code",
   "execution_count": 2865,
   "metadata": {},
   "outputs": [
    {
     "data": {
      "text/html": [
       "<div>\n",
       "<style scoped>\n",
       "    .dataframe tbody tr th:only-of-type {\n",
       "        vertical-align: middle;\n",
       "    }\n",
       "\n",
       "    .dataframe tbody tr th {\n",
       "        vertical-align: top;\n",
       "    }\n",
       "\n",
       "    .dataframe thead th {\n",
       "        text-align: right;\n",
       "    }\n",
       "</style>\n",
       "<table border=\"1\" class=\"dataframe\">\n",
       "  <thead>\n",
       "    <tr style=\"text-align: right;\">\n",
       "      <th></th>\n",
       "      <th>Unnamed: 0</th>\n",
       "      <th>Title</th>\n",
       "      <th>MAL Id</th>\n",
       "      <th>Type</th>\n",
       "      <th>Number of Episodes</th>\n",
       "      <th>Episode Duration</th>\n",
       "      <th>Studios</th>\n",
       "      <th>Source Type</th>\n",
       "      <th>Genres</th>\n",
       "      <th>Themes</th>\n",
       "      <th>...</th>\n",
       "      <th>TV</th>\n",
       "      <th>Movie</th>\n",
       "      <th>OVA</th>\n",
       "      <th>ONA</th>\n",
       "      <th>Special</th>\n",
       "      <th>Shounen</th>\n",
       "      <th>Shoujo</th>\n",
       "      <th>Seinen</th>\n",
       "      <th>Josei</th>\n",
       "      <th>Kids</th>\n",
       "    </tr>\n",
       "  </thead>\n",
       "  <tbody>\n",
       "    <tr>\n",
       "      <th>0</th>\n",
       "      <td>0</td>\n",
       "      <td>Fullmetal Alchemist: Brotherhood</td>\n",
       "      <td>5114</td>\n",
       "      <td>TV</td>\n",
       "      <td>64</td>\n",
       "      <td>24 min. per ep.</td>\n",
       "      <td>Bones</td>\n",
       "      <td>Manga</td>\n",
       "      <td>Action,Adventure,Comedy,Drama,Fantasy</td>\n",
       "      <td>N\\A</td>\n",
       "      <td>...</td>\n",
       "      <td>0</td>\n",
       "      <td>0</td>\n",
       "      <td>0</td>\n",
       "      <td>0</td>\n",
       "      <td>0</td>\n",
       "      <td>0</td>\n",
       "      <td>0</td>\n",
       "      <td>0</td>\n",
       "      <td>0</td>\n",
       "      <td>0</td>\n",
       "    </tr>\n",
       "    <tr>\n",
       "      <th>1</th>\n",
       "      <td>1</td>\n",
       "      <td>Shingeki no Kyojin: The Final Season Part 2</td>\n",
       "      <td>48583</td>\n",
       "      <td>TV</td>\n",
       "      <td>12</td>\n",
       "      <td>23 min. per ep.</td>\n",
       "      <td>MAPPA</td>\n",
       "      <td>Manga</td>\n",
       "      <td>Action,Drama,Fantasy,Mystery</td>\n",
       "      <td>Military,Super Power</td>\n",
       "      <td>...</td>\n",
       "      <td>0</td>\n",
       "      <td>0</td>\n",
       "      <td>0</td>\n",
       "      <td>0</td>\n",
       "      <td>0</td>\n",
       "      <td>0</td>\n",
       "      <td>0</td>\n",
       "      <td>0</td>\n",
       "      <td>0</td>\n",
       "      <td>0</td>\n",
       "    </tr>\n",
       "    <tr>\n",
       "      <th>2</th>\n",
       "      <td>2</td>\n",
       "      <td>Steins;Gate</td>\n",
       "      <td>9253</td>\n",
       "      <td>TV</td>\n",
       "      <td>24</td>\n",
       "      <td>24 min. per ep.</td>\n",
       "      <td>White Fox</td>\n",
       "      <td>Visual</td>\n",
       "      <td>Drama,Sci-Fi,Suspense</td>\n",
       "      <td>N\\A</td>\n",
       "      <td>...</td>\n",
       "      <td>0</td>\n",
       "      <td>0</td>\n",
       "      <td>0</td>\n",
       "      <td>0</td>\n",
       "      <td>0</td>\n",
       "      <td>0</td>\n",
       "      <td>0</td>\n",
       "      <td>0</td>\n",
       "      <td>0</td>\n",
       "      <td>0</td>\n",
       "    </tr>\n",
       "    <tr>\n",
       "      <th>3</th>\n",
       "      <td>3</td>\n",
       "      <td>Gintama°</td>\n",
       "      <td>28977</td>\n",
       "      <td>TV</td>\n",
       "      <td>51</td>\n",
       "      <td>24 min. per ep.</td>\n",
       "      <td>Bandai Namco Pictures</td>\n",
       "      <td>Manga</td>\n",
       "      <td>Action,Comedy,Sci-Fi</td>\n",
       "      <td>Historical,Parody,Samurai</td>\n",
       "      <td>...</td>\n",
       "      <td>0</td>\n",
       "      <td>0</td>\n",
       "      <td>0</td>\n",
       "      <td>0</td>\n",
       "      <td>0</td>\n",
       "      <td>0</td>\n",
       "      <td>0</td>\n",
       "      <td>0</td>\n",
       "      <td>0</td>\n",
       "      <td>0</td>\n",
       "    </tr>\n",
       "    <tr>\n",
       "      <th>4</th>\n",
       "      <td>4</td>\n",
       "      <td>Shingeki no Kyojin Season 3 Part 2</td>\n",
       "      <td>38524</td>\n",
       "      <td>TV</td>\n",
       "      <td>10</td>\n",
       "      <td>23 min. per ep.</td>\n",
       "      <td>Wit Studio</td>\n",
       "      <td>Manga</td>\n",
       "      <td>Action,Drama,Fantasy,Mystery</td>\n",
       "      <td>Military,Super Power</td>\n",
       "      <td>...</td>\n",
       "      <td>0</td>\n",
       "      <td>0</td>\n",
       "      <td>0</td>\n",
       "      <td>0</td>\n",
       "      <td>0</td>\n",
       "      <td>0</td>\n",
       "      <td>0</td>\n",
       "      <td>0</td>\n",
       "      <td>0</td>\n",
       "      <td>0</td>\n",
       "    </tr>\n",
       "    <tr>\n",
       "      <th>...</th>\n",
       "      <td>...</td>\n",
       "      <td>...</td>\n",
       "      <td>...</td>\n",
       "      <td>...</td>\n",
       "      <td>...</td>\n",
       "      <td>...</td>\n",
       "      <td>...</td>\n",
       "      <td>...</td>\n",
       "      <td>...</td>\n",
       "      <td>...</td>\n",
       "      <td>...</td>\n",
       "      <td>...</td>\n",
       "      <td>...</td>\n",
       "      <td>...</td>\n",
       "      <td>...</td>\n",
       "      <td>...</td>\n",
       "      <td>...</td>\n",
       "      <td>...</td>\n",
       "      <td>...</td>\n",
       "      <td>...</td>\n",
       "      <td>...</td>\n",
       "    </tr>\n",
       "    <tr>\n",
       "      <th>9480</th>\n",
       "      <td>9480</td>\n",
       "      <td>Sora to Umi no Aida</td>\n",
       "      <td>36000</td>\n",
       "      <td>TV</td>\n",
       "      <td>12</td>\n",
       "      <td>23 min. per ep.</td>\n",
       "      <td>TMS Entertainment</td>\n",
       "      <td>Game</td>\n",
       "      <td>Adventure,Fantasy,Sci-Fi</td>\n",
       "      <td>N\\A</td>\n",
       "      <td>...</td>\n",
       "      <td>0</td>\n",
       "      <td>0</td>\n",
       "      <td>0</td>\n",
       "      <td>0</td>\n",
       "      <td>0</td>\n",
       "      <td>0</td>\n",
       "      <td>0</td>\n",
       "      <td>0</td>\n",
       "      <td>0</td>\n",
       "      <td>0</td>\n",
       "    </tr>\n",
       "    <tr>\n",
       "      <th>9483</th>\n",
       "      <td>9483</td>\n",
       "      <td>Tuzki: Love Assassin</td>\n",
       "      <td>23903</td>\n",
       "      <td>ONA</td>\n",
       "      <td>1</td>\n",
       "      <td>2 min.</td>\n",
       "      <td>Studio 4°C</td>\n",
       "      <td>Other</td>\n",
       "      <td>Comedy,Romance</td>\n",
       "      <td>N\\A</td>\n",
       "      <td>...</td>\n",
       "      <td>0</td>\n",
       "      <td>0</td>\n",
       "      <td>0</td>\n",
       "      <td>0</td>\n",
       "      <td>0</td>\n",
       "      <td>0</td>\n",
       "      <td>0</td>\n",
       "      <td>0</td>\n",
       "      <td>0</td>\n",
       "      <td>0</td>\n",
       "    </tr>\n",
       "    <tr>\n",
       "      <th>9487</th>\n",
       "      <td>9487</td>\n",
       "      <td>California Crisis: Tsuigeki no Juuka</td>\n",
       "      <td>3127</td>\n",
       "      <td>OVA</td>\n",
       "      <td>1</td>\n",
       "      <td>45 min.</td>\n",
       "      <td>Studio Unicorn,Hiro Media</td>\n",
       "      <td>Original</td>\n",
       "      <td>Action,Adventure,Sci-Fi</td>\n",
       "      <td>N\\A</td>\n",
       "      <td>...</td>\n",
       "      <td>0</td>\n",
       "      <td>0</td>\n",
       "      <td>0</td>\n",
       "      <td>0</td>\n",
       "      <td>0</td>\n",
       "      <td>0</td>\n",
       "      <td>0</td>\n",
       "      <td>0</td>\n",
       "      <td>0</td>\n",
       "      <td>0</td>\n",
       "    </tr>\n",
       "    <tr>\n",
       "      <th>9491</th>\n",
       "      <td>9491</td>\n",
       "      <td>Hipira-kun ONA</td>\n",
       "      <td>22983</td>\n",
       "      <td>ONA</td>\n",
       "      <td>2</td>\n",
       "      <td>5 min. per ep.</td>\n",
       "      <td>Sunrise</td>\n",
       "      <td>Picture</td>\n",
       "      <td>Comedy,Fantasy,Supernatural</td>\n",
       "      <td>N\\A</td>\n",
       "      <td>...</td>\n",
       "      <td>0</td>\n",
       "      <td>0</td>\n",
       "      <td>0</td>\n",
       "      <td>0</td>\n",
       "      <td>0</td>\n",
       "      <td>0</td>\n",
       "      <td>0</td>\n",
       "      <td>0</td>\n",
       "      <td>0</td>\n",
       "      <td>0</td>\n",
       "    </tr>\n",
       "    <tr>\n",
       "      <th>9492</th>\n",
       "      <td>9492</td>\n",
       "      <td>Install Pilot</td>\n",
       "      <td>11043</td>\n",
       "      <td>Special</td>\n",
       "      <td>1</td>\n",
       "      <td>12 min.</td>\n",
       "      <td>Asahi Production</td>\n",
       "      <td>Original</td>\n",
       "      <td>Action,Sci-Fi</td>\n",
       "      <td>N\\A</td>\n",
       "      <td>...</td>\n",
       "      <td>0</td>\n",
       "      <td>0</td>\n",
       "      <td>0</td>\n",
       "      <td>0</td>\n",
       "      <td>0</td>\n",
       "      <td>0</td>\n",
       "      <td>0</td>\n",
       "      <td>0</td>\n",
       "      <td>0</td>\n",
       "      <td>0</td>\n",
       "    </tr>\n",
       "  </tbody>\n",
       "</table>\n",
       "<p>5852 rows × 49 columns</p>\n",
       "</div>"
      ],
      "text/plain": [
       "      Unnamed: 0                                        Title  MAL Id  \\\n",
       "0              0             Fullmetal Alchemist: Brotherhood    5114   \n",
       "1              1  Shingeki no Kyojin: The Final Season Part 2   48583   \n",
       "2              2                                  Steins;Gate    9253   \n",
       "3              3                                     Gintama°   28977   \n",
       "4              4           Shingeki no Kyojin Season 3 Part 2   38524   \n",
       "...          ...                                          ...     ...   \n",
       "9480        9480                          Sora to Umi no Aida   36000   \n",
       "9483        9483                         Tuzki: Love Assassin   23903   \n",
       "9487        9487         California Crisis: Tsuigeki no Juuka    3127   \n",
       "9491        9491                               Hipira-kun ONA   22983   \n",
       "9492        9492                                Install Pilot   11043   \n",
       "\n",
       "         Type  Number of Episodes Episode Duration                    Studios  \\\n",
       "0          TV                  64  24 min. per ep.                      Bones   \n",
       "1          TV                  12  23 min. per ep.                      MAPPA   \n",
       "2          TV                  24  24 min. per ep.                  White Fox   \n",
       "3          TV                  51  24 min. per ep.      Bandai Namco Pictures   \n",
       "4          TV                  10  23 min. per ep.                 Wit Studio   \n",
       "...       ...                 ...              ...                        ...   \n",
       "9480       TV                  12  23 min. per ep.          TMS Entertainment   \n",
       "9483      ONA                   1           2 min.                 Studio 4°C   \n",
       "9487      OVA                   1          45 min.  Studio Unicorn,Hiro Media   \n",
       "9491      ONA                   2   5 min. per ep.                    Sunrise   \n",
       "9492  Special                   1          12 min.           Asahi Production   \n",
       "\n",
       "     Source Type                                 Genres  \\\n",
       "0          Manga  Action,Adventure,Comedy,Drama,Fantasy   \n",
       "1          Manga           Action,Drama,Fantasy,Mystery   \n",
       "2         Visual                  Drama,Sci-Fi,Suspense   \n",
       "3          Manga                   Action,Comedy,Sci-Fi   \n",
       "4          Manga           Action,Drama,Fantasy,Mystery   \n",
       "...          ...                                    ...   \n",
       "9480        Game               Adventure,Fantasy,Sci-Fi   \n",
       "9483       Other                         Comedy,Romance   \n",
       "9487    Original                Action,Adventure,Sci-Fi   \n",
       "9491     Picture            Comedy,Fantasy,Supernatural   \n",
       "9492    Original                          Action,Sci-Fi   \n",
       "\n",
       "                         Themes  ... TV  Movie  OVA ONA  Special  Shounen  \\\n",
       "0                           N\\A  ...  0      0    0   0        0        0   \n",
       "1          Military,Super Power  ...  0      0    0   0        0        0   \n",
       "2                           N\\A  ...  0      0    0   0        0        0   \n",
       "3     Historical,Parody,Samurai  ...  0      0    0   0        0        0   \n",
       "4          Military,Super Power  ...  0      0    0   0        0        0   \n",
       "...                         ...  ... ..    ...  ...  ..      ...      ...   \n",
       "9480                        N\\A  ...  0      0    0   0        0        0   \n",
       "9483                        N\\A  ...  0      0    0   0        0        0   \n",
       "9487                        N\\A  ...  0      0    0   0        0        0   \n",
       "9491                        N\\A  ...  0      0    0   0        0        0   \n",
       "9492                        N\\A  ...  0      0    0   0        0        0   \n",
       "\n",
       "      Shoujo  Seinen  Josei  Kids  \n",
       "0          0       0      0     0  \n",
       "1          0       0      0     0  \n",
       "2          0       0      0     0  \n",
       "3          0       0      0     0  \n",
       "4          0       0      0     0  \n",
       "...      ...     ...    ...   ...  \n",
       "9480       0       0      0     0  \n",
       "9483       0       0      0     0  \n",
       "9487       0       0      0     0  \n",
       "9491       0       0      0     0  \n",
       "9492       0       0      0     0  \n",
       "\n",
       "[5852 rows x 49 columns]"
      ]
     },
     "execution_count": 2865,
     "metadata": {},
     "output_type": "execute_result"
    }
   ],
   "source": [
    "df.to_csv(\"anime_df_clean.csv\", sep=';', index=False)\n",
    "df"
   ]
  },
  {
   "cell_type": "markdown",
   "metadata": {},
   "source": [
    "Now that we cleaned the data we will try to gain some insight into the correlation between parameters and confirm our own suspicions."
   ]
  },
  {
   "cell_type": "markdown",
   "metadata": {},
   "source": [
    "### Correlation ###"
   ]
  },
  {
   "cell_type": "code",
   "execution_count": 2866,
   "metadata": {},
   "outputs": [],
   "source": [
    "def CorrelationTable(data, title):\n",
    "    # Compute the correlation matrix:\n",
    "    pandas_correlation = data.corr()\n",
    "\n",
    "    # Generating a mask for the upper triangle for a cleaner table:\n",
    "    mask = np.triu(np.ones_like(pandas_correlation, dtype=bool))\n",
    "\n",
    "    # Set up the matplotlib figure:\n",
    "    f, ax = plt.subplots(figsize=(30, 30))\n",
    "\n",
    "    # Generate a custom diverging colormap:\n",
    "    cmap = sns.diverging_palette(20, 230, as_cmap=True)\n",
    "\n",
    "    # Draw the heatmap with the mask and correct aspect ratio:\n",
    "    sns.heatmap(pandas_correlation, mask=mask, cmap=cmap, vmax=.8, center=0, square=True, linewidths=.5, cbar_kws={\"shrink\": .5}, annot=True)\n",
    "\n",
    "    # Title:\n",
    "    plt.title(title)\n",
    "\n",
    "    plt.show()"
   ]
  },
  {
   "cell_type": "code",
   "execution_count": 2867,
   "metadata": {},
   "outputs": [
    {
     "data": {
      "image/png": "[encoded data removed]",
      "text/plain": [
       "<Figure size 2160x2160 with 2 Axes>"
      ]
     },
     "metadata": {
      "needs_background": "light"
     },
     "output_type": "display_data"
    }
   ],
   "source": [
    "corr_df = df.drop(['Title', 'Episode Duration', 'Genres', 'Themes', 'Studios', 'Source Type', 'Type', 'Rating', 'Demographic', 'MAL Id', 'Unnamed: 0'], axis=1)\n",
    "CorrelationTable(corr_df, 'Anime Correlations')"
   ]
  },
  {
   "cell_type": "markdown",
   "metadata": {},
   "source": [
    "<b> Reminder! </b> <br>\n",
    "Anime with lower Popularity means it was ranked lower, hence it means that the anime was viewed by more people.\n",
    "In addition, we looked at Score even though we will not use it because of its strong connection to Popularity in order to gain further insight."
   ]
  },
  {
   "cell_type": "markdown",
   "metadata": {},
   "source": [
    "<b> Important connections: </b> (Relatively strong relations to popularity)\n",
    "* Year, Popularity : (-0.35) There is a strong connection between year and popularity, that shows new anime tend to be more popular (ranked lower).\n",
    "* Romance, Popularity: (-0.14) Anime with romance genre tend to get a lower rank.\n",
    "* Supernatural, Popularity: (-0.16) Anime with Supernatural genre tend to get a lower rank.\n",
    "* Ecchi, Popularity: (-0.12) Anime with Ecchi genre tend to get a lower rank.\n",
    "* R - 17+ (violence & profanity), Popularity: (-0.19) Anime with this rating tends to be lower ranked.\n",
    "* G - All Ages, Popularity: (0.29) There is a strong connection that indicates anime for all ages will be higher ranked.\n",
    "* TV, Popularity: (-0.3) There is a strong connection between anime's rank and the fact it was aired on TV.\n",
    "* ONA, Popularity: (0.22) There is a relatively strong connection between anime's rank and the fact it was aired on a website.\n",
    "* Shounen, Popularity: (-0.097) Anime with Shounen demography tend to get lower ranked.\n",
    "* Kids, Popularity: (0.13) Anime for kids tend to be higher ranked."
   ]
  },
  {
   "cell_type": "markdown",
   "metadata": {},
   "source": [
    "<b> Relatively strong connections to score: </b>\n",
    "* Duration , Score: (0.18) Anime with higher duration per episode tend to get a better score.\n",
    "* Drama, Score: (0.17) Anime with Drama genre tend to get higher score.\n",
    "* Supernatural, Score: (0.11): Anime with supernatural genre tend to get higher score.\n",
    "* R - 17+ (violence & profanity), Score: (0.13) Anime with this rating tends to get higher score.\n",
    "* TV, Score: (0.1) Anime that was aired on TV tend to get higher score.\n",
    "* Shounen, Score : (0.14) Anime with Shounen demography tend to get higher score.\n",
    "* Kids, Score: (-0.1) Anime for kids tend to get lower score.\n",
    "* Score, Number of Episodes: (0.073) Anime with more episodes tend to get a greater score.\n",
    "* Year, Score: (0.16) New anime tend to receive a greater score."
   ]
  },
  {
   "cell_type": "markdown",
   "metadata": {},
   "source": [
    "<b> Examples for expectations using the connections: </b> <br>\n",
    "\n",
    "We expect that an anime with the following data will be relatively lower ranked (With lower Popularity):\n",
    "* The anime was released in the last few years\n",
    "* The anime's genres are: Romance, Supernatural , Ecchi \n",
    "* The anime is rated 17+ (violence & profanity)\n",
    "* The anime was aired on TV\n",
    "* The anime's demography is Shounen\n",
    "\n",
    "We expect that an anime with the following data will be relatively higher ranked (With higher popularity):\n",
    "* The anime was released a relatively long time ago\n",
    "* The anime's genres are: Adventure, Sci-Fi\n",
    "* The anime is rated for all ages\n",
    "* The anime was aired on a website \n",
    "* The anime demography is kids"
   ]
  },
  {
   "cell_type": "markdown",
   "metadata": {},
   "source": [
    "### Graphs ###"
   ]
  },
  {
   "cell_type": "code",
   "execution_count": 2868,
   "metadata": {},
   "outputs": [
    {
     "data": {
      "text/plain": [
       "<AxesSubplot:title={'center':'Studio and the Number of Published Anime'}>"
      ]
     },
     "execution_count": 2868,
     "metadata": {},
     "output_type": "execute_result"
    },
    {
     "data": {
      "image/png": "[encoded data removed]",
      "text/plain": [
       "<Figure size 432x288 with 1 Axes>"
      ]
     },
     "metadata": {
      "needs_background": "light"
     },
     "output_type": "display_data"
    }
   ],
   "source": [
    "#MAKE MEDIAN STUDIO POPULARITY\n",
    "#MAKE CHART\n",
    "\n",
    "import matplotlib.pyplot as plt \n",
    "\n",
    "plt.title('Studio and the Number of Published Anime')\n",
    "studio_appearances = df.Studios.value_counts()\n",
    "studio_appearances[studio_appearances > 70].plot(kind = 'bar')"
   ]
  },
  {
   "cell_type": "code",
   "execution_count": 2869,
   "metadata": {},
   "outputs": [
    {
     "data": {
      "text/plain": [
       "<AxesSubplot:title={'center':'Genres and the Number of Published Anime'}>"
      ]
     },
     "execution_count": 2869,
     "metadata": {},
     "output_type": "execute_result"
    },
    {
     "data": {
      "image/png": "[encoded data removed]",
      "text/plain": [
       "<Figure size 432x288 with 1 Axes>"
      ]
     },
     "metadata": {
      "needs_background": "light"
     },
     "output_type": "display_data"
    }
   ],
   "source": [
    "\n",
    "#cut genres\n",
    "#median genre popularity\n",
    "#make chart of genre vs populrity\n",
    "\n",
    "\n",
    "plt.title('Genres and the Number of Published Anime')\n",
    "genre_appearances = df.Genres.value_counts()\n",
    "genre_appearances[genre_appearances > 70].plot(kind = 'bar')"
   ]
  },
  {
   "cell_type": "code",
   "execution_count": 2870,
   "metadata": {},
   "outputs": [
    {
     "data": {
      "text/plain": [
       "<AxesSubplot:title={'center':'How many times each popularity appears modul 5000'}, xlabel='Popularity'>"
      ]
     },
     "execution_count": 2870,
     "metadata": {},
     "output_type": "execute_result"
    },
    {
     "data": {
      "image/png": "[encoded data removed]",
      "text/plain": [
       "<Figure size 432x288 with 1 Axes>"
      ]
     },
     "metadata": {
      "needs_background": "light"
     },
     "output_type": "display_data"
    }
   ],
   "source": [
    "plt.title('How many times each popularity appears modul 5000')\n",
    "df_popularity = df[['Popularity']].apply(lambda x: (x-(x%5000)))\n",
    "df_popularity\n",
    "\n",
    "df_popularity_count = df_popularity.value_counts()\n",
    "df_popularity_count.plot(kind = 'bar')"
   ]
  },
  {
   "cell_type": "code",
   "execution_count": 2871,
   "metadata": {},
   "outputs": [
    {
     "data": {
      "text/plain": [
       "<AxesSubplot:title={'center':'Source and the Number of Published Anime'}>"
      ]
     },
     "execution_count": 2871,
     "metadata": {},
     "output_type": "execute_result"
    },
    {
     "data": {
      "image/png": "[encoded data removed]",
      "text/plain": [
       "<Figure size 432x288 with 1 Axes>"
      ]
     },
     "metadata": {
      "needs_background": "light"
     },
     "output_type": "display_data"
    }
   ],
   "source": [
    "plt.title('Source and the Number of Published Anime')\n",
    "source_appearances = df['Source Type'].value_counts()\n",
    "source_appearances[source_appearances>10].plot(kind = 'bar')"
   ]
  },
  {
   "cell_type": "code",
   "execution_count": 2872,
   "metadata": {},
   "outputs": [
    {
     "data": {
      "text/html": [
       "<div>\n",
       "<style scoped>\n",
       "    .dataframe tbody tr th:only-of-type {\n",
       "        vertical-align: middle;\n",
       "    }\n",
       "\n",
       "    .dataframe tbody tr th {\n",
       "        vertical-align: top;\n",
       "    }\n",
       "\n",
       "    .dataframe thead th {\n",
       "        text-align: right;\n",
       "    }\n",
       "</style>\n",
       "<table border=\"1\" class=\"dataframe\">\n",
       "  <thead>\n",
       "    <tr style=\"text-align: right;\">\n",
       "      <th></th>\n",
       "      <th>Unnamed: 0</th>\n",
       "      <th>Title</th>\n",
       "      <th>MAL Id</th>\n",
       "      <th>Type</th>\n",
       "      <th>Number of Episodes</th>\n",
       "      <th>Episode Duration</th>\n",
       "      <th>Studios</th>\n",
       "      <th>Source Type</th>\n",
       "      <th>Genres</th>\n",
       "      <th>Themes</th>\n",
       "      <th>...</th>\n",
       "      <th>TV</th>\n",
       "      <th>Movie</th>\n",
       "      <th>OVA</th>\n",
       "      <th>ONA</th>\n",
       "      <th>Special</th>\n",
       "      <th>Shounen</th>\n",
       "      <th>Shoujo</th>\n",
       "      <th>Seinen</th>\n",
       "      <th>Josei</th>\n",
       "      <th>Kids</th>\n",
       "    </tr>\n",
       "  </thead>\n",
       "  <tbody>\n",
       "    <tr>\n",
       "      <th>0</th>\n",
       "      <td>0</td>\n",
       "      <td>Fullmetal Alchemist: Brotherhood</td>\n",
       "      <td>5114</td>\n",
       "      <td>TV</td>\n",
       "      <td>64</td>\n",
       "      <td>24 min. per ep.</td>\n",
       "      <td>Bones</td>\n",
       "      <td>Manga</td>\n",
       "      <td>Action,Adventure,Comedy,Drama,Fantasy</td>\n",
       "      <td>N\\A</td>\n",
       "      <td>...</td>\n",
       "      <td>0</td>\n",
       "      <td>0</td>\n",
       "      <td>0</td>\n",
       "      <td>0</td>\n",
       "      <td>0</td>\n",
       "      <td>0</td>\n",
       "      <td>0</td>\n",
       "      <td>0</td>\n",
       "      <td>0</td>\n",
       "      <td>0</td>\n",
       "    </tr>\n",
       "    <tr>\n",
       "      <th>2</th>\n",
       "      <td>2</td>\n",
       "      <td>Steins;Gate</td>\n",
       "      <td>9253</td>\n",
       "      <td>TV</td>\n",
       "      <td>24</td>\n",
       "      <td>24 min. per ep.</td>\n",
       "      <td>White Fox</td>\n",
       "      <td>Visual</td>\n",
       "      <td>Drama,Sci-Fi,Suspense</td>\n",
       "      <td>N\\A</td>\n",
       "      <td>...</td>\n",
       "      <td>0</td>\n",
       "      <td>0</td>\n",
       "      <td>0</td>\n",
       "      <td>0</td>\n",
       "      <td>0</td>\n",
       "      <td>0</td>\n",
       "      <td>0</td>\n",
       "      <td>0</td>\n",
       "      <td>0</td>\n",
       "      <td>0</td>\n",
       "    </tr>\n",
       "    <tr>\n",
       "      <th>4</th>\n",
       "      <td>4</td>\n",
       "      <td>Shingeki no Kyojin Season 3 Part 2</td>\n",
       "      <td>38524</td>\n",
       "      <td>TV</td>\n",
       "      <td>10</td>\n",
       "      <td>23 min. per ep.</td>\n",
       "      <td>Wit Studio</td>\n",
       "      <td>Manga</td>\n",
       "      <td>Action,Drama,Fantasy,Mystery</td>\n",
       "      <td>Military,Super Power</td>\n",
       "      <td>...</td>\n",
       "      <td>0</td>\n",
       "      <td>0</td>\n",
       "      <td>0</td>\n",
       "      <td>0</td>\n",
       "      <td>0</td>\n",
       "      <td>0</td>\n",
       "      <td>0</td>\n",
       "      <td>0</td>\n",
       "      <td>0</td>\n",
       "      <td>0</td>\n",
       "    </tr>\n",
       "    <tr>\n",
       "      <th>8</th>\n",
       "      <td>8</td>\n",
       "      <td>Hunter x Hunter (2011)</td>\n",
       "      <td>11061</td>\n",
       "      <td>TV</td>\n",
       "      <td>148</td>\n",
       "      <td>23 min. per ep.</td>\n",
       "      <td>Madhouse</td>\n",
       "      <td>Manga</td>\n",
       "      <td>Action,Adventure,Fantasy</td>\n",
       "      <td>N\\A</td>\n",
       "      <td>...</td>\n",
       "      <td>0</td>\n",
       "      <td>0</td>\n",
       "      <td>0</td>\n",
       "      <td>0</td>\n",
       "      <td>0</td>\n",
       "      <td>0</td>\n",
       "      <td>0</td>\n",
       "      <td>0</td>\n",
       "      <td>0</td>\n",
       "      <td>0</td>\n",
       "    </tr>\n",
       "    <tr>\n",
       "      <th>18</th>\n",
       "      <td>18</td>\n",
       "      <td>Code Geass: Hangyaku no Lelouch R2</td>\n",
       "      <td>2904</td>\n",
       "      <td>TV</td>\n",
       "      <td>25</td>\n",
       "      <td>24 min. per ep.</td>\n",
       "      <td>Sunrise</td>\n",
       "      <td>Original</td>\n",
       "      <td>Action,Drama,Sci-Fi</td>\n",
       "      <td>Mecha,Military,Super Power</td>\n",
       "      <td>...</td>\n",
       "      <td>0</td>\n",
       "      <td>0</td>\n",
       "      <td>0</td>\n",
       "      <td>0</td>\n",
       "      <td>0</td>\n",
       "      <td>0</td>\n",
       "      <td>0</td>\n",
       "      <td>0</td>\n",
       "      <td>0</td>\n",
       "      <td>0</td>\n",
       "    </tr>\n",
       "    <tr>\n",
       "      <th>...</th>\n",
       "      <td>...</td>\n",
       "      <td>...</td>\n",
       "      <td>...</td>\n",
       "      <td>...</td>\n",
       "      <td>...</td>\n",
       "      <td>...</td>\n",
       "      <td>...</td>\n",
       "      <td>...</td>\n",
       "      <td>...</td>\n",
       "      <td>...</td>\n",
       "      <td>...</td>\n",
       "      <td>...</td>\n",
       "      <td>...</td>\n",
       "      <td>...</td>\n",
       "      <td>...</td>\n",
       "      <td>...</td>\n",
       "      <td>...</td>\n",
       "      <td>...</td>\n",
       "      <td>...</td>\n",
       "      <td>...</td>\n",
       "      <td>...</td>\n",
       "    </tr>\n",
       "    <tr>\n",
       "      <th>2840</th>\n",
       "      <td>2840</td>\n",
       "      <td>Sword Art Online</td>\n",
       "      <td>11757</td>\n",
       "      <td>TV</td>\n",
       "      <td>25</td>\n",
       "      <td>23 min. per ep.</td>\n",
       "      <td>A-1 Pictures</td>\n",
       "      <td>Light</td>\n",
       "      <td>Action,Adventure,Fantasy,Romance</td>\n",
       "      <td>N\\A</td>\n",
       "      <td>...</td>\n",
       "      <td>0</td>\n",
       "      <td>0</td>\n",
       "      <td>0</td>\n",
       "      <td>0</td>\n",
       "      <td>0</td>\n",
       "      <td>0</td>\n",
       "      <td>0</td>\n",
       "      <td>0</td>\n",
       "      <td>0</td>\n",
       "      <td>0</td>\n",
       "    </tr>\n",
       "    <tr>\n",
       "      <th>2964</th>\n",
       "      <td>2964</td>\n",
       "      <td>Deadman Wonderland</td>\n",
       "      <td>6880</td>\n",
       "      <td>TV</td>\n",
       "      <td>12</td>\n",
       "      <td>24 min. per ep.</td>\n",
       "      <td>Manglobe</td>\n",
       "      <td>Manga</td>\n",
       "      <td>Action,Horror,Sci-Fi,Supernatural</td>\n",
       "      <td>N\\A</td>\n",
       "      <td>...</td>\n",
       "      <td>0</td>\n",
       "      <td>0</td>\n",
       "      <td>0</td>\n",
       "      <td>0</td>\n",
       "      <td>0</td>\n",
       "      <td>0</td>\n",
       "      <td>0</td>\n",
       "      <td>0</td>\n",
       "      <td>0</td>\n",
       "      <td>0</td>\n",
       "    </tr>\n",
       "    <tr>\n",
       "      <th>3342</th>\n",
       "      <td>3342</td>\n",
       "      <td>Highschool of the Dead</td>\n",
       "      <td>8074</td>\n",
       "      <td>TV</td>\n",
       "      <td>12</td>\n",
       "      <td>24 min. per ep.</td>\n",
       "      <td>Madhouse</td>\n",
       "      <td>Manga</td>\n",
       "      <td>Action,Horror,Supernatural,Ecchi</td>\n",
       "      <td>N\\A</td>\n",
       "      <td>...</td>\n",
       "      <td>0</td>\n",
       "      <td>0</td>\n",
       "      <td>0</td>\n",
       "      <td>0</td>\n",
       "      <td>0</td>\n",
       "      <td>0</td>\n",
       "      <td>0</td>\n",
       "      <td>0</td>\n",
       "      <td>0</td>\n",
       "      <td>0</td>\n",
       "    </tr>\n",
       "    <tr>\n",
       "      <th>3633</th>\n",
       "      <td>3633</td>\n",
       "      <td>Tokyo Ghoul √A</td>\n",
       "      <td>27899</td>\n",
       "      <td>TV</td>\n",
       "      <td>12</td>\n",
       "      <td>24 min. per ep.</td>\n",
       "      <td>Studio Pierrot</td>\n",
       "      <td>Manga</td>\n",
       "      <td>Action,Drama,Horror,Mystery,Supernatural</td>\n",
       "      <td>N\\A</td>\n",
       "      <td>...</td>\n",
       "      <td>0</td>\n",
       "      <td>0</td>\n",
       "      <td>0</td>\n",
       "      <td>0</td>\n",
       "      <td>0</td>\n",
       "      <td>0</td>\n",
       "      <td>0</td>\n",
       "      <td>0</td>\n",
       "      <td>0</td>\n",
       "      <td>0</td>\n",
       "    </tr>\n",
       "    <tr>\n",
       "      <th>4972</th>\n",
       "      <td>4972</td>\n",
       "      <td>Sword Art Online II</td>\n",
       "      <td>21881</td>\n",
       "      <td>TV</td>\n",
       "      <td>24</td>\n",
       "      <td>23 min. per ep.</td>\n",
       "      <td>A-1 Pictures</td>\n",
       "      <td>Light</td>\n",
       "      <td>Action,Adventure,Fantasy,Romance</td>\n",
       "      <td>N\\A</td>\n",
       "      <td>...</td>\n",
       "      <td>0</td>\n",
       "      <td>0</td>\n",
       "      <td>0</td>\n",
       "      <td>0</td>\n",
       "      <td>0</td>\n",
       "      <td>0</td>\n",
       "      <td>0</td>\n",
       "      <td>0</td>\n",
       "      <td>0</td>\n",
       "      <td>0</td>\n",
       "    </tr>\n",
       "  </tbody>\n",
       "</table>\n",
       "<p>96 rows × 49 columns</p>\n",
       "</div>"
      ],
      "text/plain": [
       "      Unnamed: 0                               Title  MAL Id Type  \\\n",
       "0              0    Fullmetal Alchemist: Brotherhood    5114   TV   \n",
       "2              2                         Steins;Gate    9253   TV   \n",
       "4              4  Shingeki no Kyojin Season 3 Part 2   38524   TV   \n",
       "8              8              Hunter x Hunter (2011)   11061   TV   \n",
       "18            18  Code Geass: Hangyaku no Lelouch R2    2904   TV   \n",
       "...          ...                                 ...     ...  ...   \n",
       "2840        2840                    Sword Art Online   11757   TV   \n",
       "2964        2964                  Deadman Wonderland    6880   TV   \n",
       "3342        3342              Highschool of the Dead    8074   TV   \n",
       "3633        3633                      Tokyo Ghoul √A   27899   TV   \n",
       "4972        4972                 Sword Art Online II   21881   TV   \n",
       "\n",
       "      Number of Episodes Episode Duration         Studios Source Type  \\\n",
       "0                     64  24 min. per ep.           Bones       Manga   \n",
       "2                     24  24 min. per ep.       White Fox      Visual   \n",
       "4                     10  23 min. per ep.      Wit Studio       Manga   \n",
       "8                    148  23 min. per ep.        Madhouse       Manga   \n",
       "18                    25  24 min. per ep.         Sunrise    Original   \n",
       "...                  ...              ...             ...         ...   \n",
       "2840                  25  23 min. per ep.    A-1 Pictures       Light   \n",
       "2964                  12  24 min. per ep.        Manglobe       Manga   \n",
       "3342                  12  24 min. per ep.        Madhouse       Manga   \n",
       "3633                  12  24 min. per ep.  Studio Pierrot       Manga   \n",
       "4972                  24  23 min. per ep.    A-1 Pictures       Light   \n",
       "\n",
       "                                        Genres                      Themes  \\\n",
       "0        Action,Adventure,Comedy,Drama,Fantasy                         N\\A   \n",
       "2                        Drama,Sci-Fi,Suspense                         N\\A   \n",
       "4                 Action,Drama,Fantasy,Mystery        Military,Super Power   \n",
       "8                     Action,Adventure,Fantasy                         N\\A   \n",
       "18                         Action,Drama,Sci-Fi  Mecha,Military,Super Power   \n",
       "...                                        ...                         ...   \n",
       "2840          Action,Adventure,Fantasy,Romance                         N\\A   \n",
       "2964         Action,Horror,Sci-Fi,Supernatural                         N\\A   \n",
       "3342          Action,Horror,Supernatural,Ecchi                         N\\A   \n",
       "3633  Action,Drama,Horror,Mystery,Supernatural                         N\\A   \n",
       "4972          Action,Adventure,Fantasy,Romance                         N\\A   \n",
       "\n",
       "      ... TV  Movie  OVA ONA  Special  Shounen  Shoujo  Seinen  Josei  Kids  \n",
       "0     ...  0      0    0   0        0        0       0       0      0     0  \n",
       "2     ...  0      0    0   0        0        0       0       0      0     0  \n",
       "4     ...  0      0    0   0        0        0       0       0      0     0  \n",
       "8     ...  0      0    0   0        0        0       0       0      0     0  \n",
       "18    ...  0      0    0   0        0        0       0       0      0     0  \n",
       "...   ... ..    ...  ...  ..      ...      ...     ...     ...    ...   ...  \n",
       "2840  ...  0      0    0   0        0        0       0       0      0     0  \n",
       "2964  ...  0      0    0   0        0        0       0       0      0     0  \n",
       "3342  ...  0      0    0   0        0        0       0       0      0     0  \n",
       "3633  ...  0      0    0   0        0        0       0       0      0     0  \n",
       "4972  ...  0      0    0   0        0        0       0       0      0     0  \n",
       "\n",
       "[96 rows x 49 columns]"
      ]
     },
     "execution_count": 2872,
     "metadata": {},
     "output_type": "execute_result"
    }
   ],
   "source": [
    "df_highpop = df[df['Popularity']<100]\n",
    "df_highpop"
   ]
  },
  {
   "cell_type": "code",
   "execution_count": 2873,
   "metadata": {},
   "outputs": [
    {
     "data": {
      "text/plain": [
       "<AxesSubplot:title={'center':'Source and the Number of Published Anime for High Popularity Anime'}>"
      ]
     },
     "execution_count": 2873,
     "metadata": {},
     "output_type": "execute_result"
    },
    {
     "data": {
      "image/png": "[encoded data removed]",
      "text/plain": [
       "<Figure size 432x288 with 1 Axes>"
      ]
     },
     "metadata": {
      "needs_background": "light"
     },
     "output_type": "display_data"
    }
   ],
   "source": [
    "plt.title('Source and the Number of Published Anime for High Popularity Anime')\n",
    "source_appearances = df_highpop['Source Type'].value_counts()\n",
    "source_appearances[source_appearances>0].plot(kind = 'bar')"
   ]
  },
  {
   "cell_type": "code",
   "execution_count": 2874,
   "metadata": {},
   "outputs": [
    {
     "data": {
      "text/html": [
       "<div>\n",
       "<style scoped>\n",
       "    .dataframe tbody tr th:only-of-type {\n",
       "        vertical-align: middle;\n",
       "    }\n",
       "\n",
       "    .dataframe tbody tr th {\n",
       "        vertical-align: top;\n",
       "    }\n",
       "\n",
       "    .dataframe thead th {\n",
       "        text-align: right;\n",
       "    }\n",
       "</style>\n",
       "<table border=\"1\" class=\"dataframe\">\n",
       "  <thead>\n",
       "    <tr style=\"text-align: right;\">\n",
       "      <th></th>\n",
       "      <th>Unnamed: 0</th>\n",
       "      <th>Title</th>\n",
       "      <th>MAL Id</th>\n",
       "      <th>Type</th>\n",
       "      <th>Number of Episodes</th>\n",
       "      <th>Episode Duration</th>\n",
       "      <th>Studios</th>\n",
       "      <th>Source Type</th>\n",
       "      <th>Genres</th>\n",
       "      <th>Themes</th>\n",
       "      <th>...</th>\n",
       "      <th>TV</th>\n",
       "      <th>Movie</th>\n",
       "      <th>OVA</th>\n",
       "      <th>ONA</th>\n",
       "      <th>Special</th>\n",
       "      <th>Shounen</th>\n",
       "      <th>Shoujo</th>\n",
       "      <th>Seinen</th>\n",
       "      <th>Josei</th>\n",
       "      <th>Kids</th>\n",
       "    </tr>\n",
       "  </thead>\n",
       "  <tbody>\n",
       "    <tr>\n",
       "      <th>0</th>\n",
       "      <td>0</td>\n",
       "      <td>Fullmetal Alchemist: Brotherhood</td>\n",
       "      <td>5114</td>\n",
       "      <td>TV</td>\n",
       "      <td>64</td>\n",
       "      <td>24 min. per ep.</td>\n",
       "      <td>Bones</td>\n",
       "      <td>Manga</td>\n",
       "      <td>Action,Adventure,Comedy,Drama,Fantasy</td>\n",
       "      <td>N\\A</td>\n",
       "      <td>...</td>\n",
       "      <td>0</td>\n",
       "      <td>0</td>\n",
       "      <td>0</td>\n",
       "      <td>0</td>\n",
       "      <td>0</td>\n",
       "      <td>0</td>\n",
       "      <td>0</td>\n",
       "      <td>0</td>\n",
       "      <td>0</td>\n",
       "      <td>0</td>\n",
       "    </tr>\n",
       "    <tr>\n",
       "      <th>1</th>\n",
       "      <td>1</td>\n",
       "      <td>Shingeki no Kyojin: The Final Season Part 2</td>\n",
       "      <td>48583</td>\n",
       "      <td>TV</td>\n",
       "      <td>12</td>\n",
       "      <td>23 min. per ep.</td>\n",
       "      <td>MAPPA</td>\n",
       "      <td>Manga</td>\n",
       "      <td>Action,Drama,Fantasy,Mystery</td>\n",
       "      <td>Military,Super Power</td>\n",
       "      <td>...</td>\n",
       "      <td>0</td>\n",
       "      <td>0</td>\n",
       "      <td>0</td>\n",
       "      <td>0</td>\n",
       "      <td>0</td>\n",
       "      <td>0</td>\n",
       "      <td>0</td>\n",
       "      <td>0</td>\n",
       "      <td>0</td>\n",
       "      <td>0</td>\n",
       "    </tr>\n",
       "    <tr>\n",
       "      <th>2</th>\n",
       "      <td>2</td>\n",
       "      <td>Steins;Gate</td>\n",
       "      <td>9253</td>\n",
       "      <td>TV</td>\n",
       "      <td>24</td>\n",
       "      <td>24 min. per ep.</td>\n",
       "      <td>White Fox</td>\n",
       "      <td>Visual</td>\n",
       "      <td>Drama,Sci-Fi,Suspense</td>\n",
       "      <td>N\\A</td>\n",
       "      <td>...</td>\n",
       "      <td>0</td>\n",
       "      <td>0</td>\n",
       "      <td>0</td>\n",
       "      <td>0</td>\n",
       "      <td>0</td>\n",
       "      <td>0</td>\n",
       "      <td>0</td>\n",
       "      <td>0</td>\n",
       "      <td>0</td>\n",
       "      <td>0</td>\n",
       "    </tr>\n",
       "    <tr>\n",
       "      <th>3</th>\n",
       "      <td>3</td>\n",
       "      <td>Gintama°</td>\n",
       "      <td>28977</td>\n",
       "      <td>TV</td>\n",
       "      <td>51</td>\n",
       "      <td>24 min. per ep.</td>\n",
       "      <td>Bandai Namco Pictures</td>\n",
       "      <td>Manga</td>\n",
       "      <td>Action,Comedy,Sci-Fi</td>\n",
       "      <td>Historical,Parody,Samurai</td>\n",
       "      <td>...</td>\n",
       "      <td>0</td>\n",
       "      <td>0</td>\n",
       "      <td>0</td>\n",
       "      <td>0</td>\n",
       "      <td>0</td>\n",
       "      <td>0</td>\n",
       "      <td>0</td>\n",
       "      <td>0</td>\n",
       "      <td>0</td>\n",
       "      <td>0</td>\n",
       "    </tr>\n",
       "    <tr>\n",
       "      <th>4</th>\n",
       "      <td>4</td>\n",
       "      <td>Shingeki no Kyojin Season 3 Part 2</td>\n",
       "      <td>38524</td>\n",
       "      <td>TV</td>\n",
       "      <td>10</td>\n",
       "      <td>23 min. per ep.</td>\n",
       "      <td>Wit Studio</td>\n",
       "      <td>Manga</td>\n",
       "      <td>Action,Drama,Fantasy,Mystery</td>\n",
       "      <td>Military,Super Power</td>\n",
       "      <td>...</td>\n",
       "      <td>0</td>\n",
       "      <td>0</td>\n",
       "      <td>0</td>\n",
       "      <td>0</td>\n",
       "      <td>0</td>\n",
       "      <td>0</td>\n",
       "      <td>0</td>\n",
       "      <td>0</td>\n",
       "      <td>0</td>\n",
       "      <td>0</td>\n",
       "    </tr>\n",
       "    <tr>\n",
       "      <th>...</th>\n",
       "      <td>...</td>\n",
       "      <td>...</td>\n",
       "      <td>...</td>\n",
       "      <td>...</td>\n",
       "      <td>...</td>\n",
       "      <td>...</td>\n",
       "      <td>...</td>\n",
       "      <td>...</td>\n",
       "      <td>...</td>\n",
       "      <td>...</td>\n",
       "      <td>...</td>\n",
       "      <td>...</td>\n",
       "      <td>...</td>\n",
       "      <td>...</td>\n",
       "      <td>...</td>\n",
       "      <td>...</td>\n",
       "      <td>...</td>\n",
       "      <td>...</td>\n",
       "      <td>...</td>\n",
       "      <td>...</td>\n",
       "      <td>...</td>\n",
       "    </tr>\n",
       "    <tr>\n",
       "      <th>9144</th>\n",
       "      <td>9144</td>\n",
       "      <td>Taboo Tattoo</td>\n",
       "      <td>29758</td>\n",
       "      <td>TV</td>\n",
       "      <td>12</td>\n",
       "      <td>24 min. per ep.</td>\n",
       "      <td>J.C.Staff</td>\n",
       "      <td>Manga</td>\n",
       "      <td>Action,Mystery,Supernatural</td>\n",
       "      <td>Martial Arts,Super Power</td>\n",
       "      <td>...</td>\n",
       "      <td>0</td>\n",
       "      <td>0</td>\n",
       "      <td>0</td>\n",
       "      <td>0</td>\n",
       "      <td>0</td>\n",
       "      <td>0</td>\n",
       "      <td>0</td>\n",
       "      <td>0</td>\n",
       "      <td>0</td>\n",
       "      <td>0</td>\n",
       "    </tr>\n",
       "    <tr>\n",
       "      <th>9177</th>\n",
       "      <td>9177</td>\n",
       "      <td>Dokyuu Hentai HxEros</td>\n",
       "      <td>40623</td>\n",
       "      <td>TV</td>\n",
       "      <td>12</td>\n",
       "      <td>23 min. per ep.</td>\n",
       "      <td>Project No.9</td>\n",
       "      <td>Manga</td>\n",
       "      <td>Action,Comedy,Supernatural,Ecchi</td>\n",
       "      <td>N\\A</td>\n",
       "      <td>...</td>\n",
       "      <td>0</td>\n",
       "      <td>0</td>\n",
       "      <td>0</td>\n",
       "      <td>0</td>\n",
       "      <td>0</td>\n",
       "      <td>0</td>\n",
       "      <td>0</td>\n",
       "      <td>0</td>\n",
       "      <td>0</td>\n",
       "      <td>0</td>\n",
       "    </tr>\n",
       "    <tr>\n",
       "      <th>9272</th>\n",
       "      <td>9272</td>\n",
       "      <td>Sin: Nanatsu no Taizai</td>\n",
       "      <td>33834</td>\n",
       "      <td>TV</td>\n",
       "      <td>12</td>\n",
       "      <td>23 min. per ep.</td>\n",
       "      <td>Artland,TNK</td>\n",
       "      <td>Other</td>\n",
       "      <td>Fantasy,Ecchi</td>\n",
       "      <td>N\\A</td>\n",
       "      <td>...</td>\n",
       "      <td>0</td>\n",
       "      <td>0</td>\n",
       "      <td>0</td>\n",
       "      <td>0</td>\n",
       "      <td>0</td>\n",
       "      <td>0</td>\n",
       "      <td>0</td>\n",
       "      <td>0</td>\n",
       "      <td>0</td>\n",
       "      <td>0</td>\n",
       "    </tr>\n",
       "    <tr>\n",
       "      <th>9462</th>\n",
       "      <td>9462</td>\n",
       "      <td>Kenja no Deshi wo Nanoru Kenja</td>\n",
       "      <td>42072</td>\n",
       "      <td>TV</td>\n",
       "      <td>12</td>\n",
       "      <td>23 min. per ep.</td>\n",
       "      <td>Studio A-CAT</td>\n",
       "      <td>Light</td>\n",
       "      <td>Adventure,Fantasy</td>\n",
       "      <td>N\\A</td>\n",
       "      <td>...</td>\n",
       "      <td>0</td>\n",
       "      <td>0</td>\n",
       "      <td>0</td>\n",
       "      <td>0</td>\n",
       "      <td>0</td>\n",
       "      <td>0</td>\n",
       "      <td>0</td>\n",
       "      <td>0</td>\n",
       "      <td>0</td>\n",
       "      <td>0</td>\n",
       "    </tr>\n",
       "    <tr>\n",
       "      <th>9469</th>\n",
       "      <td>9469</td>\n",
       "      <td>Scarlet Nexus</td>\n",
       "      <td>48492</td>\n",
       "      <td>TV</td>\n",
       "      <td>26</td>\n",
       "      <td>24 min. per ep.</td>\n",
       "      <td>Sunrise</td>\n",
       "      <td>Game</td>\n",
       "      <td>Action,Sci-Fi</td>\n",
       "      <td>Military,Super Power</td>\n",
       "      <td>...</td>\n",
       "      <td>0</td>\n",
       "      <td>0</td>\n",
       "      <td>0</td>\n",
       "      <td>0</td>\n",
       "      <td>0</td>\n",
       "      <td>0</td>\n",
       "      <td>0</td>\n",
       "      <td>0</td>\n",
       "      <td>0</td>\n",
       "      <td>0</td>\n",
       "    </tr>\n",
       "  </tbody>\n",
       "</table>\n",
       "<p>2177 rows × 49 columns</p>\n",
       "</div>"
      ],
      "text/plain": [
       "      Unnamed: 0                                        Title  MAL Id Type  \\\n",
       "0              0             Fullmetal Alchemist: Brotherhood    5114   TV   \n",
       "1              1  Shingeki no Kyojin: The Final Season Part 2   48583   TV   \n",
       "2              2                                  Steins;Gate    9253   TV   \n",
       "3              3                                     Gintama°   28977   TV   \n",
       "4              4           Shingeki no Kyojin Season 3 Part 2   38524   TV   \n",
       "...          ...                                          ...     ...  ...   \n",
       "9144        9144                                 Taboo Tattoo   29758   TV   \n",
       "9177        9177                         Dokyuu Hentai HxEros   40623   TV   \n",
       "9272        9272                       Sin: Nanatsu no Taizai   33834   TV   \n",
       "9462        9462               Kenja no Deshi wo Nanoru Kenja   42072   TV   \n",
       "9469        9469                                Scarlet Nexus   48492   TV   \n",
       "\n",
       "      Number of Episodes Episode Duration                Studios Source Type  \\\n",
       "0                     64  24 min. per ep.                  Bones       Manga   \n",
       "1                     12  23 min. per ep.                  MAPPA       Manga   \n",
       "2                     24  24 min. per ep.              White Fox      Visual   \n",
       "3                     51  24 min. per ep.  Bandai Namco Pictures       Manga   \n",
       "4                     10  23 min. per ep.             Wit Studio       Manga   \n",
       "...                  ...              ...                    ...         ...   \n",
       "9144                  12  24 min. per ep.              J.C.Staff       Manga   \n",
       "9177                  12  23 min. per ep.           Project No.9       Manga   \n",
       "9272                  12  23 min. per ep.            Artland,TNK       Other   \n",
       "9462                  12  23 min. per ep.           Studio A-CAT       Light   \n",
       "9469                  26  24 min. per ep.                Sunrise        Game   \n",
       "\n",
       "                                     Genres                     Themes  ...  \\\n",
       "0     Action,Adventure,Comedy,Drama,Fantasy                        N\\A  ...   \n",
       "1              Action,Drama,Fantasy,Mystery       Military,Super Power  ...   \n",
       "2                     Drama,Sci-Fi,Suspense                        N\\A  ...   \n",
       "3                      Action,Comedy,Sci-Fi  Historical,Parody,Samurai  ...   \n",
       "4              Action,Drama,Fantasy,Mystery       Military,Super Power  ...   \n",
       "...                                     ...                        ...  ...   \n",
       "9144            Action,Mystery,Supernatural   Martial Arts,Super Power  ...   \n",
       "9177       Action,Comedy,Supernatural,Ecchi                        N\\A  ...   \n",
       "9272                          Fantasy,Ecchi                        N\\A  ...   \n",
       "9462                      Adventure,Fantasy                        N\\A  ...   \n",
       "9469                          Action,Sci-Fi       Military,Super Power  ...   \n",
       "\n",
       "     TV  Movie  OVA ONA  Special  Shounen  Shoujo  Seinen  Josei  Kids  \n",
       "0     0      0    0   0        0        0       0       0      0     0  \n",
       "1     0      0    0   0        0        0       0       0      0     0  \n",
       "2     0      0    0   0        0        0       0       0      0     0  \n",
       "3     0      0    0   0        0        0       0       0      0     0  \n",
       "4     0      0    0   0        0        0       0       0      0     0  \n",
       "...  ..    ...  ...  ..      ...      ...     ...     ...    ...   ...  \n",
       "9144  0      0    0   0        0        0       0       0      0     0  \n",
       "9177  0      0    0   0        0        0       0       0      0     0  \n",
       "9272  0      0    0   0        0        0       0       0      0     0  \n",
       "9462  0      0    0   0        0        0       0       0      0     0  \n",
       "9469  0      0    0   0        0        0       0       0      0     0  \n",
       "\n",
       "[2177 rows x 49 columns]"
      ]
     },
     "execution_count": 2874,
     "metadata": {},
     "output_type": "execute_result"
    }
   ],
   "source": [
    "df_lowpop = df[df['Popularity']<2500]\n",
    "df_lowpop"
   ]
  },
  {
   "cell_type": "code",
   "execution_count": 2875,
   "metadata": {},
   "outputs": [
    {
     "data": {
      "text/plain": [
       "<AxesSubplot:title={'center':'Source and the Number of Published Anime for Low Popularity Anime'}>"
      ]
     },
     "execution_count": 2875,
     "metadata": {},
     "output_type": "execute_result"
    },
    {
     "data": {
      "image/png": "[encoded data removed]",
      "text/plain": [
       "<Figure size 432x288 with 1 Axes>"
      ]
     },
     "metadata": {
      "needs_background": "light"
     },
     "output_type": "display_data"
    }
   ],
   "source": [
    "plt.title('Source and the Number of Published Anime for Low Popularity Anime')\n",
    "source_appearances = df_lowpop['Source Type'].value_counts()\n",
    "source_appearances.plot(kind = 'bar')"
   ]
  },
  {
   "cell_type": "code",
   "execution_count": 2876,
   "metadata": {},
   "outputs": [],
   "source": [
    "#plt.title('Genres and the Number of Published Anime for High Popularity Anime')\n",
    "#genre_appearances = df_highpop.Genres.value_counts()\n",
    "#genre_appearances[genre_appearances > 7.5].plot(kind = 'bar')"
   ]
  },
  {
   "cell_type": "markdown",
   "metadata": {},
   "source": [
    "## Models ##"
   ]
  },
  {
   "cell_type": "markdown",
   "metadata": {},
   "source": [
    "First of all we will split the data into a training set and a final test set."
   ]
  },
  {
   "cell_type": "code",
   "execution_count": 2877,
   "metadata": {},
   "outputs": [],
   "source": [
    "from sklearn.model_selection import train_test_split\n",
    "\n",
    "x = df.drop(['Title', 'Episode Duration', 'Genres', 'Themes', 'Popularity'], axis=1)\n",
    "x = x.drop(['Studios', 'Source Type', 'Type', 'Rating', 'Demographic', 'MAL Id'], axis=1)\n",
    "y = df[['Popularity']]\n",
    "\n",
    "x_train, x_test, y_train, y_test = train_test_split(x, y, test_size=0.3)"
   ]
  },
  {
   "cell_type": "markdown",
   "metadata": {},
   "source": [
    "### Dummies ###\n",
    "To be able to truly understand and asses our models’ performance, we would need to establish a baseline for the data that we have. For that we would use a Dummy Model that doesn't try and find patterns in the given data. <br>\n",
    "Lets run a dummy model to get our baseline:"
   ]
  },
  {
   "cell_type": "code",
   "execution_count": 2878,
   "metadata": {},
   "outputs": [],
   "source": [
    "from sklearn.dummy import DummyRegressor"
   ]
  },
  {
   "cell_type": "code",
   "execution_count": 2879,
   "metadata": {},
   "outputs": [
    {
     "name": "stdout",
     "output_type": "stream",
     "text": [
      "Dummy's Score: 0.004833827803518931\n"
     ]
    }
   ],
   "source": [
    "dummy_regr = DummyRegressor(strategy=\"mean\")\n",
    "score = abs(np.median(cross_val_score(dummy_regr, x_train, y_train, cv=30)))\n",
    "\n",
    "print('Dummy\\'s Score: {}'.format(score))"
   ]
  },
  {
   "cell_type": "markdown",
   "metadata": {},
   "source": [
    "### K Nearest Neighbor ###\n",
    "K nearest neighbor is a relatively simple algorithm that is built around the concept that similar, or close, data would give similar results. In other words, similar things are near to each other.\n",
    "The algorithm would search for the K nearest points (in the train sample) on the x axises and predicts that the y value would be a combination of those k point's y value."
   ]
  },
  {
   "cell_type": "code",
   "execution_count": 2880,
   "metadata": {},
   "outputs": [],
   "source": [
    "from sklearn.neighbors import KNeighborsRegressor\n",
    "from sklearn.model_selection import cross_val_score"
   ]
  },
  {
   "cell_type": "markdown",
   "metadata": {},
   "source": [
    "Lets find the most suitable K (nearest neighbors)."
   ]
  },
  {
   "cell_type": "code",
   "execution_count": 2881,
   "metadata": {},
   "outputs": [
    {
     "name": "stdout",
     "output_type": "stream",
     "text": [
      "Score: 0.3392819293534022, Best Performing K: 18\n"
     ]
    }
   ],
   "source": [
    "k_range = range(1, 101)\n",
    "\n",
    "scores = []\n",
    "for k in k_range:\n",
    "    knn = KNeighborsRegressor(n_neighbors=k)\n",
    "    score = np.median(cross_val_score(knn, x_train, y_train, cv=30))\n",
    "    scores.append(score)\n",
    "\n",
    "index = scores.index(np.max(scores))\n",
    "print('Score: {}, Best Performing K: {}'.format(np.max(scores), index))"
   ]
  },
  {
   "cell_type": "markdown",
   "metadata": {},
   "source": [
    "### Linear Regression ###\n",
    "Linear regression is a linear model, meaning it assumes that y can be calculated from a linear combination of the input variables, x, and tries to calculate that very combination."
   ]
  },
  {
   "cell_type": "code",
   "execution_count": 2882,
   "metadata": {},
   "outputs": [],
   "source": [
    "from sklearn.linear_model import LinearRegression\n",
    "from sklearn.model_selection import cross_val_score"
   ]
  },
  {
   "cell_type": "code",
   "execution_count": 2883,
   "metadata": {},
   "outputs": [
    {
     "name": "stdout",
     "output_type": "stream",
     "text": [
      "Score: 0.4847500910011247\n"
     ]
    }
   ],
   "source": [
    "regressor = LinearRegression()\n",
    "score = np.median(cross_val_score(regressor, x_train, y_train, cv=30))\n",
    "\n",
    "print('Score: {}'.format(score))"
   ]
  },
  {
   "cell_type": "markdown",
   "metadata": {},
   "source": [
    "### Decision Tree Regressor ###\n",
    "Decision Tree is a decision-making tool that uses a flowchart-like tree structure or is a model of decisions and all of their possible results, including outcomes, input costs, and utility. <br>\n",
    "The decision hierarchy would be determined by each factor's gini impurity score (lowest preferred, and would be constructed of boolean conditions. In case we find a score of 0 we would know this factor is a leaf [the end of the tree and the deciding factor]). Once the gini impurity reaches a certain threshold of irrelevance we would conclude the decision path with a final boolean decision determined by the most common result."
   ]
  },
  {
   "cell_type": "markdown",
   "metadata": {},
   "source": [
    "Import 'DecisionTreeRegressor'."
   ]
  },
  {
   "cell_type": "code",
   "execution_count": 2884,
   "metadata": {},
   "outputs": [],
   "source": [
    "from sklearn.model_selection import cross_val_score\n",
    "from sklearn.tree import DecisionTreeRegressor"
   ]
  },
  {
   "cell_type": "markdown",
   "metadata": {},
   "source": [
    "Lets find the most suitable Depth."
   ]
  },
  {
   "cell_type": "code",
   "execution_count": 2885,
   "metadata": {},
   "outputs": [
    {
     "name": "stdout",
     "output_type": "stream",
     "text": [
      "Score: 0.5605331457386544, Best Performing K: 5\n"
     ]
    }
   ],
   "source": [
    "scores = []\n",
    "\n",
    "for depth in range(1,101):\n",
    "    regressor = DecisionTreeRegressor(max_depth=depth)\n",
    "    score = np.median(cross_val_score(regressor, x_train, y_train, cv=30))\n",
    "    scores.append(score)\n",
    "\n",
    "index = scores.index(np.max(scores))\n",
    "print('Score: {}, Best Performing K: {}'.format(np.max(scores), index))"
   ]
  },
  {
   "cell_type": "markdown",
   "metadata": {},
   "source": [
    "### Random Forest Regressor ###\n",
    "A random forest is a meta estimator that fits a number of classifying decision trees on various random sub-samples of the dataset and uses averaging to improve the predictive accuracy and control over-fitting."
   ]
  },
  {
   "cell_type": "markdown",
   "metadata": {},
   "source": [
    "Import 'RandomForestRegressor'."
   ]
  },
  {
   "cell_type": "code",
   "execution_count": 2886,
   "metadata": {},
   "outputs": [],
   "source": [
    "from sklearn.model_selection import cross_val_score\n",
    "from sklearn.ensemble import RandomForestRegressor"
   ]
  },
  {
   "cell_type": "code",
   "execution_count": 2887,
   "metadata": {},
   "outputs": [
    {
     "name": "stdout",
     "output_type": "stream",
     "text": [
      "Score: 0.6530622510460337\n"
     ]
    }
   ],
   "source": [
    "regressor = RandomForestRegressor()\n",
    "score = np.median(cross_val_score(regressor, x_train, y_train, cv=30))\n",
    "\n",
    "print('Score: {}'.format(score))"
   ]
  }
 ],
 "metadata": {
  "interpreter": {
   "hash": "13427881f06f13311079f5221e5dd632fdf9146891f6da22d47a93dcb9272d3a"
  },
  "kernelspec": {
   "display_name": "Python 3.9.7 ('base')",
   "language": "python",
   "name": "python3"
  },
  "language_info": {
   "codemirror_mode": {
    "name": "ipython",
    "version": 3
   },
   "file_extension": ".py",
   "mimetype": "text/x-python",
   "name": "python",
   "nbconvert_exporter": "python",
   "pygments_lexer": "ipython3",
   "version": "3.10.1"
  },
  "orig_nbformat": 4
 },
 "nbformat": 4,
 "nbformat_minor": 2
}

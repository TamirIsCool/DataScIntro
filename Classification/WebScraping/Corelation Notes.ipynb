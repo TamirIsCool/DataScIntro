{
 "cells": [
  {
   "cell_type": "markdown",
   "metadata": {},
   "source": [
    "### Important Notes: ###\n",
    "* Anime with lower Popularity means it was ranked lower, hence it means that the anime was viewed by more people\n",
    "* During our analysis and model training we won't be using the given Score of an anime to avoid data leakage as a popular anime is more likely to have a better score\n"
   ]
  },
  {
   "cell_type": "markdown",
   "metadata": {},
   "source": [
    "\n",
    "### Important connections: (Relatively strong relations to popularity) ###\n",
    "* Year , Popularity  : (-0.35) ,  There is a strong connection between year and popularity, that shows new anime tend to be more popular (ranked lower)\n",
    "* Romance , Popularity : (-0.14) , Anime with romance genre tend to get a lower rank\n",
    "* Supernatrual , Popularity : (-0.16) , Anime with Supernatrual genre tend to get a lower rank\n",
    "* Ecchi , Popularity : (-0.12) , Anime with Ecchi genre tend to get a lower rank\n",
    "* R - 17+ (violence & profanity) , Popularity : (-0.19) , Anime with this rating tends to be lower ranked\n",
    "* G - All Ages , Popularity : (0.29) , There is a strong connection that indicates anime for all ages will be higher ranked.\n",
    "* TV , Popularity : (-0.3) , There is a strong connection between anime's rank and the fact it was aired on TV.\n",
    "* ONA , Popularity : (0.22) , There is a relatively strong conntection between anime's rank and the fact it was aired on a website.\n",
    "* Shounen , Popularity : (-0.097) , Anime with Shounen demography tend to get lower ranked.\n",
    "* Kids, Popularity : (0.13) , Anime for kids tend to be higher ranked.\n",
    "\n",
    "\n",
    "### Relatively strong connections to score ###\n",
    "* Duration , Score : (0.18) , Anime with higher duration per episode tend to get a better score\n",
    "* Drama, Score : (0.17) , Anime with Drama genre tend to get higher score.\n",
    "* Supernatrual , Score: (0.11) : Anime with supernatrual genre tend to get higher score.\n",
    "* R - 17+ (violence & profanity) , Score : (0.13) , Anime with this rating tends to get higher score\n",
    "* TV , Score : (0.1) , Anime that was aired on TV tend to get higher score.\n",
    "* Shounen, Score : (0.14) , Anime with Shounen demography tend to get higher score.\n",
    "* Kids, Score : (-0.1) , Anime for kids tend to get lower score.\n",
    "* Score , Number of Episodes : (0.073) , Anime with more episodes tend to get a greater score\n",
    "* Year , Score : (0.16) , New anime tend to recieve a greater score\n",
    " \n",
    "\n",
    "\n",
    "### Examples for expectations using the connections: ###\n",
    "We expect that an anime with the following data will be relatively lower ranked (With lower Popularity):\n",
    "* The anime was released in the last few years\n",
    "* The anime's genres are: Romance, Supernatrual , Ecchi \n",
    "* The anime is rated 17+ (violence & profanity)\n",
    "* The anime was aired on TV\n",
    "* The anime's demography is Shounen\n",
    "\n",
    "We expect that an anime with the following data will be relatively higher ranked (With higher popularity):\n",
    "* The anime was released a relatively long time ago\n",
    "* The anime's genres are: Adventure, Sci-Fi\n",
    "* The anime is rated for all ages\n",
    "* The anime was aired on a website \n",
    "* The anime demography is kids\n",
    " \n",
    "\n",
    "\n"
   ]
  }
 ],
 "metadata": {
  "language_info": {
   "name": "python"
  },
  "orig_nbformat": 4
 },
 "nbformat": 4,
 "nbformat_minor": 2
}

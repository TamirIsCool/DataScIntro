{
 "cells": [
  {
   "cell_type": "markdown",
   "id": "22fc9c37",
   "metadata": {},
   "source": [
    "## Red and White Wine Classification ##\n",
    "https://www.kaggle.com/uciml/red-wine-quality-cortez-et-al-2009 <br>\n",
    "https://www.kaggle.com/piyushagni5/white-wine-quality?select=winequality.names"
   ]
  },
  {
   "cell_type": "markdown",
   "id": "9502c1b7",
   "metadata": {},
   "source": [
    "Parameters:\n",
    " - Fixed Acidity. Most acids involved with wine or fixed or nonvolatile (do not evaporate readily).\n",
    " - Volatile Acidity. The amount of acetic acid in wine, which at too high of levels can lead to an unpleasant, vinegar taste.\n",
    " - Citric Acid. Found in small quantities, citric acid can add 'freshness' and flavor to wines.\n",
    " - Residual Sugar. The amount of sugar remaining after fermentation stops, it's rare to find wines with less than 1 gram/liter and wines with greater than 45 grams/liter are considered sweet.\n",
    " - Chlorides. The amount of salt in the wine.\n",
    " - Free Sulfur Dioxide. The free form of SO2 exists in equilibrium between molecular SO2 (as a dissolved gas) and bisulfite ion; it prevents microbial growth and the oxidation of wine.\n",
    " - Total Sulfur Dioxide. Amount of free and bound forms of S02; in low concentrations, SO2 is mostly undetectable in wine, but at free SO2 concentrations over 50 ppm, SO2 becomes evident in the nose and taste of wine.\n",
    " - Density. The density of water is close to that of water depending on the percent alcohol and sugar content.\n",
    " - pH. Describes how acidic or basic a wine is on a scale from 0 (very acidic) to 14 (very basic); most wines are between 3-4 on the pH scale.\n",
    " - Sulphates. A wine additive which can contribute to sulfur dioxide gas (S02) levels, which acts as an antimicrobial and antioxidant.\n",
    " - Alcohol. The percent alcohol content of the wine.\n",
    " - Quality. Output variable (based on sensory data, score between 0 and 10)."
   ]
  },
  {
   "cell_type": "markdown",
   "id": "d82add08",
   "metadata": {},
   "source": [
    "Importing 'pandas', 'pandas_profiling' and 'numpy' to process the dataset."
   ]
  },
  {
   "cell_type": "code",
   "execution_count": 1,
   "id": "10233916",
   "metadata": {},
   "outputs": [],
   "source": [
    "import pandas as pd\n",
    "import pandas_profiling\n",
    "import numpy as np"
   ]
  },
  {
   "cell_type": "markdown",
   "id": "798625e1",
   "metadata": {},
   "source": [
    "Importing 'matplotlib', 'scipy.stats' and 'seaborn' to visualize the data."
   ]
  },
  {
   "cell_type": "code",
   "execution_count": 2,
   "id": "0712ad8e",
   "metadata": {},
   "outputs": [],
   "source": [
    "import matplotlib.pyplot as plt\n",
    "import seaborn as sns\n",
    "from scipy.stats import norm"
   ]
  },
  {
   "cell_type": "code",
   "execution_count": 3,
   "id": "3352d42d",
   "metadata": {},
   "outputs": [],
   "source": [
    "red_wine_data = pd.read_csv(\"winequality-red.csv\")\n",
    "white_wine_data = pd.read_csv(\"winequality-white.csv\")"
   ]
  },
  {
   "cell_type": "markdown",
   "id": "72ce0c27",
   "metadata": {},
   "source": [
    "### Correlation ###\n",
    "Let us find the overall correlation between the different parameters in order to get a better idea about the relationship of similar parameters (such as 'citric acid' and 'fixed acidity') and to confirm our suspicions."
   ]
  },
  {
   "cell_type": "code",
   "execution_count": 4,
   "id": "6f3a6171",
   "metadata": {},
   "outputs": [],
   "source": [
    "def CorrelationTable(data, title):\n",
    "    # Compute the correlation matrix:\n",
    "    pandas_correlation = data.corr()\n",
    "\n",
    "    # Generating a mask for the upper triangle for a cleaner table:\n",
    "    mask = np.triu(np.ones_like(pandas_correlation, dtype=bool))\n",
    "\n",
    "    # Set up the matplotlib figure:\n",
    "    f, ax = plt.subplots(figsize=(11, 9))\n",
    "\n",
    "    # Generate a custom diverging colormap:\n",
    "    cmap = sns.diverging_palette(20, 230, as_cmap=True)\n",
    "\n",
    "    # Draw the heatmap with the mask and correct aspect ratio:\n",
    "    sns.heatmap(pandas_correlation, mask=mask, cmap=cmap, vmax=.7, center=0, square=True, linewidths=.5, cbar_kws={\"shrink\": .5}, annot=True)\n",
    "\n",
    "    # Title:\n",
    "    plt.title(title)\n",
    "\n",
    "    plt.show()"
   ]
  },
  {
   "cell_type": "code",
   "execution_count": 5,
   "id": "40409601",
   "metadata": {},
   "outputs": [
    {
     "name": "stderr",
     "output_type": "stream",
     "text": [
      "C:\\Users\\royha\\AppData\\Local\\Temp\\ipykernel_25816\\3193734460.py:20: UserWarning: Matplotlib is currently using agg, which is a non-GUI backend, so cannot show the figure.\n",
      "  plt.show()\n"
     ]
    }
   ],
   "source": [
    "CorrelationTable(white_wine_data, 'White Wine Parameters Correletion')"
   ]
  },
  {
   "cell_type": "code",
   "execution_count": 6,
   "id": "e8857e1e",
   "metadata": {},
   "outputs": [
    {
     "name": "stderr",
     "output_type": "stream",
     "text": [
      "C:\\Users\\royha\\AppData\\Local\\Temp\\ipykernel_25816\\3193734460.py:20: UserWarning: Matplotlib is currently using agg, which is a non-GUI backend, so cannot show the figure.\n",
      "  plt.show()\n"
     ]
    }
   ],
   "source": [
    "CorrelationTable(red_wine_data, 'Red Wine Parameters Correletion')"
   ]
  },
  {
   "cell_type": "markdown",
   "id": "ddbf5133",
   "metadata": {},
   "source": [
    "Lets use the Pandas Profile Report for a fast analyses:"
   ]
  },
  {
   "cell_type": "code",
   "execution_count": 8,
   "id": "18d1eafc",
   "metadata": {},
   "outputs": [
    {
     "name": "stderr",
     "output_type": "stream",
     "text": [
      "Summarize dataset: 100%|██████████| 170/170 [00:15<00:00, 10.83it/s, Completed]                                        \n",
      "Generate report structure: 100%|██████████| 1/1 [00:03<00:00,  3.02s/it]\n",
      "Render HTML: 100%|██████████| 1/1 [00:02<00:00,  2.80s/it]\n",
      "Export report to file: 100%|██████████| 1/1 [00:00<00:00, 45.45it/s]\n"
     ]
    }
   ],
   "source": [
    "red_profile = red_wine_data.profile_report(title=\"Red Wine Report\")\n",
    "red_profile.to_file(output_file=\"Red Wine Report.html\")"
   ]
  },
  {
   "cell_type": "code",
   "execution_count": 9,
   "id": "61c55198",
   "metadata": {},
   "outputs": [
    {
     "name": "stderr",
     "output_type": "stream",
     "text": [
      "Summarize dataset: 100%|██████████| 170/170 [00:12<00:00, 13.82it/s, Completed]                                        \n",
      "Generate report structure: 100%|██████████| 1/1 [00:02<00:00,  2.90s/it]\n",
      "Render HTML: 100%|██████████| 1/1 [00:02<00:00,  2.43s/it]\n",
      "Export report to file: 100%|██████████| 1/1 [00:00<00:00, 47.61it/s]\n"
     ]
    }
   ],
   "source": [
    "white_profile = white_wine_data.profile_report(title=\"White Wine Report\")\n",
    "white_profile.to_file(output_file=\"White Wine Report.html\")"
   ]
  },
  {
   "cell_type": "markdown",
   "id": "a783d61d",
   "metadata": {},
   "source": [
    "### Lets Merge The Two ###\n",
    "\n",
    "TODO: Use \"data = data.drop(data.index[range(5)])\" to make white whine's sample size similar to teh red's. (randomize it first)"
   ]
  },
  {
   "cell_type": "code",
   "execution_count": 7,
   "id": "527dda9f",
   "metadata": {},
   "outputs": [
    {
     "data": {
      "text/html": [
       "<div>\n",
       "<style scoped>\n",
       "    .dataframe tbody tr th:only-of-type {\n",
       "        vertical-align: middle;\n",
       "    }\n",
       "\n",
       "    .dataframe tbody tr th {\n",
       "        vertical-align: top;\n",
       "    }\n",
       "\n",
       "    .dataframe thead th {\n",
       "        text-align: right;\n",
       "    }\n",
       "</style>\n",
       "<table border=\"1\" class=\"dataframe\">\n",
       "  <thead>\n",
       "    <tr style=\"text-align: right;\">\n",
       "      <th></th>\n",
       "      <th>fixed acidity</th>\n",
       "      <th>volatile acidity</th>\n",
       "      <th>citric acid</th>\n",
       "      <th>residual sugar</th>\n",
       "      <th>chlorides</th>\n",
       "      <th>free sulfur dioxide</th>\n",
       "      <th>total sulfur dioxide</th>\n",
       "      <th>density</th>\n",
       "      <th>pH</th>\n",
       "      <th>sulphates</th>\n",
       "      <th>alcohol</th>\n",
       "      <th>quality</th>\n",
       "      <th>type</th>\n",
       "    </tr>\n",
       "  </thead>\n",
       "  <tbody>\n",
       "    <tr>\n",
       "      <th>4092</th>\n",
       "      <td>7.6</td>\n",
       "      <td>0.31</td>\n",
       "      <td>0.23</td>\n",
       "      <td>12.7</td>\n",
       "      <td>0.054</td>\n",
       "      <td>20.0</td>\n",
       "      <td>139.0</td>\n",
       "      <td>0.99836</td>\n",
       "      <td>3.16</td>\n",
       "      <td>0.50</td>\n",
       "      <td>9.7</td>\n",
       "      <td>4</td>\n",
       "      <td>white</td>\n",
       "    </tr>\n",
       "    <tr>\n",
       "      <th>3503</th>\n",
       "      <td>7.9</td>\n",
       "      <td>0.26</td>\n",
       "      <td>0.33</td>\n",
       "      <td>10.3</td>\n",
       "      <td>0.039</td>\n",
       "      <td>73.0</td>\n",
       "      <td>212.0</td>\n",
       "      <td>0.99690</td>\n",
       "      <td>2.93</td>\n",
       "      <td>0.49</td>\n",
       "      <td>9.5</td>\n",
       "      <td>6</td>\n",
       "      <td>white</td>\n",
       "    </tr>\n",
       "    <tr>\n",
       "      <th>4695</th>\n",
       "      <td>6.8</td>\n",
       "      <td>0.13</td>\n",
       "      <td>0.39</td>\n",
       "      <td>1.4</td>\n",
       "      <td>0.034</td>\n",
       "      <td>19.0</td>\n",
       "      <td>102.0</td>\n",
       "      <td>0.99121</td>\n",
       "      <td>3.23</td>\n",
       "      <td>0.60</td>\n",
       "      <td>11.3</td>\n",
       "      <td>7</td>\n",
       "      <td>white</td>\n",
       "    </tr>\n",
       "    <tr>\n",
       "      <th>5504</th>\n",
       "      <td>6.5</td>\n",
       "      <td>0.33</td>\n",
       "      <td>0.30</td>\n",
       "      <td>3.8</td>\n",
       "      <td>0.036</td>\n",
       "      <td>34.0</td>\n",
       "      <td>88.0</td>\n",
       "      <td>0.99028</td>\n",
       "      <td>3.25</td>\n",
       "      <td>0.63</td>\n",
       "      <td>12.5</td>\n",
       "      <td>7</td>\n",
       "      <td>white</td>\n",
       "    </tr>\n",
       "    <tr>\n",
       "      <th>3339</th>\n",
       "      <td>6.6</td>\n",
       "      <td>0.37</td>\n",
       "      <td>0.47</td>\n",
       "      <td>6.5</td>\n",
       "      <td>0.061</td>\n",
       "      <td>23.0</td>\n",
       "      <td>150.0</td>\n",
       "      <td>0.99540</td>\n",
       "      <td>3.14</td>\n",
       "      <td>0.45</td>\n",
       "      <td>9.6</td>\n",
       "      <td>6</td>\n",
       "      <td>white</td>\n",
       "    </tr>\n",
       "  </tbody>\n",
       "</table>\n",
       "</div>"
      ],
      "text/plain": [
       "      fixed acidity  volatile acidity  citric acid  residual sugar  chlorides  \\\n",
       "4092            7.6              0.31         0.23            12.7      0.054   \n",
       "3503            7.9              0.26         0.33            10.3      0.039   \n",
       "4695            6.8              0.13         0.39             1.4      0.034   \n",
       "5504            6.5              0.33         0.30             3.8      0.036   \n",
       "3339            6.6              0.37         0.47             6.5      0.061   \n",
       "\n",
       "      free sulfur dioxide  total sulfur dioxide  density    pH  sulphates  \\\n",
       "4092                 20.0                 139.0  0.99836  3.16       0.50   \n",
       "3503                 73.0                 212.0  0.99690  2.93       0.49   \n",
       "4695                 19.0                 102.0  0.99121  3.23       0.60   \n",
       "5504                 34.0                  88.0  0.99028  3.25       0.63   \n",
       "3339                 23.0                 150.0  0.99540  3.14       0.45   \n",
       "\n",
       "      alcohol  quality   type  \n",
       "4092      9.7        4  white  \n",
       "3503      9.5        6  white  \n",
       "4695     11.3        7  white  \n",
       "5504     12.5        7  white  \n",
       "3339      9.6        6  white  "
      ]
     },
     "execution_count": 7,
     "metadata": {},
     "output_type": "execute_result"
    }
   ],
   "source": [
    "red_wine_data['type'] = 'red'\n",
    "white_wine_data['type'] = 'white'\n",
    "\n",
    "wine_data = pd.concat([red_wine_data, white_wine_data], ignore_index=True).sample(frac=1)\n",
    "wine_data.head()"
   ]
  }
 ],
 "metadata": {
  "kernelspec": {
   "display_name": "Python 3 (ipykernel)",
   "language": "python",
   "name": "python3"
  },
  "language_info": {
   "codemirror_mode": {
    "name": "ipython",
    "version": 3
   },
   "file_extension": ".py",
   "mimetype": "text/x-python",
   "name": "python",
   "nbconvert_exporter": "python",
   "pygments_lexer": "ipython3",
   "version": "3.10.1"
  }
 },
 "nbformat": 4,
 "nbformat_minor": 5
}
